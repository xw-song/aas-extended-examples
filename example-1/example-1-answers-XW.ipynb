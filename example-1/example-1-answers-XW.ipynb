{
 "cells": [
  {
   "cell_type": "markdown",
   "metadata": {},
   "source": [
    "# Flipping coins with Professor Mittens\n",
    "\n",
    "In this lab we will look at the binomial distribution, central limit theorem, and analyse two data sets collected by [Professor Mittens](https://en.wikipedia.org/wiki/Mittens_(cat)) helping him interrogate the bais in the results of coin flips. Some of the questions are open-ended by design. Partial solutions will be distributed at the end of the session. The imports below are used in the provided solutions, consider these suggestions, not constraints. The answers use `altair` but you can use any plotting library you are comfortable with."
   ]
  },
  {
   "cell_type": "code",
   "execution_count": 1,
   "metadata": {},
   "outputs": [],
   "source": [
    "import pandas as pd\n",
    "from scipy import stats\n",
    "import altair as alt\n",
    "from typing import List, Any, Tuple\n",
    "from functools import reduce\n",
    "from itertools import repeat\n",
    "import math as math"
   ]
  },
  {
   "cell_type": "markdown",
   "metadata": {},
   "source": [
    "## Parameter estimation of the binomial distribution\n",
    "\n",
    "Bernoulli and binomial random variables are the typical way to represent the outcome of coin flips. Below we consider estimates of the probability of heads based on a known number of successes in a given number of trials and also a confidence interval (CI) for this based on the Wald method will be given.\n",
    "\n",
    "Let $X$ be a binomial random variable (RV) which results from the number of heads when a coin is flipped $n$ times and the probability of coming up heads is $p$. For the time being we will assume that $n$ is know. The expected value of $X$ is $np$. So a simple way to estimate $p$ is to divide the number of heads, $X$, by the number of flips, $n$. This gives the estimate \n",
    "\n",
    "$$\n",
    "\\hat{p} = X / n.\n",
    "$$\n",
    "\n",
    "It turns out that this is a very sensible thing to do. The resulting estimate is called the maximum likelihood estimate (MLE) of $p$. It is also the result that one obtains via [the method of moments](https://en.wikipedia.org/wiki/Method_of_moments_(statistics)).\n",
    "\n",
    "Given an estimator though, we want to know how confident we are in the estimate it produces. Here we will use the Wald method to get the $95\\%$ CI. It is a very simple method but is acceptable when we have a fair bit of data. The estimated standard error of $\\hat{p}$ is $\\sqrt{\\hat{p}(1-\\hat{p})/n}$, so the Wald CI is given by\n",
    "\n",
    "$$\n",
    "\\hat{p} \\pm z \\sqrt{\\frac{\\hat{p}(1-\\hat{p})}{n}}\n",
    "$$\n",
    "\n",
    "where $z$ is the appropriate quantile of the standard normal distribution. In the case of a $95\\%$ distribution this is just $1.96$.\n",
    "\n",
    "This is stated on the [wikipedia](https://en.wikipedia.org/wiki/Binomial_distribution#Estimation_of_parameters) but there is also a reasonably clear description in [All of Statistics](https://link.springer.com/book/10.1007/978-0-387-21736-9) which you can get via SOLO."
   ]
  },
  {
   "cell_type": "markdown",
   "metadata": {},
   "source": [
    "### Exercise 1 part I\n",
    "\n",
    "Professor Mittens is not very familiar with the binomial distribution and wants you to justify the estimator used above. Convince yourself that the estimate given above, $X/n$, is a sensible choice. Prove that it is either the MLE or the method of moments estimator for $p$. State the limitations on the estimator we are using for the CI."
   ]
  },
  {
   "cell_type": "markdown",
   "metadata": {},
   "source": [
    "### Partial answer\n",
    "\n",
    "- Observe that the expected number of heads is $pn$ and solve for $p$.\n",
    "- Consider each flip as a Bernoulli trial and optimise the resulting log-likelihood function\n",
    "- The Wald estimate assumes you have enough data to justify an asymptotic solution so is unlikely to be accurate for small datasets."
   ]
  },
  {
   "cell_type": "markdown",
   "metadata": {},
   "source": [
    "### Exercise 1 part II\n",
    "\n",
    "Implement a function called `wald_estimate_and_ci` which takes two arguments: `num_trials` which is $n$ in the description above, and `num_success` which is $X$ above. The function should return `(p_hat,(wald_lower,wald_upper))` where `p_hat` is $\\hat{p}$ and `wald_x` are the limits on the $95\\%$ CI using the Wald method."
   ]
  },
  {
   "cell_type": "code",
   "execution_count": 2,
   "metadata": {},
   "outputs": [
    {
     "name": "stdout",
     "output_type": "stream",
     "text": [
      "(0.5, (0.19009678930349883, 0.8099032106965012))\n"
     ]
    }
   ],
   "source": [
    "CI = Tuple[float,float]\n",
    "EstimateAndCI = Tuple[float,CI]\n",
    "\n",
    "# the -> is to help you know that it is an EstimateAndCI later\n",
    "\n",
    "def wald_estimate_and_ci(num_trials: int, num_success: int) -> EstimateAndCI:\n",
    "    p_hat = num_success / num_trials\n",
    "    z = 1.96\n",
    "    delta = z * math.sqrt(p_hat * (1 - p_hat) / num_trials)\n",
    "    return (p_hat,(p_hat - delta, p_hat + delta))\n",
    "\n",
    "print(wald_estimate_and_ci(10,5))"
   ]
  },
  {
   "cell_type": "markdown",
   "metadata": {},
   "source": [
    "### Exercise 2 part I\n",
    "\n",
    "Look up how to simulate a random variable from a binomial distribution (it tells you [here](https://docs.scipy.org/doc/scipy/reference/generated/scipy.stats.binom.html#scipy.stats.binom) if you want to use `scipy`). Then simulate a binomial random variable with $n=100$ and $p=0.6$. Then use the value and the `wald_estimate_and_ci` function to see how well you can estimate $p$. Write a couple of sentences to explain this.\n",
    "\n",
    "### Exercise 2 part II\n",
    "\n",
    "Repeat the process about 100000 times and see what proportion of the CIs capture the true value of $p$. Is it what you expect? Write a couple of sentences to explain what you found."
   ]
  },
  {
   "cell_type": "code",
   "execution_count": 3,
   "metadata": {},
   "outputs": [
    {
     "data": {
      "text/plain": [
       "0.94877"
      ]
     },
     "execution_count": 3,
     "metadata": {},
     "output_type": "execute_result"
    }
   ],
   "source": [
    "rand_xs = stats.binom.rvs(n = 100, p = 0.6, size = 100000)\n",
    "\n",
    "def ci_contains_value(ci: CI, p: float) -> bool:\n",
    "    lower,upper = ci\n",
    "    return lower < p and p < upper\n",
    "\n",
    "p_in_ci_bools = [ci_contains_value(wald_estimate_and_ci(100, x)[1], 0.6) for x in rand_xs]\n",
    "\n",
    "reduce(lambda a, b: a + 1 if b else a, p_in_ci_bools, 0) / 100000"
   ]
  },
  {
   "cell_type": "markdown",
   "metadata": {},
   "source": [
    "### Exercise 2 part III\n",
    "\n",
    "Are credible intervals and confidence intervals the same thing?"
   ]
  },
  {
   "cell_type": "markdown",
   "metadata": {},
   "source": [
    "### Partial answer\n",
    "\n",
    "No confidence intervals are talk about repeated experiments in frequentist statistics while credible intervals talk about posterior probability in Bayesian statistics."
   ]
  },
  {
   "cell_type": "markdown",
   "metadata": {},
   "source": [
    "## Central limit theorem\n",
    "\n",
    "The central limit theorem tells us about the limiting distribution of the sample mean for distribution for an IID sample with a finite variance. It underpins many results in statistics and is important for reasoning about stochastic processes.\n",
    "\n",
    "### Exercise 3 part I\n",
    "\n",
    "Professor Mittens *really* likes to sound fancy and use the name of important theorems. Write down a statement of the law of large numbers. Write down a statement of the central limit theorem. Make sure you understand what each of them tells you."
   ]
  },
  {
   "cell_type": "markdown",
   "metadata": {},
   "source": [
    "**XWANS**\n",
    "\n",
    "Law of large numbers: As your sample gets really large, your average gets really accurate and converges to the true mean\n",
    "\n",
    "CLT: tells us about the rate of these conversions. It quantifies how much the sample average is going to fluctuate from the true value. "
   ]
  },
  {
   "cell_type": "markdown",
   "metadata": {},
   "source": [
    "### Partial answer\n",
    "\n",
    "- $\\hat{X}$ converges to $\\mu$.\n",
    "- $\\sqrt{n}(\\hat{X} - \\mu) / \\sigma$ converges in distribution to the standard normal distribution as the sample size increases.\n",
    "- The LLN tells you what the limiting value is, the CLT tells you about how about the fluctuations."
   ]
  },
  {
   "cell_type": "markdown",
   "metadata": {},
   "source": [
    "### Exercise 3 part II\n",
    "\n",
    "To see that the distribution of the sample mean converges to a normal distribution we will do a simulation study and compare the results with a Q-Q plot to see if it looks normally distributed. This will also demonstrate how to construct a Q-Q plot from first principles, not that you really want to do that. Carry out the following steps:\n",
    "\n",
    "1. Write down the distribution of the sample mean given an IID sample of exponential random variables\n",
    "2. Generate 100 sample means each based on a sample of 100 exponential random variables\n",
    "3. Make a histogram and a Q-Q plot to see if the sample means do appear to follow a normal distribution"
   ]
  },
  {
   "cell_type": "code",
   "execution_count": 4,
   "metadata": {},
   "outputs": [],
   "source": [
    "sample_size = 1000\n",
    "num_replicates = 1000\n",
    "\n",
    "sample_means = [stats.expon.rvs(scale = 5, size = sample_size).mean() for _ in range(num_replicates)]\n",
    "\n",
    "plot_df = pd.DataFrame({\"sample_mean\": sample_means})\n",
    "\n",
    "mesh_size = 100\n",
    "x_vals = [0.02 * ix + 4 for ix in range(0,mesh_size)]\n",
    "\n",
    "clt_scale = 5 / math.sqrt(sample_size)\n",
    "\n",
    "clt_pdf = [mesh_size * stats.norm.pdf(x, loc = 5, scale = clt_scale) for x in x_vals]\n",
    "clt_df = pd.DataFrame({\"x\": x_vals, \"pdf\": clt_pdf})"
   ]
  },
  {
   "cell_type": "code",
   "execution_count": 5,
   "metadata": {},
   "outputs": [
    {
     "data": {
      "text/html": [
       "\n",
       "<div id=\"altair-viz-4186e54104e04ec5bdf99784a4fa16c5\"></div>\n",
       "<script type=\"text/javascript\">\n",
       "  (function(spec, embedOpt){\n",
       "    let outputDiv = document.currentScript.previousElementSibling;\n",
       "    if (outputDiv.id !== \"altair-viz-4186e54104e04ec5bdf99784a4fa16c5\") {\n",
       "      outputDiv = document.getElementById(\"altair-viz-4186e54104e04ec5bdf99784a4fa16c5\");\n",
       "    }\n",
       "    const paths = {\n",
       "      \"vega\": \"https://cdn.jsdelivr.net/npm//vega@5?noext\",\n",
       "      \"vega-lib\": \"https://cdn.jsdelivr.net/npm//vega-lib?noext\",\n",
       "      \"vega-lite\": \"https://cdn.jsdelivr.net/npm//vega-lite@4.8.1?noext\",\n",
       "      \"vega-embed\": \"https://cdn.jsdelivr.net/npm//vega-embed@6?noext\",\n",
       "    };\n",
       "\n",
       "    function loadScript(lib) {\n",
       "      return new Promise(function(resolve, reject) {\n",
       "        var s = document.createElement('script');\n",
       "        s.src = paths[lib];\n",
       "        s.async = true;\n",
       "        s.onload = () => resolve(paths[lib]);\n",
       "        s.onerror = () => reject(`Error loading script: ${paths[lib]}`);\n",
       "        document.getElementsByTagName(\"head\")[0].appendChild(s);\n",
       "      });\n",
       "    }\n",
       "\n",
       "    function showError(err) {\n",
       "      outputDiv.innerHTML = `<div class=\"error\" style=\"color:red;\">${err}</div>`;\n",
       "      throw err;\n",
       "    }\n",
       "\n",
       "    function displayChart(vegaEmbed) {\n",
       "      vegaEmbed(outputDiv, spec, embedOpt)\n",
       "        .catch(err => showError(`Javascript Error: ${err.message}<br>This usually means there's a typo in your chart specification. See the javascript console for the full traceback.`));\n",
       "    }\n",
       "\n",
       "    if(typeof define === \"function\" && define.amd) {\n",
       "      requirejs.config({paths});\n",
       "      require([\"vega-embed\"], displayChart, err => showError(`Error loading script: ${err.message}`));\n",
       "    } else if (typeof vegaEmbed === \"function\") {\n",
       "      displayChart(vegaEmbed);\n",
       "    } else {\n",
       "      loadScript(\"vega\")\n",
       "        .then(() => loadScript(\"vega-lite\"))\n",
       "        .then(() => loadScript(\"vega-embed\"))\n",
       "        .catch(showError)\n",
       "        .then(() => displayChart(vegaEmbed));\n",
       "    }\n",
       "  })({\"config\": {\"view\": {\"continuousWidth\": 400, \"continuousHeight\": 300}}, \"layer\": [{\"data\": {\"name\": \"data-176671f080596b693c9d1964d5328d64\"}, \"mark\": \"bar\", \"encoding\": {\"x\": {\"type\": \"quantitative\", \"bin\": {\"step\": 0.1}, \"field\": \"sample_mean\"}, \"y\": {\"type\": \"quantitative\", \"aggregate\": \"count\"}}}, {\"data\": {\"name\": \"data-d11c7646668d096f96fe9a781f61b4d2\"}, \"mark\": {\"type\": \"line\", \"color\": \"red\"}, \"encoding\": {\"x\": {\"type\": \"quantitative\", \"field\": \"x\"}, \"y\": {\"type\": \"quantitative\", \"field\": \"pdf\"}}}], \"$schema\": \"https://vega.github.io/schema/vega-lite/v4.8.1.json\", \"datasets\": {\"data-176671f080596b693c9d1964d5328d64\": [{\"sample_mean\": 4.922305054496562}, {\"sample_mean\": 4.861156366729275}, {\"sample_mean\": 4.860945532375518}, {\"sample_mean\": 5.254106778469115}, {\"sample_mean\": 5.244097275702249}, {\"sample_mean\": 4.910370124100369}, {\"sample_mean\": 4.830072560818288}, {\"sample_mean\": 4.819427233580791}, {\"sample_mean\": 5.072447478007185}, {\"sample_mean\": 5.336734842221504}, {\"sample_mean\": 5.0440679374226765}, {\"sample_mean\": 5.072011741278116}, {\"sample_mean\": 4.922658543314272}, {\"sample_mean\": 5.311865833210082}, {\"sample_mean\": 4.942968717039201}, {\"sample_mean\": 4.69562216990834}, {\"sample_mean\": 5.059206215808508}, {\"sample_mean\": 4.757188393963315}, {\"sample_mean\": 4.922562411476185}, {\"sample_mean\": 4.745295287821291}, {\"sample_mean\": 4.9739228285644}, {\"sample_mean\": 4.676564697877909}, {\"sample_mean\": 4.85779640083345}, {\"sample_mean\": 4.913853319279262}, {\"sample_mean\": 4.901293358085319}, {\"sample_mean\": 4.79328943048472}, {\"sample_mean\": 5.002510101491893}, {\"sample_mean\": 4.954160483433087}, {\"sample_mean\": 5.105060137398986}, {\"sample_mean\": 4.973478221511121}, {\"sample_mean\": 5.028030927982668}, {\"sample_mean\": 4.832757611460831}, {\"sample_mean\": 4.9494406422394475}, {\"sample_mean\": 4.901636988777195}, {\"sample_mean\": 5.02861294970441}, {\"sample_mean\": 4.990002731706058}, {\"sample_mean\": 4.909488409553174}, {\"sample_mean\": 4.714702787844546}, {\"sample_mean\": 5.084753207575457}, {\"sample_mean\": 4.939888637282714}, {\"sample_mean\": 5.025172846259771}, {\"sample_mean\": 5.130446262343423}, {\"sample_mean\": 4.8190737431979285}, {\"sample_mean\": 4.716609809317722}, {\"sample_mean\": 5.019271671698143}, {\"sample_mean\": 4.893002796291184}, {\"sample_mean\": 4.908270776626734}, {\"sample_mean\": 5.058820513481562}, {\"sample_mean\": 4.748380370618946}, {\"sample_mean\": 4.944096538842205}, {\"sample_mean\": 4.773937496960731}, {\"sample_mean\": 5.0634774310429504}, {\"sample_mean\": 5.147614305604986}, {\"sample_mean\": 5.033889839025388}, {\"sample_mean\": 4.9587268853893365}, {\"sample_mean\": 5.139556539305589}, {\"sample_mean\": 4.947702875853015}, {\"sample_mean\": 5.166367702350146}, {\"sample_mean\": 4.870018670228817}, {\"sample_mean\": 4.91680259137318}, {\"sample_mean\": 4.9433498061164265}, {\"sample_mean\": 4.919586553524889}, {\"sample_mean\": 4.866715410794688}, {\"sample_mean\": 4.888860287902777}, {\"sample_mean\": 5.020281644613877}, {\"sample_mean\": 5.057272598759952}, {\"sample_mean\": 5.030607750675041}, {\"sample_mean\": 5.111788388648583}, {\"sample_mean\": 5.1433390351831925}, {\"sample_mean\": 4.922484653402566}, {\"sample_mean\": 5.0106707360573495}, {\"sample_mean\": 5.477490335889322}, {\"sample_mean\": 5.054378759828236}, {\"sample_mean\": 4.788237880673675}, {\"sample_mean\": 4.968373499488731}, {\"sample_mean\": 5.400622294589954}, {\"sample_mean\": 4.856983003790034}, {\"sample_mean\": 5.021534450124375}, {\"sample_mean\": 4.999311601243281}, {\"sample_mean\": 5.295014462501653}, {\"sample_mean\": 4.659481807400127}, {\"sample_mean\": 4.997846788907942}, {\"sample_mean\": 5.0219081030956}, {\"sample_mean\": 4.760134312622436}, {\"sample_mean\": 4.775568155927498}, {\"sample_mean\": 5.08271251012445}, {\"sample_mean\": 5.059858184511631}, {\"sample_mean\": 4.8487482828163895}, {\"sample_mean\": 5.016583424907516}, {\"sample_mean\": 4.7529408968103315}, {\"sample_mean\": 4.751772310270579}, {\"sample_mean\": 4.779169561632851}, {\"sample_mean\": 4.78907794625941}, {\"sample_mean\": 5.086336286188995}, {\"sample_mean\": 5.259648838392299}, {\"sample_mean\": 4.9000113287522264}, {\"sample_mean\": 5.179092593917397}, {\"sample_mean\": 5.139304291559472}, {\"sample_mean\": 5.02278838113009}, {\"sample_mean\": 4.906867210741777}, {\"sample_mean\": 4.865293794515947}, {\"sample_mean\": 5.007718626285896}, {\"sample_mean\": 4.895325926325518}, {\"sample_mean\": 4.8202317697191654}, {\"sample_mean\": 5.170702873207133}, {\"sample_mean\": 5.180627703737339}, {\"sample_mean\": 5.204272458752342}, {\"sample_mean\": 4.966966832044372}, {\"sample_mean\": 4.94305040835032}, {\"sample_mean\": 4.941304239659617}, {\"sample_mean\": 5.015695723255632}, {\"sample_mean\": 4.895260302748676}, {\"sample_mean\": 4.922933494263856}, {\"sample_mean\": 5.156813892124519}, {\"sample_mean\": 4.782908425231206}, {\"sample_mean\": 5.254955586675291}, {\"sample_mean\": 5.188464917604532}, {\"sample_mean\": 4.992917225404081}, {\"sample_mean\": 5.234193886827563}, {\"sample_mean\": 5.1698886290919575}, {\"sample_mean\": 4.906845329989885}, {\"sample_mean\": 5.360345200496505}, {\"sample_mean\": 5.145531398478029}, {\"sample_mean\": 4.975631624661455}, {\"sample_mean\": 5.278598146331407}, {\"sample_mean\": 5.219495267405189}, {\"sample_mean\": 4.890133824689215}, {\"sample_mean\": 5.038851864230699}, {\"sample_mean\": 4.8877042690080845}, {\"sample_mean\": 4.979956890405695}, {\"sample_mean\": 5.157730227846907}, {\"sample_mean\": 4.854380945105789}, {\"sample_mean\": 4.918088775030572}, {\"sample_mean\": 5.155865387639569}, {\"sample_mean\": 5.224752796433155}, {\"sample_mean\": 5.091837250403203}, {\"sample_mean\": 4.850386170787717}, {\"sample_mean\": 5.037485088221165}, {\"sample_mean\": 4.96669867783943}, {\"sample_mean\": 4.915492844301569}, {\"sample_mean\": 5.054865314632384}, {\"sample_mean\": 4.875324849202943}, {\"sample_mean\": 4.796578533019518}, {\"sample_mean\": 4.804422763227264}, {\"sample_mean\": 5.022273592915688}, {\"sample_mean\": 4.9996225444019995}, {\"sample_mean\": 4.952672677957297}, {\"sample_mean\": 5.048930543958588}, {\"sample_mean\": 4.674419170302874}, {\"sample_mean\": 5.111695774129731}, {\"sample_mean\": 5.097675756992079}, {\"sample_mean\": 5.144980524286017}, {\"sample_mean\": 5.080381482117211}, {\"sample_mean\": 5.1019215262261195}, {\"sample_mean\": 5.027779873942683}, {\"sample_mean\": 4.889352167636367}, {\"sample_mean\": 4.958439952289153}, {\"sample_mean\": 4.882662310837252}, {\"sample_mean\": 5.013489672722308}, {\"sample_mean\": 4.93313356370407}, {\"sample_mean\": 5.104939338583299}, {\"sample_mean\": 4.965849212220661}, {\"sample_mean\": 4.96855447969132}, {\"sample_mean\": 4.793504365593862}, {\"sample_mean\": 4.947438769671937}, {\"sample_mean\": 5.352450529304533}, {\"sample_mean\": 5.235530462721581}, {\"sample_mean\": 5.101784856212165}, {\"sample_mean\": 5.376881311455443}, {\"sample_mean\": 5.224167800471156}, {\"sample_mean\": 4.916783704706235}, {\"sample_mean\": 4.885480640908743}, {\"sample_mean\": 5.315959478397113}, {\"sample_mean\": 5.080822319686755}, {\"sample_mean\": 4.9514955398562766}, {\"sample_mean\": 5.036535323768872}, {\"sample_mean\": 4.6724697518485545}, {\"sample_mean\": 4.984058778687155}, {\"sample_mean\": 4.9325815440495475}, {\"sample_mean\": 5.03250939803262}, {\"sample_mean\": 4.897024092797636}, {\"sample_mean\": 4.9924036857498235}, {\"sample_mean\": 4.727086344748943}, {\"sample_mean\": 5.0787861588814405}, {\"sample_mean\": 4.752826383765738}, {\"sample_mean\": 5.27372761699687}, {\"sample_mean\": 4.958895333873726}, {\"sample_mean\": 5.186354022508167}, {\"sample_mean\": 4.899984625321942}, {\"sample_mean\": 4.860802988664919}, {\"sample_mean\": 4.998284640692733}, {\"sample_mean\": 4.682626671937377}, {\"sample_mean\": 5.18956783326872}, {\"sample_mean\": 5.0512574829626224}, {\"sample_mean\": 4.965146380220806}, {\"sample_mean\": 4.690911076135077}, {\"sample_mean\": 4.933961063912511}, {\"sample_mean\": 4.918574506437507}, {\"sample_mean\": 4.901033984438901}, {\"sample_mean\": 5.0467654293254185}, {\"sample_mean\": 4.779338293155479}, {\"sample_mean\": 4.765355025546346}, {\"sample_mean\": 4.868964116316247}, {\"sample_mean\": 4.79747119533302}, {\"sample_mean\": 5.405058690021706}, {\"sample_mean\": 5.075182817850637}, {\"sample_mean\": 5.009702044239773}, {\"sample_mean\": 4.863558710434834}, {\"sample_mean\": 4.809291291658679}, {\"sample_mean\": 5.3036018688948285}, {\"sample_mean\": 4.824519186281838}, {\"sample_mean\": 4.688155264029355}, {\"sample_mean\": 5.2990145867336835}, {\"sample_mean\": 5.238860781382454}, {\"sample_mean\": 5.061071137523645}, {\"sample_mean\": 4.897855607487321}, {\"sample_mean\": 5.140504424816738}, {\"sample_mean\": 5.276074124458768}, {\"sample_mean\": 4.989803014038525}, {\"sample_mean\": 5.148624991570319}, {\"sample_mean\": 4.775316875725028}, {\"sample_mean\": 4.867662685941847}, {\"sample_mean\": 4.924824299233827}, {\"sample_mean\": 5.062676220033374}, {\"sample_mean\": 5.00514535631771}, {\"sample_mean\": 5.1778761096204455}, {\"sample_mean\": 4.976446129696953}, {\"sample_mean\": 4.603029198413297}, {\"sample_mean\": 4.9664979873110475}, {\"sample_mean\": 5.003249121249288}, {\"sample_mean\": 5.191259847937514}, {\"sample_mean\": 4.897804623611546}, {\"sample_mean\": 4.998019506363229}, {\"sample_mean\": 5.009383279480505}, {\"sample_mean\": 4.938357239951853}, {\"sample_mean\": 5.062579143206404}, {\"sample_mean\": 4.941207672894216}, {\"sample_mean\": 5.050092119122597}, {\"sample_mean\": 4.743693018103979}, {\"sample_mean\": 5.2116492192249835}, {\"sample_mean\": 5.067797488539223}, {\"sample_mean\": 4.858431579249508}, {\"sample_mean\": 5.011454350064214}, {\"sample_mean\": 4.974517125180772}, {\"sample_mean\": 4.902307050279917}, {\"sample_mean\": 4.972123122074793}, {\"sample_mean\": 5.039480234544563}, {\"sample_mean\": 4.930819749996022}, {\"sample_mean\": 4.693140483305729}, {\"sample_mean\": 4.976897117166236}, {\"sample_mean\": 4.685354757879858}, {\"sample_mean\": 5.180532632068197}, {\"sample_mean\": 5.079015853911382}, {\"sample_mean\": 4.9215796283226005}, {\"sample_mean\": 4.8750063865499005}, {\"sample_mean\": 4.852958164720707}, {\"sample_mean\": 4.876496277308498}, {\"sample_mean\": 4.801907243745675}, {\"sample_mean\": 5.22176508391368}, {\"sample_mean\": 4.975032983520421}, {\"sample_mean\": 4.997361062729069}, {\"sample_mean\": 5.199984125388319}, {\"sample_mean\": 4.737704871153873}, {\"sample_mean\": 4.799381146971604}, {\"sample_mean\": 5.24540999627888}, {\"sample_mean\": 4.719113248423858}, {\"sample_mean\": 5.031169542395621}, {\"sample_mean\": 4.937511257338798}, {\"sample_mean\": 4.911984451961727}, {\"sample_mean\": 5.2134501116334695}, {\"sample_mean\": 5.036938339984019}, {\"sample_mean\": 4.958875669007501}, {\"sample_mean\": 5.247149306676017}, {\"sample_mean\": 4.832000026572192}, {\"sample_mean\": 4.877392301584181}, {\"sample_mean\": 4.9281167477361425}, {\"sample_mean\": 5.134686446288955}, {\"sample_mean\": 4.9089651333698034}, {\"sample_mean\": 4.943566333750872}, {\"sample_mean\": 4.801810213068416}, {\"sample_mean\": 5.132318367483058}, {\"sample_mean\": 5.011499738783792}, {\"sample_mean\": 4.94969300788999}, {\"sample_mean\": 4.95242935994331}, {\"sample_mean\": 5.141049771701632}, {\"sample_mean\": 5.124116268464194}, {\"sample_mean\": 4.792699526092816}, {\"sample_mean\": 4.986577655087552}, {\"sample_mean\": 5.0204309853128875}, {\"sample_mean\": 5.099339658196412}, {\"sample_mean\": 4.752502919559806}, {\"sample_mean\": 4.790711370312605}, {\"sample_mean\": 4.864212687063481}, {\"sample_mean\": 4.858241333315041}, {\"sample_mean\": 5.080357888729544}, {\"sample_mean\": 5.0568054902414}, {\"sample_mean\": 5.2739295334886025}, {\"sample_mean\": 5.047538870686478}, {\"sample_mean\": 4.936135928613761}, {\"sample_mean\": 4.834279394558669}, {\"sample_mean\": 5.108993428050637}, {\"sample_mean\": 5.050455792945245}, {\"sample_mean\": 5.001630337829231}, {\"sample_mean\": 4.8872665451088375}, {\"sample_mean\": 5.117541645998783}, {\"sample_mean\": 5.130211444387879}, {\"sample_mean\": 5.26757661537298}, {\"sample_mean\": 4.854378634724432}, {\"sample_mean\": 4.895791068955888}, {\"sample_mean\": 4.835064875662768}, {\"sample_mean\": 4.791358291465566}, {\"sample_mean\": 4.908971085812198}, {\"sample_mean\": 4.987550986475395}, {\"sample_mean\": 4.85541960363907}, {\"sample_mean\": 4.845502977957341}, {\"sample_mean\": 4.83183268712673}, {\"sample_mean\": 5.091494070571796}, {\"sample_mean\": 4.821576773437982}, {\"sample_mean\": 4.796679461313392}, {\"sample_mean\": 5.170224265095918}, {\"sample_mean\": 5.175398849382833}, {\"sample_mean\": 4.885247502499247}, {\"sample_mean\": 5.201509033634085}, {\"sample_mean\": 4.882671799424251}, {\"sample_mean\": 5.171268084549886}, {\"sample_mean\": 4.943748262203371}, {\"sample_mean\": 4.856976358760105}, {\"sample_mean\": 5.436915479729753}, {\"sample_mean\": 4.8350101888868595}, {\"sample_mean\": 4.602489946545717}, {\"sample_mean\": 5.027153741725172}, {\"sample_mean\": 5.462256994012687}, {\"sample_mean\": 5.4648765569226345}, {\"sample_mean\": 4.935397794532917}, {\"sample_mean\": 5.0493307060094885}, {\"sample_mean\": 4.823759698382694}, {\"sample_mean\": 5.019807674249873}, {\"sample_mean\": 5.025853510727811}, {\"sample_mean\": 4.750937705363696}, {\"sample_mean\": 4.938548467648734}, {\"sample_mean\": 4.893233148616126}, {\"sample_mean\": 4.6392868404482375}, {\"sample_mean\": 5.357122758537925}, {\"sample_mean\": 4.82761287521552}, {\"sample_mean\": 5.036050660402818}, {\"sample_mean\": 5.060175508503178}, {\"sample_mean\": 4.910163014796837}, {\"sample_mean\": 5.168382274582121}, {\"sample_mean\": 5.1086407359529264}, {\"sample_mean\": 4.949100488677082}, {\"sample_mean\": 5.1620851216477455}, {\"sample_mean\": 4.847745381255479}, {\"sample_mean\": 5.168670842194073}, {\"sample_mean\": 4.833063537634929}, {\"sample_mean\": 5.017837987427111}, {\"sample_mean\": 5.167755218122768}, {\"sample_mean\": 5.0296726624867185}, {\"sample_mean\": 5.149541115076975}, {\"sample_mean\": 5.238967379134868}, {\"sample_mean\": 4.980115954546605}, {\"sample_mean\": 4.9983013174025785}, {\"sample_mean\": 5.3325137970536804}, {\"sample_mean\": 4.952447770234257}, {\"sample_mean\": 5.059338187794926}, {\"sample_mean\": 5.0559084931584755}, {\"sample_mean\": 4.788859448874235}, {\"sample_mean\": 5.283248880768123}, {\"sample_mean\": 4.902092434888256}, {\"sample_mean\": 4.823250997723488}, {\"sample_mean\": 5.100226281298472}, {\"sample_mean\": 4.861488139287876}, {\"sample_mean\": 5.004944540781713}, {\"sample_mean\": 5.216466400911444}, {\"sample_mean\": 5.227884012562669}, {\"sample_mean\": 5.076464902287238}, {\"sample_mean\": 4.958080358986923}, {\"sample_mean\": 5.158821256102378}, {\"sample_mean\": 5.00411914673868}, {\"sample_mean\": 5.1520333139332894}, {\"sample_mean\": 4.930195020241149}, {\"sample_mean\": 4.971703592329214}, {\"sample_mean\": 4.934519214859414}, {\"sample_mean\": 4.770420568748217}, {\"sample_mean\": 5.113985029812145}, {\"sample_mean\": 4.90714780565917}, {\"sample_mean\": 5.116500918101108}, {\"sample_mean\": 5.1168623046471025}, {\"sample_mean\": 5.0106388828117145}, {\"sample_mean\": 4.838157589019153}, {\"sample_mean\": 5.145540183690232}, {\"sample_mean\": 5.0897366999582925}, {\"sample_mean\": 4.894853456649661}, {\"sample_mean\": 5.012889329652759}, {\"sample_mean\": 5.046692160930985}, {\"sample_mean\": 5.191524338524254}, {\"sample_mean\": 4.925282114323486}, {\"sample_mean\": 4.961787542079973}, {\"sample_mean\": 5.227558114196388}, {\"sample_mean\": 4.902681367290328}, {\"sample_mean\": 5.081914025248742}, {\"sample_mean\": 4.954534617414654}, {\"sample_mean\": 4.977849932144313}, {\"sample_mean\": 4.881703044379903}, {\"sample_mean\": 4.664873931657396}, {\"sample_mean\": 4.981171554807099}, {\"sample_mean\": 5.103068808897959}, {\"sample_mean\": 4.936792203367879}, {\"sample_mean\": 5.096802202127381}, {\"sample_mean\": 4.792994406093397}, {\"sample_mean\": 4.866604182459105}, {\"sample_mean\": 5.135592573080997}, {\"sample_mean\": 5.066510062248895}, {\"sample_mean\": 5.115719125444068}, {\"sample_mean\": 5.0784299273557085}, {\"sample_mean\": 5.274374521099599}, {\"sample_mean\": 5.149261460447936}, {\"sample_mean\": 5.030284009468205}, {\"sample_mean\": 5.093713593424324}, {\"sample_mean\": 5.004598220701097}, {\"sample_mean\": 4.871790657562322}, {\"sample_mean\": 4.994705812271778}, {\"sample_mean\": 4.678794925130049}, {\"sample_mean\": 5.005443627402218}, {\"sample_mean\": 4.9039404727667275}, {\"sample_mean\": 5.1602743578767045}, {\"sample_mean\": 4.908771594552488}, {\"sample_mean\": 4.906106314935884}, {\"sample_mean\": 5.013474872465358}, {\"sample_mean\": 5.236727717286512}, {\"sample_mean\": 5.021767259617762}, {\"sample_mean\": 5.243979298112856}, {\"sample_mean\": 5.034789890457582}, {\"sample_mean\": 5.019900556841078}, {\"sample_mean\": 4.872880631273467}, {\"sample_mean\": 5.136300942937745}, {\"sample_mean\": 4.83849018531999}, {\"sample_mean\": 5.098524010955735}, {\"sample_mean\": 4.8859301423360995}, {\"sample_mean\": 5.131595464044569}, {\"sample_mean\": 4.93032739819322}, {\"sample_mean\": 5.0549367723509855}, {\"sample_mean\": 4.894740685866092}, {\"sample_mean\": 4.870522127720054}, {\"sample_mean\": 5.111783715384136}, {\"sample_mean\": 5.156930217522149}, {\"sample_mean\": 5.125518119805379}, {\"sample_mean\": 4.757124546066162}, {\"sample_mean\": 5.090238607082798}, {\"sample_mean\": 4.87557302654838}, {\"sample_mean\": 4.916758570093907}, {\"sample_mean\": 4.871897876202229}, {\"sample_mean\": 5.089777293699319}, {\"sample_mean\": 5.095819246638472}, {\"sample_mean\": 4.739487141554574}, {\"sample_mean\": 5.142550087308397}, {\"sample_mean\": 4.825772155677557}, {\"sample_mean\": 5.101683458671895}, {\"sample_mean\": 4.951359156186692}, {\"sample_mean\": 5.01831401249343}, {\"sample_mean\": 5.0092867158306325}, {\"sample_mean\": 4.932855117676968}, {\"sample_mean\": 5.040141535564402}, {\"sample_mean\": 5.056922831604237}, {\"sample_mean\": 4.9838210491472275}, {\"sample_mean\": 5.252222484630288}, {\"sample_mean\": 4.848290131898151}, {\"sample_mean\": 4.853030343754284}, {\"sample_mean\": 5.085846597161292}, {\"sample_mean\": 5.1373388040306125}, {\"sample_mean\": 5.130188023551854}, {\"sample_mean\": 5.149273885807217}, {\"sample_mean\": 4.893536172543015}, {\"sample_mean\": 5.194805575242426}, {\"sample_mean\": 5.053148311042602}, {\"sample_mean\": 4.82665803165565}, {\"sample_mean\": 5.103119040559849}, {\"sample_mean\": 5.37115165612188}, {\"sample_mean\": 4.901502959539268}, {\"sample_mean\": 4.914935076044687}, {\"sample_mean\": 5.247073366990502}, {\"sample_mean\": 4.944546775874203}, {\"sample_mean\": 5.028110524513195}, {\"sample_mean\": 4.890795416243899}, {\"sample_mean\": 4.906613694851136}, {\"sample_mean\": 5.123208116201151}, {\"sample_mean\": 5.25242134554206}, {\"sample_mean\": 5.126189081786138}, {\"sample_mean\": 5.405024491705242}, {\"sample_mean\": 5.176234791376164}, {\"sample_mean\": 5.013264685233337}, {\"sample_mean\": 5.311473145552724}, {\"sample_mean\": 5.1639404163781}, {\"sample_mean\": 5.187850295666825}, {\"sample_mean\": 5.0314659858780635}, {\"sample_mean\": 4.859871524005783}, {\"sample_mean\": 4.9748000473576415}, {\"sample_mean\": 4.630666195734038}, {\"sample_mean\": 4.999083393517668}, {\"sample_mean\": 5.073823415349594}, {\"sample_mean\": 4.94619675049002}, {\"sample_mean\": 4.871457483898535}, {\"sample_mean\": 5.223359289136128}, {\"sample_mean\": 5.256983603046281}, {\"sample_mean\": 5.096946591341838}, {\"sample_mean\": 4.929922577197263}, {\"sample_mean\": 5.1967072522056315}, {\"sample_mean\": 5.090970163483116}, {\"sample_mean\": 4.786166485666916}, {\"sample_mean\": 5.361087347434725}, {\"sample_mean\": 5.142537124724501}, {\"sample_mean\": 4.8950711585019615}, {\"sample_mean\": 4.971870872896791}, {\"sample_mean\": 4.750248025343913}, {\"sample_mean\": 4.968494688421984}, {\"sample_mean\": 5.087215179548338}, {\"sample_mean\": 5.100031920193871}, {\"sample_mean\": 5.133234487246817}, {\"sample_mean\": 5.276528918026552}, {\"sample_mean\": 5.182709754456352}, {\"sample_mean\": 4.903464839154238}, {\"sample_mean\": 4.847923814937613}, {\"sample_mean\": 5.047324099249959}, {\"sample_mean\": 4.7333484114285715}, {\"sample_mean\": 4.9274524418283745}, {\"sample_mean\": 4.966110576758749}, {\"sample_mean\": 4.887828765048454}, {\"sample_mean\": 5.01799626372547}, {\"sample_mean\": 5.1431983611421925}, {\"sample_mean\": 5.205455098080498}, {\"sample_mean\": 4.887725093285357}, {\"sample_mean\": 4.976873075400144}, {\"sample_mean\": 5.050285295486383}, {\"sample_mean\": 5.045285838555859}, {\"sample_mean\": 5.148883091360865}, {\"sample_mean\": 5.098918415167519}, {\"sample_mean\": 4.862555230307421}, {\"sample_mean\": 5.055079228247301}, {\"sample_mean\": 4.921783482885896}, {\"sample_mean\": 4.885041392573086}, {\"sample_mean\": 5.137531715264936}, {\"sample_mean\": 5.231811198101772}, {\"sample_mean\": 4.997946644160771}, {\"sample_mean\": 4.906612816147807}, {\"sample_mean\": 5.17711508475113}, {\"sample_mean\": 5.004688729627426}, {\"sample_mean\": 5.124826689668196}, {\"sample_mean\": 4.672726632347271}, {\"sample_mean\": 4.954333948941467}, {\"sample_mean\": 4.893890772669888}, {\"sample_mean\": 5.067923159962919}, {\"sample_mean\": 5.180279167434861}, {\"sample_mean\": 5.130547551597973}, {\"sample_mean\": 4.927551713677438}, {\"sample_mean\": 5.177475289092998}, {\"sample_mean\": 4.970772737720451}, {\"sample_mean\": 4.831380890757819}, {\"sample_mean\": 4.979801007406428}, {\"sample_mean\": 5.280926985795776}, {\"sample_mean\": 5.106224106073776}, {\"sample_mean\": 5.0430294228166135}, {\"sample_mean\": 4.849322060642773}, {\"sample_mean\": 5.153746368190397}, {\"sample_mean\": 4.768852136858162}, {\"sample_mean\": 4.984984378417363}, {\"sample_mean\": 4.984943446772029}, {\"sample_mean\": 5.040562253528597}, {\"sample_mean\": 5.027079766211927}, {\"sample_mean\": 4.8410472491193}, {\"sample_mean\": 4.877884572154384}, {\"sample_mean\": 5.3831908469701535}, {\"sample_mean\": 5.20613979693259}, {\"sample_mean\": 5.015827669039363}, {\"sample_mean\": 4.849258473031598}, {\"sample_mean\": 4.9393691261278745}, {\"sample_mean\": 4.796235064573433}, {\"sample_mean\": 5.289837676486588}, {\"sample_mean\": 5.225167865328154}, {\"sample_mean\": 4.56442462321793}, {\"sample_mean\": 5.176171710958512}, {\"sample_mean\": 5.055270070085471}, {\"sample_mean\": 5.106028682988385}, {\"sample_mean\": 4.9890856521285025}, {\"sample_mean\": 4.922890432542918}, {\"sample_mean\": 5.093119425484003}, {\"sample_mean\": 4.845314737804362}, {\"sample_mean\": 5.157093742973914}, {\"sample_mean\": 4.742613396017405}, {\"sample_mean\": 4.850628771605447}, {\"sample_mean\": 5.013198084648976}, {\"sample_mean\": 4.968388914529387}, {\"sample_mean\": 5.157515984540252}, {\"sample_mean\": 5.346585007682807}, {\"sample_mean\": 5.185482954909413}, {\"sample_mean\": 5.284693130427124}, {\"sample_mean\": 5.037434677784513}, {\"sample_mean\": 4.768617158571261}, {\"sample_mean\": 5.356445583485509}, {\"sample_mean\": 4.940362253475607}, {\"sample_mean\": 4.803723440400955}, {\"sample_mean\": 5.0085739787113}, {\"sample_mean\": 4.835234667849425}, {\"sample_mean\": 4.819509196614846}, {\"sample_mean\": 4.90633559714183}, {\"sample_mean\": 5.080835162230087}, {\"sample_mean\": 5.279395434454152}, {\"sample_mean\": 4.929428137779461}, {\"sample_mean\": 5.146465390459398}, {\"sample_mean\": 4.751164915431253}, {\"sample_mean\": 5.065655614967971}, {\"sample_mean\": 4.9480947426737005}, {\"sample_mean\": 4.822136477217491}, {\"sample_mean\": 4.779215932387059}, {\"sample_mean\": 4.943377186551281}, {\"sample_mean\": 4.864176215296316}, {\"sample_mean\": 4.966110806064497}, {\"sample_mean\": 4.880243654563069}, {\"sample_mean\": 5.08314485342447}, {\"sample_mean\": 4.843047505667528}, {\"sample_mean\": 4.662064945910531}, {\"sample_mean\": 5.015289810688524}, {\"sample_mean\": 4.846835059199189}, {\"sample_mean\": 4.720170452234337}, {\"sample_mean\": 4.82070844108267}, {\"sample_mean\": 5.129016481052676}, {\"sample_mean\": 4.998851737574265}, {\"sample_mean\": 4.967815023529052}, {\"sample_mean\": 5.156630437178332}, {\"sample_mean\": 4.600589034976342}, {\"sample_mean\": 4.904108951625632}, {\"sample_mean\": 5.057602779292714}, {\"sample_mean\": 4.804845190942276}, {\"sample_mean\": 4.95852271606399}, {\"sample_mean\": 4.826301528852419}, {\"sample_mean\": 5.07653869515611}, {\"sample_mean\": 4.951429494330594}, {\"sample_mean\": 5.0026632374076945}, {\"sample_mean\": 5.121063133966649}, {\"sample_mean\": 5.104607299132286}, {\"sample_mean\": 5.509503572390644}, {\"sample_mean\": 5.160341185556222}, {\"sample_mean\": 4.8787520677434975}, {\"sample_mean\": 4.979529030350877}, {\"sample_mean\": 4.8940528979303926}, {\"sample_mean\": 5.0337764012683985}, {\"sample_mean\": 5.078379010721599}, {\"sample_mean\": 5.249088038786675}, {\"sample_mean\": 5.183653389362949}, {\"sample_mean\": 5.26853884913012}, {\"sample_mean\": 5.100535408933693}, {\"sample_mean\": 5.169905059519429}, {\"sample_mean\": 5.101399846113492}, {\"sample_mean\": 5.033887657536459}, {\"sample_mean\": 5.171412972006312}, {\"sample_mean\": 5.112390948037078}, {\"sample_mean\": 5.184160161630432}, {\"sample_mean\": 5.021824200046535}, {\"sample_mean\": 4.887706008400872}, {\"sample_mean\": 4.921171971780882}, {\"sample_mean\": 4.865458469743634}, {\"sample_mean\": 4.813109632145253}, {\"sample_mean\": 5.167701451613855}, {\"sample_mean\": 4.99601405269639}, {\"sample_mean\": 4.962720018189786}, {\"sample_mean\": 4.8088364935349714}, {\"sample_mean\": 4.8935977979178125}, {\"sample_mean\": 5.168084604902553}, {\"sample_mean\": 5.155544192852627}, {\"sample_mean\": 5.196256842592287}, {\"sample_mean\": 5.00170947952581}, {\"sample_mean\": 5.333020461275359}, {\"sample_mean\": 4.8936902394214234}, {\"sample_mean\": 5.019370960538206}, {\"sample_mean\": 4.80531339451281}, {\"sample_mean\": 5.024690769583631}, {\"sample_mean\": 4.812778926480212}, {\"sample_mean\": 5.055675747032898}, {\"sample_mean\": 5.027496233605885}, {\"sample_mean\": 4.989627528863122}, {\"sample_mean\": 5.161614533047614}, {\"sample_mean\": 4.975174569283724}, {\"sample_mean\": 4.911212570752599}, {\"sample_mean\": 4.95777642218623}, {\"sample_mean\": 5.062466806938071}, {\"sample_mean\": 5.046851260789068}, {\"sample_mean\": 4.8884243305250985}, {\"sample_mean\": 4.8136657636392695}, {\"sample_mean\": 4.9338800814113135}, {\"sample_mean\": 4.840045525020461}, {\"sample_mean\": 4.94956954741754}, {\"sample_mean\": 5.218875176565045}, {\"sample_mean\": 4.867080108838282}, {\"sample_mean\": 5.265933307013651}, {\"sample_mean\": 5.084303834489534}, {\"sample_mean\": 4.780509365230977}, {\"sample_mean\": 5.023769089943815}, {\"sample_mean\": 4.957475995941408}, {\"sample_mean\": 5.145841120720024}, {\"sample_mean\": 5.26436331570156}, {\"sample_mean\": 4.907976322969229}, {\"sample_mean\": 5.057975992020391}, {\"sample_mean\": 4.978163353467082}, {\"sample_mean\": 4.814482812700598}, {\"sample_mean\": 5.081339451236603}, {\"sample_mean\": 5.326083316703465}, {\"sample_mean\": 4.9519055077383}, {\"sample_mean\": 4.997306591772069}, {\"sample_mean\": 4.983008615775712}, {\"sample_mean\": 5.135118926783365}, {\"sample_mean\": 4.936631049312088}, {\"sample_mean\": 4.788971926203418}, {\"sample_mean\": 5.006903393524217}, {\"sample_mean\": 5.175205868558291}, {\"sample_mean\": 5.210495642494257}, {\"sample_mean\": 4.809997358172126}, {\"sample_mean\": 4.970640794567781}, {\"sample_mean\": 5.120630947010604}, {\"sample_mean\": 4.971402310031535}, {\"sample_mean\": 5.138560809318911}, {\"sample_mean\": 4.6812773394481395}, {\"sample_mean\": 5.101186298611167}, {\"sample_mean\": 5.1432368901422505}, {\"sample_mean\": 4.744224256958201}, {\"sample_mean\": 4.985709879919841}, {\"sample_mean\": 4.966948783198377}, {\"sample_mean\": 5.019448700305032}, {\"sample_mean\": 5.202231447892476}, {\"sample_mean\": 4.814354691339508}, {\"sample_mean\": 4.948753914941198}, {\"sample_mean\": 4.922362760236947}, {\"sample_mean\": 5.202527497612043}, {\"sample_mean\": 5.334420212835166}, {\"sample_mean\": 4.917080315266986}, {\"sample_mean\": 4.932986579098837}, {\"sample_mean\": 4.885417493023818}, {\"sample_mean\": 4.955869303114101}, {\"sample_mean\": 5.124137275881783}, {\"sample_mean\": 5.195149008273083}, {\"sample_mean\": 5.209916506724172}, {\"sample_mean\": 5.040531654421635}, {\"sample_mean\": 4.762376789118789}, {\"sample_mean\": 5.114146775266064}, {\"sample_mean\": 5.1851955521747515}, {\"sample_mean\": 5.009099400509316}, {\"sample_mean\": 4.759313852047345}, {\"sample_mean\": 4.78865917908272}, {\"sample_mean\": 5.035112742810905}, {\"sample_mean\": 4.8007468316953155}, {\"sample_mean\": 5.030340704245793}, {\"sample_mean\": 5.164087441738997}, {\"sample_mean\": 5.041297994905942}, {\"sample_mean\": 4.997588129596703}, {\"sample_mean\": 5.1607029085283225}, {\"sample_mean\": 4.853876970627942}, {\"sample_mean\": 4.752516195654907}, {\"sample_mean\": 4.914147213476068}, {\"sample_mean\": 4.928587318559974}, {\"sample_mean\": 5.170435884920009}, {\"sample_mean\": 4.941339625957163}, {\"sample_mean\": 4.904866154893042}, {\"sample_mean\": 5.205555795010682}, {\"sample_mean\": 5.1097023425644785}, {\"sample_mean\": 4.866351884761776}, {\"sample_mean\": 4.973365329216342}, {\"sample_mean\": 5.019025531118072}, {\"sample_mean\": 5.034953675451358}, {\"sample_mean\": 5.064848415946282}, {\"sample_mean\": 5.020027793774447}, {\"sample_mean\": 4.986977152628235}, {\"sample_mean\": 4.973237949943639}, {\"sample_mean\": 4.841491426874838}, {\"sample_mean\": 4.913251116957083}, {\"sample_mean\": 4.871608282220295}, {\"sample_mean\": 5.046087076606499}, {\"sample_mean\": 5.075577703029112}, {\"sample_mean\": 5.111181688275041}, {\"sample_mean\": 4.9776333782525475}, {\"sample_mean\": 5.069381240983999}, {\"sample_mean\": 5.105024378605502}, {\"sample_mean\": 5.149113890670261}, {\"sample_mean\": 4.894067930031046}, {\"sample_mean\": 5.072175695019505}, {\"sample_mean\": 4.64732956406357}, {\"sample_mean\": 4.804171926582439}, {\"sample_mean\": 4.86351678752721}, {\"sample_mean\": 4.9280466209343}, {\"sample_mean\": 4.94017107456988}, {\"sample_mean\": 5.070634541435627}, {\"sample_mean\": 5.088556626537614}, {\"sample_mean\": 5.116433750682339}, {\"sample_mean\": 4.767349013031122}, {\"sample_mean\": 4.839731013946527}, {\"sample_mean\": 5.017318064548501}, {\"sample_mean\": 5.157697913353056}, {\"sample_mean\": 4.623647920227971}, {\"sample_mean\": 4.892208110049565}, {\"sample_mean\": 4.894011797920746}, {\"sample_mean\": 4.956655245389443}, {\"sample_mean\": 4.953505706508761}, {\"sample_mean\": 5.134644832475467}, {\"sample_mean\": 4.849090861794619}, {\"sample_mean\": 4.6467077155046805}, {\"sample_mean\": 5.0973916022267804}, {\"sample_mean\": 4.836850371470572}, {\"sample_mean\": 4.925092897855349}, {\"sample_mean\": 4.961632390685334}, {\"sample_mean\": 4.619976639634901}, {\"sample_mean\": 5.459111501945234}, {\"sample_mean\": 4.766133985552113}, {\"sample_mean\": 4.936111602092404}, {\"sample_mean\": 4.9139943086627955}, {\"sample_mean\": 5.029060343860109}, {\"sample_mean\": 5.139874956606718}, {\"sample_mean\": 5.254729367232049}, {\"sample_mean\": 5.283838095457957}, {\"sample_mean\": 5.05915604701433}, {\"sample_mean\": 4.994341566195589}, {\"sample_mean\": 4.924707908611551}, {\"sample_mean\": 4.985450024435304}, {\"sample_mean\": 5.063026541131069}, {\"sample_mean\": 5.065415506874295}, {\"sample_mean\": 4.869558706429825}, {\"sample_mean\": 4.727278531085322}, {\"sample_mean\": 5.272768811978947}, {\"sample_mean\": 5.0236774786864355}, {\"sample_mean\": 4.907736853026155}, {\"sample_mean\": 4.91683893673524}, {\"sample_mean\": 4.760716101357985}, {\"sample_mean\": 5.172039887658954}, {\"sample_mean\": 4.915828804320435}, {\"sample_mean\": 5.063030454953569}, {\"sample_mean\": 5.426482646707835}, {\"sample_mean\": 4.998905792106008}, {\"sample_mean\": 5.155353329358863}, {\"sample_mean\": 4.8729818552956}, {\"sample_mean\": 4.678541219664439}, {\"sample_mean\": 4.9872526421472045}, {\"sample_mean\": 5.040814460471681}, {\"sample_mean\": 4.768749195413715}, {\"sample_mean\": 5.183424462473509}, {\"sample_mean\": 5.262295655091313}, {\"sample_mean\": 4.875558942190937}, {\"sample_mean\": 5.013314617488098}, {\"sample_mean\": 5.078869655457861}, {\"sample_mean\": 5.168961547600045}, {\"sample_mean\": 5.616241988539968}, {\"sample_mean\": 5.263405205926419}, {\"sample_mean\": 4.908157044298774}, {\"sample_mean\": 4.985515250408211}, {\"sample_mean\": 5.007205927303958}, {\"sample_mean\": 4.960674759708896}, {\"sample_mean\": 4.778218592262745}, {\"sample_mean\": 4.968967941686511}, {\"sample_mean\": 4.941793747367785}, {\"sample_mean\": 5.097171581325386}, {\"sample_mean\": 4.965075353927431}, {\"sample_mean\": 4.953546836719939}, {\"sample_mean\": 5.251347937002229}, {\"sample_mean\": 5.137366373151688}, {\"sample_mean\": 4.953376757811635}, {\"sample_mean\": 4.99651889717728}, {\"sample_mean\": 5.02848810731977}, {\"sample_mean\": 4.986534832247784}, {\"sample_mean\": 5.033778829784602}, {\"sample_mean\": 4.942752826256787}, {\"sample_mean\": 4.9600130975132375}, {\"sample_mean\": 4.819152254039601}, {\"sample_mean\": 5.0226303536901105}, {\"sample_mean\": 4.921385685580941}, {\"sample_mean\": 4.936873305828445}, {\"sample_mean\": 5.206521269152778}, {\"sample_mean\": 5.223552999515481}, {\"sample_mean\": 5.089273540686432}, {\"sample_mean\": 4.975595125366512}, {\"sample_mean\": 4.923947726612218}, {\"sample_mean\": 5.304767402220333}, {\"sample_mean\": 4.863754642766076}, {\"sample_mean\": 5.335527652655871}, {\"sample_mean\": 4.791519801728369}, {\"sample_mean\": 5.18368283651765}, {\"sample_mean\": 5.048066488852246}, {\"sample_mean\": 4.8787094484793565}, {\"sample_mean\": 4.8976079675942135}, {\"sample_mean\": 5.099119789025202}, {\"sample_mean\": 5.28097525869994}, {\"sample_mean\": 5.067266565100442}, {\"sample_mean\": 5.158551092876436}, {\"sample_mean\": 4.864339558846852}, {\"sample_mean\": 5.066875958734144}, {\"sample_mean\": 4.81693898215035}, {\"sample_mean\": 5.187281038356828}, {\"sample_mean\": 5.2156366045560185}, {\"sample_mean\": 4.8794912932633805}, {\"sample_mean\": 5.013357578215726}, {\"sample_mean\": 4.8074945913516824}, {\"sample_mean\": 5.074251439208054}, {\"sample_mean\": 5.04899173883396}, {\"sample_mean\": 4.904520854216458}, {\"sample_mean\": 4.780528581293925}, {\"sample_mean\": 5.164323515176819}, {\"sample_mean\": 5.038098511509916}, {\"sample_mean\": 4.861177538507695}, {\"sample_mean\": 5.201339688374014}, {\"sample_mean\": 4.879091056111926}, {\"sample_mean\": 5.012979972128372}, {\"sample_mean\": 4.97802049881973}, {\"sample_mean\": 5.181172616413001}, {\"sample_mean\": 4.8574407119495255}, {\"sample_mean\": 4.94894243934288}, {\"sample_mean\": 4.926210547264756}, {\"sample_mean\": 4.913849533079578}, {\"sample_mean\": 5.221666603540589}, {\"sample_mean\": 4.868701105805341}, {\"sample_mean\": 5.057755263124164}, {\"sample_mean\": 4.8764297210681615}, {\"sample_mean\": 5.151069292818496}, {\"sample_mean\": 4.93423415591493}, {\"sample_mean\": 4.954580753205754}, {\"sample_mean\": 5.0879098176589554}, {\"sample_mean\": 4.81550978681991}, {\"sample_mean\": 5.229638816288071}, {\"sample_mean\": 4.966439993862855}, {\"sample_mean\": 5.062553843127993}, {\"sample_mean\": 4.692647603430175}, {\"sample_mean\": 5.05108578788917}, {\"sample_mean\": 5.229200963937171}, {\"sample_mean\": 4.847183602756983}, {\"sample_mean\": 4.921152736420439}, {\"sample_mean\": 5.021970473033963}, {\"sample_mean\": 5.261905446189709}, {\"sample_mean\": 5.0481742722773015}, {\"sample_mean\": 5.170597231137109}, {\"sample_mean\": 4.93490927427256}, {\"sample_mean\": 4.972713680691143}, {\"sample_mean\": 5.054239442430184}, {\"sample_mean\": 4.78767867902853}, {\"sample_mean\": 4.880295100381687}, {\"sample_mean\": 4.913258894789844}, {\"sample_mean\": 5.157801418518983}, {\"sample_mean\": 4.970439086634297}, {\"sample_mean\": 5.000166056176833}, {\"sample_mean\": 4.750904669365071}, {\"sample_mean\": 5.163390349895018}, {\"sample_mean\": 4.9609581480586815}, {\"sample_mean\": 4.946868156946792}, {\"sample_mean\": 4.956575110785368}, {\"sample_mean\": 5.177328480504284}, {\"sample_mean\": 5.027730692488041}, {\"sample_mean\": 5.486118685702338}, {\"sample_mean\": 5.004775064999445}, {\"sample_mean\": 4.958376051777033}, {\"sample_mean\": 4.869657598877139}, {\"sample_mean\": 4.920919256233121}, {\"sample_mean\": 5.337955333474602}, {\"sample_mean\": 4.98885250587072}, {\"sample_mean\": 5.118791819536258}, {\"sample_mean\": 5.190948666307662}, {\"sample_mean\": 5.115828456124813}, {\"sample_mean\": 4.898103321205553}, {\"sample_mean\": 5.001802080862044}, {\"sample_mean\": 5.209780887004951}, {\"sample_mean\": 5.228476039991248}, {\"sample_mean\": 4.767902400276721}, {\"sample_mean\": 4.879198926634926}, {\"sample_mean\": 5.118160115656268}, {\"sample_mean\": 5.165326572940734}, {\"sample_mean\": 5.128946434816589}, {\"sample_mean\": 4.824846442792137}, {\"sample_mean\": 4.80769981290744}, {\"sample_mean\": 5.231507973886948}, {\"sample_mean\": 4.880896545608811}, {\"sample_mean\": 5.029143647541587}, {\"sample_mean\": 5.301006137217138}, {\"sample_mean\": 5.056033352188459}, {\"sample_mean\": 4.7087253897884205}, {\"sample_mean\": 4.89671097835941}, {\"sample_mean\": 5.120202734485883}, {\"sample_mean\": 5.003720743905319}, {\"sample_mean\": 4.935568124344844}, {\"sample_mean\": 5.1955720313926195}, {\"sample_mean\": 4.838211163420993}, {\"sample_mean\": 5.080743547802243}, {\"sample_mean\": 4.963860404197096}, {\"sample_mean\": 4.988786605630521}, {\"sample_mean\": 5.0118509619536615}, {\"sample_mean\": 5.0228676631414455}, {\"sample_mean\": 4.868832656399794}, {\"sample_mean\": 5.009812183097865}, {\"sample_mean\": 5.047913758251363}, {\"sample_mean\": 5.34605660500996}, {\"sample_mean\": 4.766219856496045}, {\"sample_mean\": 5.262765963761141}, {\"sample_mean\": 5.065765330024532}, {\"sample_mean\": 5.084935542926421}, {\"sample_mean\": 5.015133717974574}, {\"sample_mean\": 4.983461699778769}, {\"sample_mean\": 5.07497278544942}, {\"sample_mean\": 4.984370801768834}, {\"sample_mean\": 4.9298857458979395}, {\"sample_mean\": 5.07271658440391}, {\"sample_mean\": 5.137195413616373}], \"data-d11c7646668d096f96fe9a781f61b4d2\": [{\"x\": 4.0, \"pdf\": 5.200563737654406e-07}, {\"x\": 4.02, \"pdf\": 1.1481844294265125e-06}, {\"x\": 4.04, \"pdf\": 2.494733569686431e-06}, {\"x\": 4.06, \"pdf\": 5.334429468535572e-06}, {\"x\": 4.08, \"pdf\": 1.1225432217700519e-05}, {\"x\": 4.1, \"pdf\": 2.3247135910605655e-05}, {\"x\": 4.12, \"pdf\": 4.737913480522706e-05}, {\"x\": 4.14, \"pdf\": 9.502898380986609e-05}, {\"x\": 4.16, \"pdf\": 0.00018757559505878569}, {\"x\": 4.18, \"pdf\": 0.00036437440996800257}, {\"x\": 4.2, \"pdf\": 0.0006965795062408364}, {\"x\": 4.22, \"pdf\": 0.0013105234778717847}, {\"x\": 4.24, \"pdf\": 0.002426443630534741}, {\"x\": 4.26, \"pdf\": 0.00442126855728509}, {\"x\": 4.28, \"pdf\": 0.007928205034960797}, {\"x\": 4.3, \"pdf\": 0.01399117339253598}, {\"x\": 4.32, \"pdf\": 0.024298792525968404}, {\"x\": 4.34, \"pdf\": 0.04153044026933313}, {\"x\": 4.36, \"pdf\": 0.06985534883718736}, {\"x\": 4.38, \"pdf\": 0.11563361010377396}, {\"x\": 4.4, \"pdf\": 0.18837349335939274}, {\"x\": 4.42, \"pdf\": 0.30199989171721053}, {\"x\": 4.44, \"pdf\": 0.47648043327627315}, {\"x\": 4.46, \"pdf\": 0.7398346082274715}, {\"x\": 4.48, \"pdf\": 1.130512850584684}, {\"x\": 4.5, \"pdf\": 1.7000733205040701}, {\"x\": 4.52, \"pdf\": 2.516002619162861}, {\"x\": 4.54, \"pdf\": 3.6644248032403253}, {\"x\": 4.5600000000000005, \"pdf\": 5.252327857928889}, {\"x\": 4.58, \"pdf\": 7.408821463076241}, {\"x\": 4.6, \"pdf\": 10.284844252703476}, {\"x\": 4.62, \"pdf\": 14.050688242908235}, {\"x\": 4.64, \"pdf\": 18.890731025540994}, {\"x\": 4.66, \"pdf\": 24.994889396741225}, {\"x\": 4.68, \"pdf\": 32.54655024691881}, {\"x\": 4.7, \"pdf\": 41.707100072566114}, {\"x\": 4.72, \"pdf\": 52.59764673373031}, {\"x\": 4.74, \"pdf\": 65.27906449106993}, {\"x\": 4.76, \"pdf\": 79.73202941950808}, {\"x\": 4.78, \"pdf\": 95.83916096982892}, {\"x\": 4.8, \"pdf\": 113.37165224497896}, {\"x\": 4.82, \"pdf\": 131.98276948221442}, {\"x\": 4.84, \"pdf\": 151.2102692622771}, {\"x\": 4.86, \"pdf\": 170.48910251968752}, {\"x\": 4.88, \"pdf\": 189.17478571399423}, {\"x\": 4.9, \"pdf\": 206.57661898691165}, {\"x\": 4.92, \"pdf\": 221.9986675529185}, {\"x\": 4.94, \"pdf\": 234.78527659658087}, {\"x\": 4.96, \"pdf\": 244.3670455034611}, {\"x\": 4.98, \"pdf\": 250.30279872073226}, {\"x\": 5.0, \"pdf\": 252.31325220201603}, {\"x\": 5.02, \"pdf\": 250.30279872073226}, {\"x\": 5.04, \"pdf\": 244.3670455034611}, {\"x\": 5.0600000000000005, \"pdf\": 234.78527659658036}, {\"x\": 5.08, \"pdf\": 221.9986675529185}, {\"x\": 5.1, \"pdf\": 206.57661898691165}, {\"x\": 5.12, \"pdf\": 189.17478571399423}, {\"x\": 5.140000000000001, \"pdf\": 170.48910251968667}, {\"x\": 5.16, \"pdf\": 151.2102692622771}, {\"x\": 5.18, \"pdf\": 131.98276948221442}, {\"x\": 5.2, \"pdf\": 113.37165224497896}, {\"x\": 5.22, \"pdf\": 95.83916096982892}, {\"x\": 5.24, \"pdf\": 79.73202941950808}, {\"x\": 5.26, \"pdf\": 65.27906449106993}, {\"x\": 5.28, \"pdf\": 52.59764673373031}, {\"x\": 5.3, \"pdf\": 41.707100072566114}, {\"x\": 5.32, \"pdf\": 32.54655024691881}, {\"x\": 5.34, \"pdf\": 24.994889396741225}, {\"x\": 5.36, \"pdf\": 18.890731025540994}, {\"x\": 5.38, \"pdf\": 14.050688242908235}, {\"x\": 5.4, \"pdf\": 10.284844252703476}, {\"x\": 5.42, \"pdf\": 7.408821463076241}, {\"x\": 5.4399999999999995, \"pdf\": 5.252327857928889}, {\"x\": 5.46, \"pdf\": 3.6644248032403253}, {\"x\": 5.48, \"pdf\": 2.516002619162861}, {\"x\": 5.5, \"pdf\": 1.7000733205040701}, {\"x\": 5.52, \"pdf\": 1.130512850584684}, {\"x\": 5.54, \"pdf\": 0.7398346082274715}, {\"x\": 5.5600000000000005, \"pdf\": 0.47648043327626344}, {\"x\": 5.58, \"pdf\": 0.30199989171721053}, {\"x\": 5.6, \"pdf\": 0.18837349335939274}, {\"x\": 5.62, \"pdf\": 0.11563361010377396}, {\"x\": 5.640000000000001, \"pdf\": 0.06985534883718586}, {\"x\": 5.66, \"pdf\": 0.04153044026933313}, {\"x\": 5.68, \"pdf\": 0.024298792525968404}, {\"x\": 5.7, \"pdf\": 0.01399117339253598}, {\"x\": 5.72, \"pdf\": 0.007928205034960797}, {\"x\": 5.74, \"pdf\": 0.00442126855728509}, {\"x\": 5.76, \"pdf\": 0.002426443630534741}, {\"x\": 5.78, \"pdf\": 0.0013105234778717847}, {\"x\": 5.8, \"pdf\": 0.0006965795062408364}, {\"x\": 5.82, \"pdf\": 0.00036437440996800257}, {\"x\": 5.84, \"pdf\": 0.00018757559505878569}, {\"x\": 5.86, \"pdf\": 9.502898380986609e-05}, {\"x\": 5.88, \"pdf\": 4.737913480522706e-05}, {\"x\": 5.9, \"pdf\": 2.3247135910605655e-05}, {\"x\": 5.92, \"pdf\": 1.1225432217700519e-05}, {\"x\": 5.9399999999999995, \"pdf\": 5.3344294685357414e-06}, {\"x\": 5.96, \"pdf\": 2.494733569686431e-06}, {\"x\": 5.98, \"pdf\": 1.1481844294265125e-06}]}}, {\"mode\": \"vega-lite\"});\n",
       "</script>"
      ],
      "text/plain": [
       "alt.LayerChart(...)"
      ]
     },
     "execution_count": 5,
     "metadata": {},
     "output_type": "execute_result"
    }
   ],
   "source": [
    "data_hist = (alt\n",
    "                .Chart(plot_df)\n",
    "                .mark_bar()\n",
    "                .encode(x = alt.X(\"sample_mean:Q\",\n",
    "                                  bin = alt.BinParams(step = 0.1)),\n",
    "                        y = alt.Y(\"count()\")))\n",
    "\n",
    "clt_line = (alt\n",
    "               .Chart(clt_df)\n",
    "               .mark_line(color = \"red\")\n",
    "               .encode(x = \"x\",\n",
    "                       y = \"pdf\"))\n",
    "\n",
    "data_hist + clt_line"
   ]
  },
  {
   "cell_type": "code",
   "execution_count": 6,
   "metadata": {},
   "outputs": [
    {
     "data": {
      "text/html": [
       "\n",
       "<div id=\"altair-viz-45a32b4c04f748b2b84423f7b66e8fbb\"></div>\n",
       "<script type=\"text/javascript\">\n",
       "  (function(spec, embedOpt){\n",
       "    let outputDiv = document.currentScript.previousElementSibling;\n",
       "    if (outputDiv.id !== \"altair-viz-45a32b4c04f748b2b84423f7b66e8fbb\") {\n",
       "      outputDiv = document.getElementById(\"altair-viz-45a32b4c04f748b2b84423f7b66e8fbb\");\n",
       "    }\n",
       "    const paths = {\n",
       "      \"vega\": \"https://cdn.jsdelivr.net/npm//vega@5?noext\",\n",
       "      \"vega-lib\": \"https://cdn.jsdelivr.net/npm//vega-lib?noext\",\n",
       "      \"vega-lite\": \"https://cdn.jsdelivr.net/npm//vega-lite@4.8.1?noext\",\n",
       "      \"vega-embed\": \"https://cdn.jsdelivr.net/npm//vega-embed@6?noext\",\n",
       "    };\n",
       "\n",
       "    function loadScript(lib) {\n",
       "      return new Promise(function(resolve, reject) {\n",
       "        var s = document.createElement('script');\n",
       "        s.src = paths[lib];\n",
       "        s.async = true;\n",
       "        s.onload = () => resolve(paths[lib]);\n",
       "        s.onerror = () => reject(`Error loading script: ${paths[lib]}`);\n",
       "        document.getElementsByTagName(\"head\")[0].appendChild(s);\n",
       "      });\n",
       "    }\n",
       "\n",
       "    function showError(err) {\n",
       "      outputDiv.innerHTML = `<div class=\"error\" style=\"color:red;\">${err}</div>`;\n",
       "      throw err;\n",
       "    }\n",
       "\n",
       "    function displayChart(vegaEmbed) {\n",
       "      vegaEmbed(outputDiv, spec, embedOpt)\n",
       "        .catch(err => showError(`Javascript Error: ${err.message}<br>This usually means there's a typo in your chart specification. See the javascript console for the full traceback.`));\n",
       "    }\n",
       "\n",
       "    if(typeof define === \"function\" && define.amd) {\n",
       "      requirejs.config({paths});\n",
       "      require([\"vega-embed\"], displayChart, err => showError(`Error loading script: ${err.message}`));\n",
       "    } else if (typeof vegaEmbed === \"function\") {\n",
       "      displayChart(vegaEmbed);\n",
       "    } else {\n",
       "      loadScript(\"vega\")\n",
       "        .then(() => loadScript(\"vega-lite\"))\n",
       "        .then(() => loadScript(\"vega-embed\"))\n",
       "        .catch(showError)\n",
       "        .then(() => displayChart(vegaEmbed));\n",
       "    }\n",
       "  })({\"config\": {\"view\": {\"continuousWidth\": 400, \"continuousHeight\": 300}}, \"layer\": [{\"data\": {\"name\": \"data-a5a8bc3ea4543845e29198f2ecade2bc\"}, \"mark\": \"point\", \"encoding\": {\"x\": {\"type\": \"quantitative\", \"field\": \"sample_means\", \"scale\": {\"zero\": false}, \"title\": \"Sample mean quantile\"}, \"y\": {\"type\": \"quantitative\", \"field\": \"quantiles\", \"scale\": {\"zero\": false}, \"title\": \"Normal quantile\"}}}, {\"data\": {\"name\": \"data-d95811e05ca988bfe8c8aa0bc125f80e\"}, \"mark\": {\"type\": \"line\", \"color\": \"red\"}, \"encoding\": {\"x\": {\"type\": \"quantitative\", \"field\": \"x\"}, \"y\": {\"type\": \"quantitative\", \"field\": \"y\"}}}], \"$schema\": \"https://vega.github.io/schema/vega-lite/v4.8.1.json\", \"datasets\": {\"data-a5a8bc3ea4543845e29198f2ecade2bc\": [{\"sample_means\": 4.56442462321793, \"quantiles\": 4.4797220413408105}, {\"sample_means\": 4.600589034976342, \"quantiles\": 4.530759432872859}, {\"sample_means\": 4.602489946545717, \"quantiles\": 4.556168991151405}, {\"sample_means\": 4.603029198413297, \"quantiles\": 4.5735914820435895}, {\"sample_means\": 4.619976639634901, \"quantiles\": 4.586997977102017}, {\"sample_means\": 4.623647920227971, \"quantiles\": 4.5979640163438935}, {\"sample_means\": 4.630666195734038, \"quantiles\": 4.607281592547081}, {\"sample_means\": 4.6392868404482375, \"quantiles\": 4.6154071020988505}, {\"sample_means\": 4.6467077155046805, \"quantiles\": 4.622628372493203}, {\"sample_means\": 4.64732956406357, \"quantiles\": 4.62913899048925}, {\"sample_means\": 4.659481807400127, \"quantiles\": 4.635075612743147}, {\"sample_means\": 4.662064945910531, \"quantiles\": 4.640538419573548}, {\"sample_means\": 4.664873931657396, \"quantiles\": 4.64560311135272}, {\"sample_means\": 4.6724697518485545, \"quantiles\": 4.650328331847222}, {\"sample_means\": 4.672726632347271, \"quantiles\": 4.654760466560312}, {\"sample_means\": 4.674419170302874, \"quantiles\": 4.658936858763352}, {\"sample_means\": 4.676564697877909, \"quantiles\": 4.662888031993216}, {\"sample_means\": 4.678541219664439, \"quantiles\": 4.666639266733958}, {\"sample_means\": 4.678794925130049, \"quantiles\": 4.670211744628824}, {\"sample_means\": 4.6812773394481395, \"quantiles\": 4.673623395503719}, {\"sample_means\": 4.682626671937377, \"quantiles\": 4.676889535479461}, {\"sample_means\": 4.685354757879858, \"quantiles\": 4.68002335525034}, {\"sample_means\": 4.688155264029355, \"quantiles\": 4.683036298960168}, {\"sample_means\": 4.690911076135077, \"quantiles\": 4.685938361904681}, {\"sample_means\": 4.692647603430175, \"quantiles\": 4.688738327126883}, {\"sample_means\": 4.693140483305729, \"quantiles\": 4.691443955403342}, {\"sample_means\": 4.69562216990834, \"quantiles\": 4.6940621392518125}, {\"sample_means\": 4.7087253897884205, \"quantiles\": 4.696599028860356}, {\"sample_means\": 4.714702787844546, \"quantiles\": 4.699060135881988}, {\"sample_means\": 4.716609809317722, \"quantiles\": 4.701450419618123}, {\"sample_means\": 4.719113248423858, \"quantiles\": 4.703774359069131}, {\"sample_means\": 4.720170452234337, \"quantiles\": 4.706036013552827}, {\"sample_means\": 4.727086344748943, \"quantiles\": 4.708239074006985}, {\"sample_means\": 4.727278531085322, \"quantiles\": 4.710386906647747}, {\"sample_means\": 4.7333484114285715, \"quantiles\": 4.712482590315228}, {\"sample_means\": 4.737704871153873, \"quantiles\": 4.714528948574204}, {\"sample_means\": 4.739487141554574, \"quantiles\": 4.716528577432335}, {\"sample_means\": 4.742613396017405, \"quantiles\": 4.718483869377045}, {\"sample_means\": 4.743693018103979, \"quantiles\": 4.720397034304381}, {\"sample_means\": 4.744224256958201, \"quantiles\": 4.722270117811479}, {\"sample_means\": 4.745295287821291, \"quantiles\": 4.724105017242607}, {\"sample_means\": 4.748380370618946, \"quantiles\": 4.725903495812969}, {\"sample_means\": 4.750248025343913, \"quantiles\": 4.7276671950810005}, {\"sample_means\": 4.750904669365071, \"quantiles\": 4.729397645996362}, {\"sample_means\": 4.750937705363696, \"quantiles\": 4.731096278715078}, {\"sample_means\": 4.751164915431253, \"quantiles\": 4.73276443134385}, {\"sample_means\": 4.751772310270579, \"quantiles\": 4.734403357751216}, {\"sample_means\": 4.752502919559806, \"quantiles\": 4.736014234562931}, {\"sample_means\": 4.752516195654907, \"quantiles\": 4.737598167442088}, {\"sample_means\": 4.752826383765738, \"quantiles\": 4.739156196740244}, {\"sample_means\": 4.7529408968103315, \"quantiles\": 4.74068930259395}, {\"sample_means\": 4.757124546066162, \"quantiles\": 4.742198409530932}, {\"sample_means\": 4.757188393963315, \"quantiles\": 4.743684390641698}, {\"sample_means\": 4.759313852047345, \"quantiles\": 4.745148071364991}, {\"sample_means\": 4.760134312622436, \"quantiles\": 4.746590232929385}, {\"sample_means\": 4.760716101357985, \"quantiles\": 4.748011615487943}, {\"sample_means\": 4.762376789118789, \"quantiles\": 4.749412920978341}, {\"sample_means\": 4.765355025546346, \"quantiles\": 4.7507948157369055}, {\"sample_means\": 4.766133985552113, \"quantiles\": 4.75215793289164}, {\"sample_means\": 4.766219856496045, \"quantiles\": 4.753502874556365}, {\"sample_means\": 4.767349013031122, \"quantiles\": 4.75483021384556}, {\"sample_means\": 4.767902400276721, \"quantiles\": 4.756140496727255}, {\"sample_means\": 4.768617158571261, \"quantiles\": 4.7574342437294295}, {\"sample_means\": 4.768749195413715, \"quantiles\": 4.758711951513617}, {\"sample_means\": 4.768852136858162, \"quantiles\": 4.759974094328}, {\"sample_means\": 4.770420568748217, \"quantiles\": 4.761221125350926}, {\"sample_means\": 4.773937496960731, \"quantiles\": 4.762453477934658}, {\"sample_means\": 4.775316875725028, \"quantiles\": 4.763671566758146}, {\"sample_means\": 4.775568155927498, \"quantiles\": 4.76487578889673}, {\"sample_means\": 4.778218592262745, \"quantiles\": 4.766066524815869}, {\"sample_means\": 4.779169561632851, \"quantiles\": 4.767244139295316}, {\"sample_means\": 4.779215932387059, \"quantiles\": 4.768408982289513}, {\"sample_means\": 4.779338293155479, \"quantiles\": 4.769561389729445}, {\"sample_means\": 4.780509365230977, \"quantiles\": 4.770701684270675}, {\"sample_means\": 4.780528581293925, \"quantiles\": 4.771830175991873}, {\"sample_means\": 4.782908425231206, \"quantiles\": 4.772947163047706}, {\"sample_means\": 4.786166485666916, \"quantiles\": 4.774052932279663}, {\"sample_means\": 4.78767867902853, \"quantiles\": 4.77514775978802}, {\"sample_means\": 4.788237880673675, \"quantiles\": 4.776231911467887}, {\"sample_means\": 4.78865917908272, \"quantiles\": 4.777305643512041}, {\"sample_means\": 4.788859448874235, \"quantiles\": 4.77836920288296}, {\"sample_means\": 4.788971926203418, \"quantiles\": 4.779422827756329}, {\"sample_means\": 4.78907794625941, \"quantiles\": 4.780466747938064}, {\"sample_means\": 4.790711370312605, \"quantiles\": 4.781501185256732}, {\"sample_means\": 4.791358291465566, \"quantiles\": 4.782526353933099}, {\"sample_means\": 4.791519801728369, \"quantiles\": 4.783542460928392}, {\"sample_means\": 4.792699526092816, \"quantiles\": 4.784549706272737}, {\"sample_means\": 4.792994406093397, \"quantiles\": 4.785548283375118}, {\"sample_means\": 4.79328943048472, \"quantiles\": 4.786538379316091}, {\"sample_means\": 4.793504365593862, \"quantiles\": 4.787520175124397}, {\"sample_means\": 4.796235064573433, \"quantiles\": 4.788493846038546}, {\"sample_means\": 4.796578533019518, \"quantiles\": 4.789459561754304}, {\"sample_means\": 4.796679461313392, \"quantiles\": 4.79041748665905}, {\"sample_means\": 4.79747119533302, \"quantiles\": 4.791367780053763}, {\"sample_means\": 4.799381146971604, \"quantiles\": 4.792310596363487}, {\"sample_means\": 4.8007468316953155, \"quantiles\": 4.793246085336926}, {\"sample_means\": 4.801810213068416, \"quantiles\": 4.794174392235885}, {\"sample_means\": 4.801907243745675, \"quantiles\": 4.795095658015144}, {\"sample_means\": 4.803723440400955, \"quantiles\": 4.796010019493355}, {\"sample_means\": 4.804171926582439, \"quantiles\": 4.796917609515498}, {\"sample_means\": 4.804422763227264, \"quantiles\": 4.797818557107377}, {\"sample_means\": 4.804845190942276, \"quantiles\": 4.798712987622641}, {\"sample_means\": 4.80531339451281, \"quantiles\": 4.799601022882757}, {\"sample_means\": 4.8074945913516824, \"quantiles\": 4.8004827813103255}, {\"sample_means\": 4.80769981290744, \"quantiles\": 4.801358378056133}, {\"sample_means\": 4.8088364935349714, \"quantiles\": 4.802227925120281}, {\"sample_means\": 4.809291291658679, \"quantiles\": 4.803091531467731}, {\"sample_means\": 4.809997358172126, \"quantiles\": 4.803949303138562}, {\"sample_means\": 4.812778926480212, \"quantiles\": 4.804801343353237}, {\"sample_means\": 4.813109632145253, \"quantiles\": 4.805647752613152}, {\"sample_means\": 4.8136657636392695, \"quantiles\": 4.806488628796704}, {\"sample_means\": 4.814354691339508, \"quantiles\": 4.8073240672511375}, {\"sample_means\": 4.814482812700598, \"quantiles\": 4.808154160880371}, {\"sample_means\": 4.81550978681991, \"quantiles\": 4.808979000229032}, {\"sample_means\": 4.81693898215035, \"quantiles\": 4.809798673562879}, {\"sample_means\": 4.8190737431979285, \"quantiles\": 4.810613266945815}, {\"sample_means\": 4.819152254039601, \"quantiles\": 4.811422864313642}, {\"sample_means\": 4.819427233580791, \"quantiles\": 4.812227547544743}, {\"sample_means\": 4.819509196614846, \"quantiles\": 4.813027396527832}, {\"sample_means\": 4.8202317697191654, \"quantiles\": 4.813822489226922}, {\"sample_means\": 4.82070844108267, \"quantiles\": 4.814612901743645}, {\"sample_means\": 4.821576773437982, \"quantiles\": 4.815398708377055}, {\"sample_means\": 4.822136477217491, \"quantiles\": 4.816179981681033}, {\"sample_means\": 4.823250997723488, \"quantiles\": 4.8169567925194166}, {\"sample_means\": 4.823759698382694, \"quantiles\": 4.817729210118948}, {\"sample_means\": 4.824519186281838, \"quantiles\": 4.818497302120157}, {\"sample_means\": 4.824846442792137, \"quantiles\": 4.819261134626274}, {\"sample_means\": 4.825772155677557, \"quantiles\": 4.820020772250247}, {\"sample_means\": 4.826301528852419, \"quantiles\": 4.820776278159982}, {\"sample_means\": 4.82665803165565, \"quantiles\": 4.821527714121852}, {\"sample_means\": 4.82761287521552, \"quantiles\": 4.822275140542584}, {\"sample_means\": 4.830072560818288, \"quantiles\": 4.823018616509575}, {\"sample_means\": 4.831380890757819, \"quantiles\": 4.823758199829722}, {\"sample_means\": 4.83183268712673, \"quantiles\": 4.824493947066816}, {\"sample_means\": 4.832000026572192, \"quantiles\": 4.825225913577584}, {\"sample_means\": 4.832757611460831, \"quantiles\": 4.825954153546419}, {\"sample_means\": 4.833063537634929, \"quantiles\": 4.826678720018865}, {\"sample_means\": 4.834279394558669, \"quantiles\": 4.827399664933907}, {\"sample_means\": 4.8350101888868595, \"quantiles\": 4.828117039155115}, {\"sample_means\": 4.835064875662768, \"quantiles\": 4.828830892500704}, {\"sample_means\": 4.835234667849425, \"quantiles\": 4.8295412737725325}, {\"sample_means\": 4.836850371470572, \"quantiles\": 4.8302482307841}, {\"sample_means\": 4.838157589019153, \"quantiles\": 4.830951810387589}, {\"sample_means\": 4.838211163420993, \"quantiles\": 4.831652058499972}, {\"sample_means\": 4.83849018531999, \"quantiles\": 4.83234902012824}, {\"sample_means\": 4.839731013946527, \"quantiles\": 4.833042739393783}, {\"sample_means\": 4.840045525020461, \"quantiles\": 4.833733259555946}, {\"sample_means\": 4.8410472491193, \"quantiles\": 4.83442062303481}, {\"sample_means\": 4.841491426874838, \"quantiles\": 4.835104871433221}, {\"sample_means\": 4.843047505667528, \"quantiles\": 4.835786045558092}, {\"sample_means\": 4.845314737804362, \"quantiles\": 4.836464185441018}, {\"sample_means\": 4.845502977957341, \"quantiles\": 4.8371393303582195}, {\"sample_means\": 4.846835059199189, \"quantiles\": 4.837811518849845}, {\"sample_means\": 4.847183602756983, \"quantiles\": 4.8384807887386625}, {\"sample_means\": 4.847745381255479, \"quantiles\": 4.8391471771481545}, {\"sample_means\": 4.847923814937613, \"quantiles\": 4.83981072052004}, {\"sample_means\": 4.848290131898151, \"quantiles\": 4.84047145463126}, {\"sample_means\": 4.8487482828163895, \"quantiles\": 4.841129414610417}, {\"sample_means\": 4.849090861794619, \"quantiles\": 4.841784634953724}, {\"sample_means\": 4.849258473031598, \"quantiles\": 4.842437149540452}, {\"sample_means\": 4.849322060642773, \"quantiles\": 4.843086991647914}, {\"sample_means\": 4.850386170787717, \"quantiles\": 4.843734193965983}, {\"sample_means\": 4.850628771605447, \"quantiles\": 4.844378788611194}, {\"sample_means\": 4.852958164720707, \"quantiles\": 4.845020807140396}, {\"sample_means\": 4.853030343754284, \"quantiles\": 4.845660280564022}, {\"sample_means\": 4.853876970627942, \"quantiles\": 4.846297239358952}, {\"sample_means\": 4.854378634724432, \"quantiles\": 4.8469317134810055}, {\"sample_means\": 4.854380945105789, \"quantiles\": 4.847563732377061}, {\"sample_means\": 4.85541960363907, \"quantiles\": 4.848193324996834}, {\"sample_means\": 4.856976358760105, \"quantiles\": 4.848820519804306}, {\"sample_means\": 4.856983003790034, \"quantiles\": 4.849445344788828}, {\"sample_means\": 4.8574407119495255, \"quantiles\": 4.850067827475909}, {\"sample_means\": 4.85779640083345, \"quantiles\": 4.8506879949377}, {\"sample_means\": 4.858241333315041, \"quantiles\": 4.851305873803175}, {\"sample_means\": 4.858431579249508, \"quantiles\": 4.851921490268032}, {\"sample_means\": 4.859871524005783, \"quantiles\": 4.852534870104322}, {\"sample_means\": 4.860802988664919, \"quantiles\": 4.853146038669801}, {\"sample_means\": 4.860945532375518, \"quantiles\": 4.853755020917031}, {\"sample_means\": 4.861156366729275, \"quantiles\": 4.854361841402231}, {\"sample_means\": 4.861177538507695, \"quantiles\": 4.854966524293887}, {\"sample_means\": 4.861488139287876, \"quantiles\": 4.8555690933811215}, {\"sample_means\": 4.862555230307421, \"quantiles\": 4.856169572081853}, {\"sample_means\": 4.86351678752721, \"quantiles\": 4.856767983450724}, {\"sample_means\": 4.863558710434834, \"quantiles\": 4.857364350186816}, {\"sample_means\": 4.863754642766076, \"quantiles\": 4.857958694641172}, {\"sample_means\": 4.864176215296316, \"quantiles\": 4.858551038824111}, {\"sample_means\": 4.864212687063481, \"quantiles\": 4.859141404412355}, {\"sample_means\": 4.864339558846852, \"quantiles\": 4.859729812755968}, {\"sample_means\": 4.865293794515947, \"quantiles\": 4.860316284885116}, {\"sample_means\": 4.865458469743634, \"quantiles\": 4.860900841516653}, {\"sample_means\": 4.866351884761776, \"quantiles\": 4.861483503060538}, {\"sample_means\": 4.866604182459105, \"quantiles\": 4.862064289626089}, {\"sample_means\": 4.866715410794688, \"quantiles\": 4.862643221028072}, {\"sample_means\": 4.867080108838282, \"quantiles\": 4.863220316792648}, {\"sample_means\": 4.867662685941847, \"quantiles\": 4.863795596163162}, {\"sample_means\": 4.868701105805341, \"quantiles\": 4.864369078105784}, {\"sample_means\": 4.868832656399794, \"quantiles\": 4.864940781315023}, {\"sample_means\": 4.868964116316247, \"quantiles\": 4.865510724219091}, {\"sample_means\": 4.869558706429825, \"quantiles\": 4.8660789249851435}, {\"sample_means\": 4.869657598877139, \"quantiles\": 4.866645401524387}, {\"sample_means\": 4.870018670228817, \"quantiles\": 4.867210171497065}, {\"sample_means\": 4.870522127720054, \"quantiles\": 4.867773252317321}, {\"sample_means\": 4.871457483898535, \"quantiles\": 4.868334661157948}, {\"sample_means\": 4.871608282220295, \"quantiles\": 4.868894414955015}, {\"sample_means\": 4.871790657562322, \"quantiles\": 4.869452530412399}, {\"sample_means\": 4.871897876202229, \"quantiles\": 4.87000902400619}, {\"sample_means\": 4.872880631273467, \"quantiles\": 4.8705639119890085}, {\"sample_means\": 4.8729818552956, \"quantiles\": 4.871117210394208}, {\"sample_means\": 4.8750063865499005, \"quantiles\": 4.871668935039993}, {\"sample_means\": 4.875324849202943, \"quantiles\": 4.872219101533427}, {\"sample_means\": 4.875558942190937, \"quantiles\": 4.872767725274359}, {\"sample_means\": 4.87557302654838, \"quantiles\": 4.873314821459253}, {\"sample_means\": 4.8764297210681615, \"quantiles\": 4.873860405084929}, {\"sample_means\": 4.876496277308498, \"quantiles\": 4.874404490952222}, {\"sample_means\": 4.877392301584181, \"quantiles\": 4.874947093669559}, {\"sample_means\": 4.877884572154384, \"quantiles\": 4.875488227656451}, {\"sample_means\": 4.8787094484793565, \"quantiles\": 4.876027907146903}, {\"sample_means\": 4.8787520677434975, \"quantiles\": 4.876566146192762}, {\"sample_means\": 4.879091056111926, \"quantiles\": 4.877102958666972}, {\"sample_means\": 4.879198926634926, \"quantiles\": 4.87763835826677}, {\"sample_means\": 4.8794912932633805, \"quantiles\": 4.878172358516805}, {\"sample_means\": 4.880243654563069, \"quantiles\": 4.878704972772188}, {\"sample_means\": 4.880295100381687, \"quantiles\": 4.879236214221484}, {\"sample_means\": 4.880896545608811, \"quantiles\": 4.879766095889623}, {\"sample_means\": 4.881703044379903, \"quantiles\": 4.8802946306407655}, {\"sample_means\": 4.882662310837252, \"quantiles\": 4.8808218311810885}, {\"sample_means\": 4.882671799424251, \"quantiles\": 4.881347710061529}, {\"sample_means\": 4.885041392573086, \"quantiles\": 4.881872279680453}, {\"sample_means\": 4.885247502499247, \"quantiles\": 4.88239555228628}, {\"sample_means\": 4.885417493023818, \"quantiles\": 4.882917539980042}, {\"sample_means\": 4.885480640908743, \"quantiles\": 4.883438254717898}, {\"sample_means\": 4.8859301423360995, \"quantiles\": 4.883957708313587}, {\"sample_means\": 4.8872665451088375, \"quantiles\": 4.884475912440834}, {\"sample_means\": 4.8877042690080845, \"quantiles\": 4.884992878635705}, {\"sample_means\": 4.887706008400872, \"quantiles\": 4.885508618298913}, {\"sample_means\": 4.887725093285357, \"quantiles\": 4.886023142698078}, {\"sample_means\": 4.887828765048454, \"quantiles\": 4.886536462969938}, {\"sample_means\": 4.8884243305250985, \"quantiles\": 4.8870485901225145}, {\"sample_means\": 4.888860287902777, \"quantiles\": 4.887559535037238}, {\"sample_means\": 4.889352167636367, \"quantiles\": 4.888069308471023}, {\"sample_means\": 4.890133824689215, \"quantiles\": 4.888577921058311}, {\"sample_means\": 4.890795416243899, \"quantiles\": 4.889085383313061}, {\"sample_means\": 4.892208110049565, \"quantiles\": 4.889591705630712}, {\"sample_means\": 4.893002796291184, \"quantiles\": 4.890096898290094}, {\"sample_means\": 4.893233148616126, \"quantiles\": 4.89060097145531}, {\"sample_means\": 4.893536172543015, \"quantiles\": 4.891103935177582}, {\"sample_means\": 4.8935977979178125, \"quantiles\": 4.891605799397047}, {\"sample_means\": 4.8936902394214234, \"quantiles\": 4.892106573944538}, {\"sample_means\": 4.893890772669888, \"quantiles\": 4.892606268543311}, {\"sample_means\": 4.894011797920746, \"quantiles\": 4.893104892810753}, {\"sample_means\": 4.8940528979303926, \"quantiles\": 4.893602456260045}, {\"sample_means\": 4.894067930031046, \"quantiles\": 4.8940989683018055}, {\"sample_means\": 4.894740685866092, \"quantiles\": 4.89459443824569}, {\"sample_means\": 4.894853456649661, \"quantiles\": 4.895088875301967}, {\"sample_means\": 4.8950711585019615, \"quantiles\": 4.895582288583064}, {\"sample_means\": 4.895260302748676, \"quantiles\": 4.896074687105082}, {\"sample_means\": 4.895325926325518, \"quantiles\": 4.896566079789279}, {\"sample_means\": 4.895791068955888, \"quantiles\": 4.8970564754635335}, {\"sample_means\": 4.89671097835941, \"quantiles\": 4.897545882863772}, {\"sample_means\": 4.897024092797636, \"quantiles\": 4.898034310635375}, {\"sample_means\": 4.8976079675942135, \"quantiles\": 4.898521767334555}, {\"sample_means\": 4.897804623611546, \"quantiles\": 4.899008261429706}, {\"sample_means\": 4.897855607487321, \"quantiles\": 4.899493801302739}, {\"sample_means\": 4.898103321205553, \"quantiles\": 4.899978395250379}, {\"sample_means\": 4.899984625321942, \"quantiles\": 4.9004620514854444}, {\"sample_means\": 4.9000113287522264, \"quantiles\": 4.900944778138107}, {\"sample_means\": 4.901033984438901, \"quantiles\": 4.901426583257122}, {\"sample_means\": 4.901293358085319, \"quantiles\": 4.901907474811044}, {\"sample_means\": 4.901502959539268, \"quantiles\": 4.902387460689409}, {\"sample_means\": 4.901636988777195, \"quantiles\": 4.902866548703908}, {\"sample_means\": 4.902092434888256, \"quantiles\": 4.903344746589532}, {\"sample_means\": 4.902307050279917, \"quantiles\": 4.9038220620057}, {\"sample_means\": 4.902681367290328, \"quantiles\": 4.9042985025373635}, {\"sample_means\": 4.903464839154238, \"quantiles\": 4.904774075696096}, {\"sample_means\": 4.9039404727667275, \"quantiles\": 4.905248788921161}, {\"sample_means\": 4.904108951625632, \"quantiles\": 4.9057226495805555}, {\"sample_means\": 4.904520854216458, \"quantiles\": 4.906195664972053}, {\"sample_means\": 4.904866154893042, \"quantiles\": 4.906667842324204}, {\"sample_means\": 4.906106314935884, \"quantiles\": 4.9071391887973395}, {\"sample_means\": 4.90633559714183, \"quantiles\": 4.907609711484548}, {\"sample_means\": 4.906612816147807, \"quantiles\": 4.908079417412633}, {\"sample_means\": 4.906613694851136, \"quantiles\": 4.908548313543066}, {\"sample_means\": 4.906845329989885, \"quantiles\": 4.909016406772906}, {\"sample_means\": 4.906867210741777, \"quantiles\": 4.909483703935721}, {\"sample_means\": 4.90714780565917, \"quantiles\": 4.9099502118024825}, {\"sample_means\": 4.907736853026155, \"quantiles\": 4.910415937082448}, {\"sample_means\": 4.907976322969229, \"quantiles\": 4.910880886424025}, {\"sample_means\": 4.908157044298774, \"quantiles\": 4.911345066415637}, {\"sample_means\": 4.908270776626734, \"quantiles\": 4.911808483586548}, {\"sample_means\": 4.908771594552488, \"quantiles\": 4.912271144407695}, {\"sample_means\": 4.9089651333698034, \"quantiles\": 4.912733055292502}, {\"sample_means\": 4.908971085812198, \"quantiles\": 4.913194222597672}, {\"sample_means\": 4.909488409553174, \"quantiles\": 4.913654652623976}, {\"sample_means\": 4.910163014796837, \"quantiles\": 4.914114351617026}, {\"sample_means\": 4.910370124100369, \"quantiles\": 4.914573325768033}, {\"sample_means\": 4.911212570752599, \"quantiles\": 4.915031581214554}, {\"sample_means\": 4.911984451961727, \"quantiles\": 4.91548912404123}, {\"sample_means\": 4.913251116957083, \"quantiles\": 4.915945960280508}, {\"sample_means\": 4.913258894789844, \"quantiles\": 4.916402095913355}, {\"sample_means\": 4.913849533079578, \"quantiles\": 4.916857536869953}, {\"sample_means\": 4.913853319279262, \"quantiles\": 4.917312289030396}, {\"sample_means\": 4.9139943086627955, \"quantiles\": 4.9177663582253635}, {\"sample_means\": 4.914147213476068, \"quantiles\": 4.918219750236792}, {\"sample_means\": 4.914935076044687, \"quantiles\": 4.91867247079853}, {\"sample_means\": 4.915492844301569, \"quantiles\": 4.919124525596984}, {\"sample_means\": 4.915828804320435, \"quantiles\": 4.91957592027176}, {\"sample_means\": 4.916758570093907, \"quantiles\": 4.920026660416288}, {\"sample_means\": 4.916783704706235, \"quantiles\": 4.920476751578437}, {\"sample_means\": 4.91680259137318, \"quantiles\": 4.920926199261129}, {\"sample_means\": 4.91683893673524, \"quantiles\": 4.921375008922932}, {\"sample_means\": 4.917080315266986, \"quantiles\": 4.921823185978653}, {\"sample_means\": 4.918088775030572, \"quantiles\": 4.922270735799917}, {\"sample_means\": 4.918574506437507, \"quantiles\": 4.922717663715741}, {\"sample_means\": 4.919586553524889, \"quantiles\": 4.9231639750130896}, {\"sample_means\": 4.920919256233121, \"quantiles\": 4.923609674937443}, {\"sample_means\": 4.921152736420439, \"quantiles\": 4.924054768693329}, {\"sample_means\": 4.921171971780882, \"quantiles\": 4.924499261444872}, {\"sample_means\": 4.921385685580941, \"quantiles\": 4.924943158316316}, {\"sample_means\": 4.9215796283226005, \"quantiles\": 4.925386464392553}, {\"sample_means\": 4.921783482885896, \"quantiles\": 4.925829184719631}, {\"sample_means\": 4.922305054496562, \"quantiles\": 4.926271324305266}, {\"sample_means\": 4.922362760236947, \"quantiles\": 4.926712888119341}, {\"sample_means\": 4.922484653402566, \"quantiles\": 4.927153881094395}, {\"sample_means\": 4.922562411476185, \"quantiles\": 4.927594308126114}, {\"sample_means\": 4.922658543314272, \"quantiles\": 4.928034174073801}, {\"sample_means\": 4.922890432542918, \"quantiles\": 4.9284734837608575}, {\"sample_means\": 4.922933494263856, \"quantiles\": 4.9289122419752385}, {\"sample_means\": 4.923947726612218, \"quantiles\": 4.929350453469915}, {\"sample_means\": 4.924707908611551, \"quantiles\": 4.929788122963328}, {\"sample_means\": 4.924824299233827, \"quantiles\": 4.930225255139826}, {\"sample_means\": 4.925092897855349, \"quantiles\": 4.930661854650111}, {\"sample_means\": 4.925282114323486, \"quantiles\": 4.931097926111667}, {\"sample_means\": 4.926210547264756, \"quantiles\": 4.9315334741091865}, {\"sample_means\": 4.9274524418283745, \"quantiles\": 4.931968503194994}, {\"sample_means\": 4.927551713677438, \"quantiles\": 4.932403017889458}, {\"sample_means\": 4.9280466209343, \"quantiles\": 4.932837022681399}, {\"sample_means\": 4.9281167477361425, \"quantiles\": 4.933270522028497}, {\"sample_means\": 4.928587318559974, \"quantiles\": 4.933703520357685}, {\"sample_means\": 4.929428137779461, \"quantiles\": 4.9341360220655455}, {\"sample_means\": 4.9298857458979395, \"quantiles\": 4.934568031518692}, {\"sample_means\": 4.929922577197263, \"quantiles\": 4.934999553054156}, {\"sample_means\": 4.930195020241149, \"quantiles\": 4.9354305909797604}, {\"sample_means\": 4.93032739819322, \"quantiles\": 4.935861149574494}, {\"sample_means\": 4.930819749996022, \"quantiles\": 4.936291233088875}, {\"sample_means\": 4.9325815440495475, \"quantiles\": 4.936720845745315}, {\"sample_means\": 4.932855117676968, \"quantiles\": 4.937149991738473}, {\"sample_means\": 4.932986579098837, \"quantiles\": 4.9375786752356134}, {\"sample_means\": 4.93313356370407, \"quantiles\": 4.938006900376947}, {\"sample_means\": 4.9338800814113135, \"quantiles\": 4.938434671275977}, {\"sample_means\": 4.933961063912511, \"quantiles\": 4.938861992019839}, {\"sample_means\": 4.93423415591493, \"quantiles\": 4.939288866669634}, {\"sample_means\": 4.934519214859414, \"quantiles\": 4.939715299260757}, {\"sample_means\": 4.93490927427256, \"quantiles\": 4.940141293803223}, {\"sample_means\": 4.935397794532917, \"quantiles\": 4.940566854281992}, {\"sample_means\": 4.935568124344844, \"quantiles\": 4.9409919846572805}, {\"sample_means\": 4.936111602092404, \"quantiles\": 4.94141668886488}, {\"sample_means\": 4.936135928613761, \"quantiles\": 4.941840970816464}, {\"sample_means\": 4.936631049312088, \"quantiles\": 4.942264834399893}, {\"sample_means\": 4.936792203367879, \"quantiles\": 4.9426882834795185}, {\"sample_means\": 4.936873305828445, \"quantiles\": 4.943111321896479}, {\"sample_means\": 4.937511257338798, \"quantiles\": 4.943533953468996}, {\"sample_means\": 4.938357239951853, \"quantiles\": 4.943956181992662}, {\"sample_means\": 4.938548467648734, \"quantiles\": 4.94437801124073}, {\"sample_means\": 4.9393691261278745, \"quantiles\": 4.944799444964395}, {\"sample_means\": 4.939888637282714, \"quantiles\": 4.945220486893079}, {\"sample_means\": 4.94017107456988, \"quantiles\": 4.9456411407347}, {\"sample_means\": 4.940362253475607, \"quantiles\": 4.946061410175952}, {\"sample_means\": 4.941207672894216, \"quantiles\": 4.946481298882572}, {\"sample_means\": 4.941304239659617, \"quantiles\": 4.946900810499609}, {\"sample_means\": 4.941339625957163, \"quantiles\": 4.9473199486516855}, {\"sample_means\": 4.941793747367785, \"quantiles\": 4.947738716943259}, {\"sample_means\": 4.942752826256787, \"quantiles\": 4.948157118958879}, {\"sample_means\": 4.942968717039201, \"quantiles\": 4.948575158263447}, {\"sample_means\": 4.94305040835032, \"quantiles\": 4.948992838402457}, {\"sample_means\": 4.9433498061164265, \"quantiles\": 4.949410162902257}, {\"sample_means\": 4.943377186551281, \"quantiles\": 4.949827135270286}, {\"sample_means\": 4.943566333750872, \"quantiles\": 4.950243758995319}, {\"sample_means\": 4.943748262203371, \"quantiles\": 4.9506600375477126}, {\"sample_means\": 4.944096538842205, \"quantiles\": 4.951075974379633}, {\"sample_means\": 4.944546775874203, \"quantiles\": 4.951491572925301}, {\"sample_means\": 4.94619675049002, \"quantiles\": 4.951906836601217}, {\"sample_means\": 4.946868156946792, \"quantiles\": 4.952321768806395}, {\"sample_means\": 4.947438769671937, \"quantiles\": 4.952736372922589}, {\"sample_means\": 4.947702875853015, \"quantiles\": 4.9531506523145135}, {\"sample_means\": 4.9480947426737005, \"quantiles\": 4.9535646103300754}, {\"sample_means\": 4.948753914941198, \"quantiles\": 4.953978250300583}, {\"sample_means\": 4.94894243934288, \"quantiles\": 4.954391575540972}, {\"sample_means\": 4.949100488677082, \"quantiles\": 4.954804589350015}, {\"sample_means\": 4.9494406422394475, \"quantiles\": 4.955217295010538}, {\"sample_means\": 4.94956954741754, \"quantiles\": 4.955629695789629}, {\"sample_means\": 4.94969300788999, \"quantiles\": 4.956041794938847}, {\"sample_means\": 4.951359156186692, \"quantiles\": 4.956453595694431}, {\"sample_means\": 4.951429494330594, \"quantiles\": 4.956865101277499}, {\"sample_means\": 4.9514955398562766, \"quantiles\": 4.957276314894253}, {\"sample_means\": 4.9519055077383, \"quantiles\": 4.95768723973618}, {\"sample_means\": 4.95242935994331, \"quantiles\": 4.958097878980248}, {\"sample_means\": 4.952447770234257, \"quantiles\": 4.958508235789102}, {\"sample_means\": 4.952672677957297, \"quantiles\": 4.95891831331126}, {\"sample_means\": 4.953376757811635, \"quantiles\": 4.959328114681303}, {\"sample_means\": 4.953505706508761, \"quantiles\": 4.959737643020065}, {\"sample_means\": 4.953546836719939, \"quantiles\": 4.960146901434823}, {\"sample_means\": 4.954160483433087, \"quantiles\": 4.960555893019483}, {\"sample_means\": 4.954333948941467, \"quantiles\": 4.960964620854762}, {\"sample_means\": 4.954534617414654, \"quantiles\": 4.961373088008376}, {\"sample_means\": 4.954580753205754, \"quantiles\": 4.961781297535215}, {\"sample_means\": 4.955869303114101, \"quantiles\": 4.96218925247753}, {\"sample_means\": 4.956575110785368, \"quantiles\": 4.962596955865101}, {\"sample_means\": 4.956655245389443, \"quantiles\": 4.963004410715423}, {\"sample_means\": 4.957475995941408, \"quantiles\": 4.963411620033874}, {\"sample_means\": 4.95777642218623, \"quantiles\": 4.963818586813888}, {\"sample_means\": 4.958080358986923, \"quantiles\": 4.964225314037132}, {\"sample_means\": 4.958376051777033, \"quantiles\": 4.96463180467367}, {\"sample_means\": 4.958439952289153, \"quantiles\": 4.96503806168213}, {\"sample_means\": 4.95852271606399, \"quantiles\": 4.965444088009878}, {\"sample_means\": 4.9587268853893365, \"quantiles\": 4.965849886593179}, {\"sample_means\": 4.958875669007501, \"quantiles\": 4.966255460357357}, {\"sample_means\": 4.958895333873726, \"quantiles\": 4.966660812216965}, {\"sample_means\": 4.9600130975132375, \"quantiles\": 4.96706594507594}, {\"sample_means\": 4.960674759708896, \"quantiles\": 4.967470861827767}, {\"sample_means\": 4.9609581480586815, \"quantiles\": 4.967875565355635}, {\"sample_means\": 4.961632390685334, \"quantiles\": 4.968280058532591}, {\"sample_means\": 4.961787542079973, \"quantiles\": 4.968684344221704}, {\"sample_means\": 4.962720018189786, \"quantiles\": 4.969088425276212}, {\"sample_means\": 4.963860404197096, \"quantiles\": 4.969492304539678}, {\"sample_means\": 4.965075353927431, \"quantiles\": 4.969895984846141}, {\"sample_means\": 4.965146380220806, \"quantiles\": 4.9702994690202695}, {\"sample_means\": 4.965849212220661, \"quantiles\": 4.970702759877507}, {\"sample_means\": 4.966110576758749, \"quantiles\": 4.971105860224223}, {\"sample_means\": 4.966110806064497, \"quantiles\": 4.971508772857861}, {\"sample_means\": 4.966439993862855, \"quantiles\": 4.971911500567084}, {\"sample_means\": 4.9664979873110475, \"quantiles\": 4.972314046131917}, {\"sample_means\": 4.96669867783943, \"quantiles\": 4.972716412323894}, {\"sample_means\": 4.966948783198377, \"quantiles\": 4.973118601906202}, {\"sample_means\": 4.966966832044372, \"quantiles\": 4.9735206176338185}, {\"sample_means\": 4.967815023529052, \"quantiles\": 4.973922462253657}, {\"sample_means\": 4.968373499488731, \"quantiles\": 4.974324138504704}, {\"sample_means\": 4.968388914529387, \"quantiles\": 4.974725649118159}, {\"sample_means\": 4.968494688421984, \"quantiles\": 4.975126996817573}, {\"sample_means\": 4.96855447969132, \"quantiles\": 4.975528184318986}, {\"sample_means\": 4.968967941686511, \"quantiles\": 4.97592921433106}, {\"sample_means\": 4.970439086634297, \"quantiles\": 4.976330089555219}, {\"sample_means\": 4.970640794567781, \"quantiles\": 4.97673081268578}, {\"sample_means\": 4.970772737720451, \"quantiles\": 4.977131386410085}, {\"sample_means\": 4.971402310031535, \"quantiles\": 4.97753181340864}, {\"sample_means\": 4.971703592329214, \"quantiles\": 4.977932096355241}, {\"sample_means\": 4.971870872896791, \"quantiles\": 4.978332237917107}, {\"sample_means\": 4.972123122074793, \"quantiles\": 4.978732240755011}, {\"sample_means\": 4.972713680691143, \"quantiles\": 4.979132107523409}, {\"sample_means\": 4.973237949943639, \"quantiles\": 4.979531840870566}, {\"sample_means\": 4.973365329216342, \"quantiles\": 4.979931443438689}, {\"sample_means\": 4.973478221511121, \"quantiles\": 4.980330917864051}, {\"sample_means\": 4.9739228285644, \"quantiles\": 4.980730266777119}, {\"sample_means\": 4.974517125180772, \"quantiles\": 4.981129492802678}, {\"sample_means\": 4.9748000473576415, \"quantiles\": 4.981528598559958}, {\"sample_means\": 4.975032983520421, \"quantiles\": 4.981927586662756}, {\"sample_means\": 4.975174569283724, \"quantiles\": 4.982326459719565}, {\"sample_means\": 4.975595125366512, \"quantiles\": 4.982725220333693}, {\"sample_means\": 4.975631624661455, \"quantiles\": 4.983123871103383}, {\"sample_means\": 4.976446129696953, \"quantiles\": 4.983522414621945}, {\"sample_means\": 4.976873075400144, \"quantiles\": 4.983920853477865}, {\"sample_means\": 4.976897117166236, \"quantiles\": 4.9843191902549355}, {\"sample_means\": 4.9776333782525475, \"quantiles\": 4.984717427532372}, {\"sample_means\": 4.977849932144313, \"quantiles\": 4.985115567884933}, {\"sample_means\": 4.97802049881973, \"quantiles\": 4.98551361388304}, {\"sample_means\": 4.978163353467082, \"quantiles\": 4.985911568092893}, {\"sample_means\": 4.979529030350877, \"quantiles\": 4.986309433076595}, {\"sample_means\": 4.979801007406428, \"quantiles\": 4.9867072113922655}, {\"sample_means\": 4.979956890405695, \"quantiles\": 4.987104905594157}, {\"sample_means\": 4.980115954546605, \"quantiles\": 4.987502518232776}, {\"sample_means\": 4.981171554807099, \"quantiles\": 4.987900051854995}, {\"sample_means\": 4.983008615775712, \"quantiles\": 4.9882975090041715}, {\"sample_means\": 4.983461699778769, \"quantiles\": 4.988694892220264}, {\"sample_means\": 4.9838210491472275, \"quantiles\": 4.989092204039943}, {\"sample_means\": 4.984058778687155, \"quantiles\": 4.9894894469967115}, {\"sample_means\": 4.984370801768834, \"quantiles\": 4.989886623621016}, {\"sample_means\": 4.984943446772029, \"quantiles\": 4.990283736440362}, {\"sample_means\": 4.984984378417363, \"quantiles\": 4.990680787979426}, {\"sample_means\": 4.985450024435304, \"quantiles\": 4.991077780760171}, {\"sample_means\": 4.985515250408211, \"quantiles\": 4.9914747173019585}, {\"sample_means\": 4.985709879919841, \"quantiles\": 4.991871600121663}, {\"sample_means\": 4.986534832247784, \"quantiles\": 4.992268431733782}, {\"sample_means\": 4.986577655087552, \"quantiles\": 4.99266521465055}, {\"sample_means\": 4.986977152628235, \"quantiles\": 4.993061951382051}, {\"sample_means\": 4.9872526421472045, \"quantiles\": 4.99345864443633}, {\"sample_means\": 4.987550986475395, \"quantiles\": 4.9938552963194995}, {\"sample_means\": 4.988786605630521, \"quantiles\": 4.994251909535862}, {\"sample_means\": 4.98885250587072, \"quantiles\": 4.9946484865880105}, {\"sample_means\": 4.9890856521285025, \"quantiles\": 4.995045029976944}, {\"sample_means\": 4.989627528863122, \"quantiles\": 4.995441542202179}, {\"sample_means\": 4.989803014038525, \"quantiles\": 4.995838025761857}, {\"sample_means\": 4.990002731706058, \"quantiles\": 4.996234483152858}, {\"sample_means\": 4.9924036857498235, \"quantiles\": 4.9966309168709095}, {\"sample_means\": 4.992917225404081, \"quantiles\": 4.997027329410696}, {\"sample_means\": 4.994341566195589, \"quantiles\": 4.997423723265972}, {\"sample_means\": 4.994705812271778, \"quantiles\": 4.9978201009296646}, {\"sample_means\": 4.99601405269639, \"quantiles\": 4.998216464893995}, {\"sample_means\": 4.99651889717728, \"quantiles\": 4.998612817650576}, {\"sample_means\": 4.997306591772069, \"quantiles\": 4.99900916169053}, {\"sample_means\": 4.997361062729069, \"quantiles\": 4.999405499504596}, {\"sample_means\": 4.997588129596703, \"quantiles\": 4.9998018335832395}, {\"sample_means\": 4.997846788907942, \"quantiles\": 5.0001981664167605}, {\"sample_means\": 4.997946644160771, \"quantiles\": 5.000594500495403}, {\"sample_means\": 4.998019506363229, \"quantiles\": 5.00099083830947}, {\"sample_means\": 4.998284640692733, \"quantiles\": 5.001387182349424}, {\"sample_means\": 4.9983013174025785, \"quantiles\": 5.001783535106005}, {\"sample_means\": 4.998851737574265, \"quantiles\": 5.002179899070335}, {\"sample_means\": 4.998905792106008, \"quantiles\": 5.002576276734028}, {\"sample_means\": 4.999083393517668, \"quantiles\": 5.002972670589304}, {\"sample_means\": 4.999311601243281, \"quantiles\": 5.0033690831290905}, {\"sample_means\": 4.9996225444019995, \"quantiles\": 5.0037655168471415}, {\"sample_means\": 5.000166056176833, \"quantiles\": 5.004161974238143}, {\"sample_means\": 5.001630337829231, \"quantiles\": 5.004558457797821}, {\"sample_means\": 5.00170947952581, \"quantiles\": 5.004954970023056}, {\"sample_means\": 5.001802080862044, \"quantiles\": 5.0053515134119895}, {\"sample_means\": 5.002510101491893, \"quantiles\": 5.005748090464138}, {\"sample_means\": 5.0026632374076945, \"quantiles\": 5.0061447036805005}, {\"sample_means\": 5.003249121249288, \"quantiles\": 5.00654135556367}, {\"sample_means\": 5.003720743905319, \"quantiles\": 5.006938048617949}, {\"sample_means\": 5.00411914673868, \"quantiles\": 5.00733478534945}, {\"sample_means\": 5.004598220701097, \"quantiles\": 5.007731568266218}, {\"sample_means\": 5.004688729627426, \"quantiles\": 5.008128399878337}, {\"sample_means\": 5.004775064999445, \"quantiles\": 5.0085252826980415}, {\"sample_means\": 5.004944540781713, \"quantiles\": 5.008922219239829}, {\"sample_means\": 5.00514535631771, \"quantiles\": 5.009319212020574}, {\"sample_means\": 5.005443627402218, \"quantiles\": 5.009716263559638}, {\"sample_means\": 5.006903393524217, \"quantiles\": 5.010113376378984}, {\"sample_means\": 5.007205927303958, \"quantiles\": 5.0105105530032885}, {\"sample_means\": 5.007718626285896, \"quantiles\": 5.010907795960057}, {\"sample_means\": 5.0085739787113, \"quantiles\": 5.011305107779736}, {\"sample_means\": 5.009099400509316, \"quantiles\": 5.0117024909958285}, {\"sample_means\": 5.0092867158306325, \"quantiles\": 5.012099948145005}, {\"sample_means\": 5.009383279480505, \"quantiles\": 5.012497481767224}, {\"sample_means\": 5.009702044239773, \"quantiles\": 5.012895094405843}, {\"sample_means\": 5.009812183097865, \"quantiles\": 5.0132927886077345}, {\"sample_means\": 5.0106388828117145, \"quantiles\": 5.013690566923405}, {\"sample_means\": 5.0106707360573495, \"quantiles\": 5.014088431907107}, {\"sample_means\": 5.011454350064214, \"quantiles\": 5.01448638611696}, {\"sample_means\": 5.011499738783792, \"quantiles\": 5.014884432115067}, {\"sample_means\": 5.0118509619536615, \"quantiles\": 5.015282572467628}, {\"sample_means\": 5.012889329652759, \"quantiles\": 5.0156808097450645}, {\"sample_means\": 5.012979972128372, \"quantiles\": 5.016079146522135}, {\"sample_means\": 5.013198084648976, \"quantiles\": 5.016477585378055}, {\"sample_means\": 5.013264685233337, \"quantiles\": 5.016876128896617}, {\"sample_means\": 5.013314617488098, \"quantiles\": 5.017274779666307}, {\"sample_means\": 5.013357578215726, \"quantiles\": 5.017673540280435}, {\"sample_means\": 5.013474872465358, \"quantiles\": 5.018072413337244}, {\"sample_means\": 5.013489672722308, \"quantiles\": 5.018471401440042}, {\"sample_means\": 5.015133717974574, \"quantiles\": 5.018870507197322}, {\"sample_means\": 5.015289810688524, \"quantiles\": 5.019269733222881}, {\"sample_means\": 5.015695723255632, \"quantiles\": 5.019669082135949}, {\"sample_means\": 5.015827669039363, \"quantiles\": 5.020068556561311}, {\"sample_means\": 5.016583424907516, \"quantiles\": 5.020468159129434}, {\"sample_means\": 5.017318064548501, \"quantiles\": 5.020867892476591}, {\"sample_means\": 5.017837987427111, \"quantiles\": 5.021267759244989}, {\"sample_means\": 5.01799626372547, \"quantiles\": 5.021667762082893}, {\"sample_means\": 5.01831401249343, \"quantiles\": 5.022067903644759}, {\"sample_means\": 5.019025531118072, \"quantiles\": 5.02246818659136}, {\"sample_means\": 5.019271671698143, \"quantiles\": 5.022868613589915}, {\"sample_means\": 5.019370960538206, \"quantiles\": 5.02326918731422}, {\"sample_means\": 5.019448700305032, \"quantiles\": 5.023669910444781}, {\"sample_means\": 5.019807674249873, \"quantiles\": 5.02407078566894}, {\"sample_means\": 5.019900556841078, \"quantiles\": 5.0244718156810135}, {\"sample_means\": 5.020027793774447, \"quantiles\": 5.024873003182427}, {\"sample_means\": 5.020281644613877, \"quantiles\": 5.025274350881841}, {\"sample_means\": 5.0204309853128875, \"quantiles\": 5.025675861495297}, {\"sample_means\": 5.021534450124375, \"quantiles\": 5.026077537746343}, {\"sample_means\": 5.021767259617762, \"quantiles\": 5.0264793823661815}, {\"sample_means\": 5.021824200046535, \"quantiles\": 5.026881398093797}, {\"sample_means\": 5.0219081030956, \"quantiles\": 5.027283587676106}, {\"sample_means\": 5.021970473033963, \"quantiles\": 5.027685953868083}, {\"sample_means\": 5.022273592915688, \"quantiles\": 5.028088499432916}, {\"sample_means\": 5.0226303536901105, \"quantiles\": 5.028491227142139}, {\"sample_means\": 5.02278838113009, \"quantiles\": 5.028894139775777}, {\"sample_means\": 5.0228676631414455, \"quantiles\": 5.029297240122493}, {\"sample_means\": 5.0236774786864355, \"quantiles\": 5.0297005309797305}, {\"sample_means\": 5.023769089943815, \"quantiles\": 5.030104015153859}, {\"sample_means\": 5.024690769583631, \"quantiles\": 5.030507695460322}, {\"sample_means\": 5.025172846259771, \"quantiles\": 5.030911574723787}, {\"sample_means\": 5.025853510727811, \"quantiles\": 5.031315655778296}, {\"sample_means\": 5.027079766211927, \"quantiles\": 5.031719941467409}, {\"sample_means\": 5.027153741725172, \"quantiles\": 5.032124434644365}, {\"sample_means\": 5.027496233605885, \"quantiles\": 5.032529138172233}, {\"sample_means\": 5.027730692488041, \"quantiles\": 5.03293405492406}, {\"sample_means\": 5.027779873942683, \"quantiles\": 5.033339187783035}, {\"sample_means\": 5.028030927982668, \"quantiles\": 5.033744539642643}, {\"sample_means\": 5.028110524513195, \"quantiles\": 5.034150113406821}, {\"sample_means\": 5.02848810731977, \"quantiles\": 5.034555911990122}, {\"sample_means\": 5.02861294970441, \"quantiles\": 5.03496193831787}, {\"sample_means\": 5.029060343860109, \"quantiles\": 5.03536819532633}, {\"sample_means\": 5.029143647541587, \"quantiles\": 5.035774685962868}, {\"sample_means\": 5.0296726624867185, \"quantiles\": 5.036181413186112}, {\"sample_means\": 5.030284009468205, \"quantiles\": 5.036588379966126}, {\"sample_means\": 5.030340704245793, \"quantiles\": 5.036995589284577}, {\"sample_means\": 5.030607750675041, \"quantiles\": 5.037403044134899}, {\"sample_means\": 5.031169542395621, \"quantiles\": 5.03781074752247}, {\"sample_means\": 5.0314659858780635, \"quantiles\": 5.038218702464785}, {\"sample_means\": 5.03250939803262, \"quantiles\": 5.038626911991624}, {\"sample_means\": 5.0337764012683985, \"quantiles\": 5.039035379145238}, {\"sample_means\": 5.033778829784602, \"quantiles\": 5.039444106980517}, {\"sample_means\": 5.033887657536459, \"quantiles\": 5.039853098565177}, {\"sample_means\": 5.033889839025388, \"quantiles\": 5.040262356979935}, {\"sample_means\": 5.034789890457582, \"quantiles\": 5.040671885318697}, {\"sample_means\": 5.034953675451358, \"quantiles\": 5.04108168668874}, {\"sample_means\": 5.035112742810905, \"quantiles\": 5.041491764210898}, {\"sample_means\": 5.036050660402818, \"quantiles\": 5.041902121019752}, {\"sample_means\": 5.036535323768872, \"quantiles\": 5.04231276026382}, {\"sample_means\": 5.036938339984019, \"quantiles\": 5.042723685105747}, {\"sample_means\": 5.037434677784513, \"quantiles\": 5.043134898722501}, {\"sample_means\": 5.037485088221165, \"quantiles\": 5.043546404305569}, {\"sample_means\": 5.038098511509916, \"quantiles\": 5.043958205061153}, {\"sample_means\": 5.038851864230699, \"quantiles\": 5.044370304210371}, {\"sample_means\": 5.039480234544563, \"quantiles\": 5.044782704989462}, {\"sample_means\": 5.040141535564402, \"quantiles\": 5.045195410649985}, {\"sample_means\": 5.040531654421635, \"quantiles\": 5.045608424459028}, {\"sample_means\": 5.040562253528597, \"quantiles\": 5.046021749699417}, {\"sample_means\": 5.040814460471681, \"quantiles\": 5.0464353896699246}, {\"sample_means\": 5.041297994905942, \"quantiles\": 5.0468493476854865}, {\"sample_means\": 5.0430294228166135, \"quantiles\": 5.047263627077411}, {\"sample_means\": 5.0440679374226765, \"quantiles\": 5.047678231193605}, {\"sample_means\": 5.045285838555859, \"quantiles\": 5.048093163398783}, {\"sample_means\": 5.046087076606499, \"quantiles\": 5.048508427074699}, {\"sample_means\": 5.046692160930985, \"quantiles\": 5.048924025620367}, {\"sample_means\": 5.0467654293254185, \"quantiles\": 5.0493399624522874}, {\"sample_means\": 5.046851260789068, \"quantiles\": 5.049756241004681}, {\"sample_means\": 5.047324099249959, \"quantiles\": 5.050172864729714}, {\"sample_means\": 5.047538870686478, \"quantiles\": 5.050589837097743}, {\"sample_means\": 5.047913758251363, \"quantiles\": 5.051007161597543}, {\"sample_means\": 5.048066488852246, \"quantiles\": 5.051424841736553}, {\"sample_means\": 5.0481742722773015, \"quantiles\": 5.051842881041121}, {\"sample_means\": 5.048930543958588, \"quantiles\": 5.052261283056741}, {\"sample_means\": 5.04899173883396, \"quantiles\": 5.0526800513483145}, {\"sample_means\": 5.0493307060094885, \"quantiles\": 5.053099189500391}, {\"sample_means\": 5.050092119122597, \"quantiles\": 5.053518701117428}, {\"sample_means\": 5.050285295486383, \"quantiles\": 5.053938589824048}, {\"sample_means\": 5.050455792945245, \"quantiles\": 5.0543588592653}, {\"sample_means\": 5.05108578788917, \"quantiles\": 5.054779513106921}, {\"sample_means\": 5.0512574829626224, \"quantiles\": 5.055200555035605}, {\"sample_means\": 5.053148311042602, \"quantiles\": 5.05562198875927}, {\"sample_means\": 5.054239442430184, \"quantiles\": 5.056043818007338}, {\"sample_means\": 5.054378759828236, \"quantiles\": 5.056466046531004}, {\"sample_means\": 5.054865314632384, \"quantiles\": 5.056888678103521}, {\"sample_means\": 5.0549367723509855, \"quantiles\": 5.0573117165204815}, {\"sample_means\": 5.055079228247301, \"quantiles\": 5.057735165600107}, {\"sample_means\": 5.055270070085471, \"quantiles\": 5.058159029183536}, {\"sample_means\": 5.055675747032898, \"quantiles\": 5.05858331113512}, {\"sample_means\": 5.0559084931584755, \"quantiles\": 5.0590080153427195}, {\"sample_means\": 5.056033352188459, \"quantiles\": 5.059433145718008}, {\"sample_means\": 5.0568054902414, \"quantiles\": 5.059858706196777}, {\"sample_means\": 5.056922831604237, \"quantiles\": 5.060284700739243}, {\"sample_means\": 5.057272598759952, \"quantiles\": 5.060711133330366}, {\"sample_means\": 5.057602779292714, \"quantiles\": 5.061138007980161}, {\"sample_means\": 5.057755263124164, \"quantiles\": 5.061565328724023}, {\"sample_means\": 5.057975992020391, \"quantiles\": 5.061993099623053}, {\"sample_means\": 5.058820513481562, \"quantiles\": 5.0624213247643866}, {\"sample_means\": 5.05915604701433, \"quantiles\": 5.062850008261527}, {\"sample_means\": 5.059206215808508, \"quantiles\": 5.063279154254685}, {\"sample_means\": 5.059338187794926, \"quantiles\": 5.063708766911125}, {\"sample_means\": 5.059858184511631, \"quantiles\": 5.064138850425506}, {\"sample_means\": 5.060175508503178, \"quantiles\": 5.0645694090202396}, {\"sample_means\": 5.061071137523645, \"quantiles\": 5.065000446945844}, {\"sample_means\": 5.062466806938071, \"quantiles\": 5.065431968481308}, {\"sample_means\": 5.062553843127993, \"quantiles\": 5.0658639779344545}, {\"sample_means\": 5.062579143206404, \"quantiles\": 5.066296479642315}, {\"sample_means\": 5.062676220033374, \"quantiles\": 5.066729477971503}, {\"sample_means\": 5.063026541131069, \"quantiles\": 5.067162977318601}, {\"sample_means\": 5.063030454953569, \"quantiles\": 5.067596982110542}, {\"sample_means\": 5.0634774310429504, \"quantiles\": 5.0680314968050055}, {\"sample_means\": 5.064848415946282, \"quantiles\": 5.0684665258908135}, {\"sample_means\": 5.065415506874295, \"quantiles\": 5.068902073888333}, {\"sample_means\": 5.065655614967971, \"quantiles\": 5.069338145349889}, {\"sample_means\": 5.065765330024532, \"quantiles\": 5.069774744860174}, {\"sample_means\": 5.066510062248895, \"quantiles\": 5.070211877036672}, {\"sample_means\": 5.066875958734144, \"quantiles\": 5.070649546530085}, {\"sample_means\": 5.067266565100442, \"quantiles\": 5.0710877580247615}, {\"sample_means\": 5.067797488539223, \"quantiles\": 5.0715265162391425}, {\"sample_means\": 5.067923159962919, \"quantiles\": 5.071965825926199}, {\"sample_means\": 5.069381240983999, \"quantiles\": 5.072405691873886}, {\"sample_means\": 5.070634541435627, \"quantiles\": 5.072846118905605}, {\"sample_means\": 5.072011741278116, \"quantiles\": 5.073287111880659}, {\"sample_means\": 5.072175695019505, \"quantiles\": 5.073728675694734}, {\"sample_means\": 5.072447478007185, \"quantiles\": 5.074170815280369}, {\"sample_means\": 5.07271658440391, \"quantiles\": 5.074613535607447}, {\"sample_means\": 5.073823415349594, \"quantiles\": 5.075056841683684}, {\"sample_means\": 5.074251439208054, \"quantiles\": 5.075500738555128}, {\"sample_means\": 5.07497278544942, \"quantiles\": 5.075945231306671}, {\"sample_means\": 5.075182817850637, \"quantiles\": 5.076390325062557}, {\"sample_means\": 5.075577703029112, \"quantiles\": 5.0768360249869104}, {\"sample_means\": 5.076464902287238, \"quantiles\": 5.077282336284259}, {\"sample_means\": 5.07653869515611, \"quantiles\": 5.077729264200083}, {\"sample_means\": 5.078379010721599, \"quantiles\": 5.078176814021347}, {\"sample_means\": 5.0784299273557085, \"quantiles\": 5.078624991077068}, {\"sample_means\": 5.0787861588814405, \"quantiles\": 5.079073800738871}, {\"sample_means\": 5.078869655457861, \"quantiles\": 5.079523248421563}, {\"sample_means\": 5.079015853911382, \"quantiles\": 5.079973339583712}, {\"sample_means\": 5.080357888729544, \"quantiles\": 5.08042407972824}, {\"sample_means\": 5.080381482117211, \"quantiles\": 5.080875474403016}, {\"sample_means\": 5.080743547802243, \"quantiles\": 5.08132752920147}, {\"sample_means\": 5.080822319686755, \"quantiles\": 5.081780249763208}, {\"sample_means\": 5.080835162230087, \"quantiles\": 5.0822336417746365}, {\"sample_means\": 5.081339451236603, \"quantiles\": 5.082687710969604}, {\"sample_means\": 5.081914025248742, \"quantiles\": 5.083142463130047}, {\"sample_means\": 5.08271251012445, \"quantiles\": 5.083597904086645}, {\"sample_means\": 5.08314485342447, \"quantiles\": 5.084054039719491}, {\"sample_means\": 5.084303834489534, \"quantiles\": 5.08451087595877}, {\"sample_means\": 5.084753207575457, \"quantiles\": 5.084968418785446}, {\"sample_means\": 5.084935542926421, \"quantiles\": 5.085426674231967}, {\"sample_means\": 5.085846597161292, \"quantiles\": 5.085885648382973}, {\"sample_means\": 5.086336286188995, \"quantiles\": 5.086345347376024}, {\"sample_means\": 5.087215179548338, \"quantiles\": 5.086805777402327}, {\"sample_means\": 5.0879098176589554, \"quantiles\": 5.087266944707498}, {\"sample_means\": 5.088556626537614, \"quantiles\": 5.087728855592304}, {\"sample_means\": 5.089273540686432, \"quantiles\": 5.088191516413452}, {\"sample_means\": 5.0897366999582925, \"quantiles\": 5.088654933584363}, {\"sample_means\": 5.089777293699319, \"quantiles\": 5.089119113575975}, {\"sample_means\": 5.090238607082798, \"quantiles\": 5.089584062917552}, {\"sample_means\": 5.090970163483116, \"quantiles\": 5.090049788197517}, {\"sample_means\": 5.091494070571796, \"quantiles\": 5.090516296064279}, {\"sample_means\": 5.091837250403203, \"quantiles\": 5.090983593227094}, {\"sample_means\": 5.093119425484003, \"quantiles\": 5.091451686456934}, {\"sample_means\": 5.093713593424324, \"quantiles\": 5.091920582587367}, {\"sample_means\": 5.095819246638472, \"quantiles\": 5.092390288515452}, {\"sample_means\": 5.096802202127381, \"quantiles\": 5.0928608112026605}, {\"sample_means\": 5.096946591341838, \"quantiles\": 5.093332157675796}, {\"sample_means\": 5.097171581325386, \"quantiles\": 5.093804335027947}, {\"sample_means\": 5.0973916022267804, \"quantiles\": 5.0942773504194445}, {\"sample_means\": 5.097675756992079, \"quantiles\": 5.094751211078839}, {\"sample_means\": 5.098524010955735, \"quantiles\": 5.095225924303904}, {\"sample_means\": 5.098918415167519, \"quantiles\": 5.095701497462636}, {\"sample_means\": 5.099119789025202, \"quantiles\": 5.0961779379943}, {\"sample_means\": 5.099339658196412, \"quantiles\": 5.096655253410468}, {\"sample_means\": 5.100031920193871, \"quantiles\": 5.0971334512960915}, {\"sample_means\": 5.100226281298472, \"quantiles\": 5.097612539310591}, {\"sample_means\": 5.100535408933693, \"quantiles\": 5.098092525188956}, {\"sample_means\": 5.101186298611167, \"quantiles\": 5.098573416742878}, {\"sample_means\": 5.101399846113492, \"quantiles\": 5.099055221861893}, {\"sample_means\": 5.101683458671895, \"quantiles\": 5.0995379485145556}, {\"sample_means\": 5.101784856212165, \"quantiles\": 5.100021604749621}, {\"sample_means\": 5.1019215262261195, \"quantiles\": 5.100506198697261}, {\"sample_means\": 5.103068808897959, \"quantiles\": 5.100991738570294}, {\"sample_means\": 5.103119040559849, \"quantiles\": 5.101478232665445}, {\"sample_means\": 5.104607299132286, \"quantiles\": 5.101965689364625}, {\"sample_means\": 5.104939338583299, \"quantiles\": 5.102454117136228}, {\"sample_means\": 5.105024378605502, \"quantiles\": 5.1029435245364665}, {\"sample_means\": 5.105060137398986, \"quantiles\": 5.103433920210721}, {\"sample_means\": 5.106028682988385, \"quantiles\": 5.103925312894918}, {\"sample_means\": 5.106224106073776, \"quantiles\": 5.104417711416936}, {\"sample_means\": 5.1086407359529264, \"quantiles\": 5.104911124698033}, {\"sample_means\": 5.108993428050637, \"quantiles\": 5.10540556175431}, {\"sample_means\": 5.1097023425644785, \"quantiles\": 5.1059010316981945}, {\"sample_means\": 5.111181688275041, \"quantiles\": 5.106397543739955}, {\"sample_means\": 5.111695774129731, \"quantiles\": 5.106895107189247}, {\"sample_means\": 5.111783715384136, \"quantiles\": 5.107393731456689}, {\"sample_means\": 5.111788388648583, \"quantiles\": 5.107893426055462}, {\"sample_means\": 5.112390948037078, \"quantiles\": 5.108394200602953}, {\"sample_means\": 5.113985029812145, \"quantiles\": 5.108896064822418}, {\"sample_means\": 5.114146775266064, \"quantiles\": 5.10939902854469}, {\"sample_means\": 5.115719125444068, \"quantiles\": 5.109903101709906}, {\"sample_means\": 5.115828456124813, \"quantiles\": 5.110408294369288}, {\"sample_means\": 5.116433750682339, \"quantiles\": 5.110914616686939}, {\"sample_means\": 5.116500918101108, \"quantiles\": 5.111422078941689}, {\"sample_means\": 5.1168623046471025, \"quantiles\": 5.111930691528977}, {\"sample_means\": 5.117541645998783, \"quantiles\": 5.112440464962762}, {\"sample_means\": 5.118160115656268, \"quantiles\": 5.1129514098774855}, {\"sample_means\": 5.118791819536258, \"quantiles\": 5.113463537030062}, {\"sample_means\": 5.120202734485883, \"quantiles\": 5.113976857301922}, {\"sample_means\": 5.120630947010604, \"quantiles\": 5.114491381701087}, {\"sample_means\": 5.121063133966649, \"quantiles\": 5.115007121364295}, {\"sample_means\": 5.123208116201151, \"quantiles\": 5.115524087559166}, {\"sample_means\": 5.124116268464194, \"quantiles\": 5.116042291686413}, {\"sample_means\": 5.124137275881783, \"quantiles\": 5.116561745282102}, {\"sample_means\": 5.124826689668196, \"quantiles\": 5.117082460019958}, {\"sample_means\": 5.125518119805379, \"quantiles\": 5.11760444771372}, {\"sample_means\": 5.126189081786138, \"quantiles\": 5.118127720319547}, {\"sample_means\": 5.128946434816589, \"quantiles\": 5.118652289938471}, {\"sample_means\": 5.129016481052676, \"quantiles\": 5.1191781688189115}, {\"sample_means\": 5.130188023551854, \"quantiles\": 5.1197053693592345}, {\"sample_means\": 5.130211444387879, \"quantiles\": 5.120233904110377}, {\"sample_means\": 5.130446262343423, \"quantiles\": 5.120763785778516}, {\"sample_means\": 5.130547551597973, \"quantiles\": 5.121295027227812}, {\"sample_means\": 5.131595464044569, \"quantiles\": 5.121827641483195}, {\"sample_means\": 5.132318367483058, \"quantiles\": 5.12236164173323}, {\"sample_means\": 5.133234487246817, \"quantiles\": 5.122897041333028}, {\"sample_means\": 5.134644832475467, \"quantiles\": 5.123433853807238}, {\"sample_means\": 5.134686446288955, \"quantiles\": 5.123972092853097}, {\"sample_means\": 5.135118926783365, \"quantiles\": 5.124511772343549}, {\"sample_means\": 5.135592573080997, \"quantiles\": 5.125052906330441}, {\"sample_means\": 5.136300942937745, \"quantiles\": 5.125595509047778}, {\"sample_means\": 5.137195413616373, \"quantiles\": 5.126139594915071}, {\"sample_means\": 5.1373388040306125, \"quantiles\": 5.126685178540747}, {\"sample_means\": 5.137366373151688, \"quantiles\": 5.127232274725641}, {\"sample_means\": 5.137531715264936, \"quantiles\": 5.127780898466573}, {\"sample_means\": 5.138560809318911, \"quantiles\": 5.128331064960007}, {\"sample_means\": 5.139304291559472, \"quantiles\": 5.128882789605792}, {\"sample_means\": 5.139556539305589, \"quantiles\": 5.1294360880109915}, {\"sample_means\": 5.139874956606718, \"quantiles\": 5.12999097599381}, {\"sample_means\": 5.140504424816738, \"quantiles\": 5.130547469587601}, {\"sample_means\": 5.141049771701632, \"quantiles\": 5.131105585044985}, {\"sample_means\": 5.142537124724501, \"quantiles\": 5.131665338842052}, {\"sample_means\": 5.142550087308397, \"quantiles\": 5.132226747682679}, {\"sample_means\": 5.1431983611421925, \"quantiles\": 5.132789828502935}, {\"sample_means\": 5.1432368901422505, \"quantiles\": 5.133354598475613}, {\"sample_means\": 5.1433390351831925, \"quantiles\": 5.1339210750148565}, {\"sample_means\": 5.144980524286017, \"quantiles\": 5.134489275780909}, {\"sample_means\": 5.145531398478029, \"quantiles\": 5.135059218684977}, {\"sample_means\": 5.145540183690232, \"quantiles\": 5.135630921894216}, {\"sample_means\": 5.145841120720024, \"quantiles\": 5.136204403836838}, {\"sample_means\": 5.146465390459398, \"quantiles\": 5.136779683207352}, {\"sample_means\": 5.147614305604986, \"quantiles\": 5.137356778971928}, {\"sample_means\": 5.148624991570319, \"quantiles\": 5.137935710373911}, {\"sample_means\": 5.148883091360865, \"quantiles\": 5.138516496939462}, {\"sample_means\": 5.149113890670261, \"quantiles\": 5.139099158483347}, {\"sample_means\": 5.149261460447936, \"quantiles\": 5.139683715114884}, {\"sample_means\": 5.149273885807217, \"quantiles\": 5.140270187244032}, {\"sample_means\": 5.149541115076975, \"quantiles\": 5.140858595587645}, {\"sample_means\": 5.151069292818496, \"quantiles\": 5.141448961175889}, {\"sample_means\": 5.1520333139332894, \"quantiles\": 5.142041305358828}, {\"sample_means\": 5.153746368190397, \"quantiles\": 5.142635649813184}, {\"sample_means\": 5.155353329358863, \"quantiles\": 5.143232016549276}, {\"sample_means\": 5.155544192852627, \"quantiles\": 5.143830427918147}, {\"sample_means\": 5.155865387639569, \"quantiles\": 5.1444309066188785}, {\"sample_means\": 5.156630437178332, \"quantiles\": 5.145033475706113}, {\"sample_means\": 5.156813892124519, \"quantiles\": 5.145638158597769}, {\"sample_means\": 5.156930217522149, \"quantiles\": 5.146244979082969}, {\"sample_means\": 5.157093742973914, \"quantiles\": 5.146853961330199}, {\"sample_means\": 5.157515984540252, \"quantiles\": 5.147465129895678}, {\"sample_means\": 5.157697913353056, \"quantiles\": 5.148078509731968}, {\"sample_means\": 5.157730227846907, \"quantiles\": 5.148694126196825}, {\"sample_means\": 5.157801418518983, \"quantiles\": 5.1493120050623}, {\"sample_means\": 5.158551092876436, \"quantiles\": 5.149932172524091}, {\"sample_means\": 5.158821256102378, \"quantiles\": 5.150554655211172}, {\"sample_means\": 5.1602743578767045, \"quantiles\": 5.151179480195694}, {\"sample_means\": 5.160341185556222, \"quantiles\": 5.151806675003166}, {\"sample_means\": 5.1607029085283225, \"quantiles\": 5.152436267622939}, {\"sample_means\": 5.161614533047614, \"quantiles\": 5.1530682865189945}, {\"sample_means\": 5.1620851216477455, \"quantiles\": 5.153702760641048}, {\"sample_means\": 5.163390349895018, \"quantiles\": 5.154339719435978}, {\"sample_means\": 5.1639404163781, \"quantiles\": 5.154979192859604}, {\"sample_means\": 5.164087441738997, \"quantiles\": 5.155621211388806}, {\"sample_means\": 5.164323515176819, \"quantiles\": 5.156265806034017}, {\"sample_means\": 5.165326572940734, \"quantiles\": 5.156913008352086}, {\"sample_means\": 5.166367702350146, \"quantiles\": 5.157562850459548}, {\"sample_means\": 5.167701451613855, \"quantiles\": 5.158215365046276}, {\"sample_means\": 5.167755218122768, \"quantiles\": 5.158870585389583}, {\"sample_means\": 5.168084604902553, \"quantiles\": 5.15952854536874}, {\"sample_means\": 5.168382274582121, \"quantiles\": 5.16018927947996}, {\"sample_means\": 5.168670842194073, \"quantiles\": 5.1608528228518455}, {\"sample_means\": 5.168961547600045, \"quantiles\": 5.1615192112613375}, {\"sample_means\": 5.1698886290919575, \"quantiles\": 5.162188481150155}, {\"sample_means\": 5.169905059519429, \"quantiles\": 5.1628606696417805}, {\"sample_means\": 5.170224265095918, \"quantiles\": 5.163535814558982}, {\"sample_means\": 5.170435884920009, \"quantiles\": 5.164213954441908}, {\"sample_means\": 5.170597231137109, \"quantiles\": 5.164895128566779}, {\"sample_means\": 5.170702873207133, \"quantiles\": 5.16557937696519}, {\"sample_means\": 5.171268084549886, \"quantiles\": 5.166266740444054}, {\"sample_means\": 5.171412972006312, \"quantiles\": 5.166957260606217}, {\"sample_means\": 5.172039887658954, \"quantiles\": 5.16765097987176}, {\"sample_means\": 5.175205868558291, \"quantiles\": 5.168347941500029}, {\"sample_means\": 5.175398849382833, \"quantiles\": 5.169048189612411}, {\"sample_means\": 5.176171710958512, \"quantiles\": 5.1697517692159}, {\"sample_means\": 5.176234791376164, \"quantiles\": 5.1704587262274675}, {\"sample_means\": 5.17711508475113, \"quantiles\": 5.171169107499296}, {\"sample_means\": 5.177328480504284, \"quantiles\": 5.171882960844885}, {\"sample_means\": 5.177475289092998, \"quantiles\": 5.172600335066093}, {\"sample_means\": 5.1778761096204455, \"quantiles\": 5.173321279981135}, {\"sample_means\": 5.179092593917397, \"quantiles\": 5.174045846453581}, {\"sample_means\": 5.180279167434861, \"quantiles\": 5.174774086422416}, {\"sample_means\": 5.180532632068197, \"quantiles\": 5.175506052933184}, {\"sample_means\": 5.180627703737339, \"quantiles\": 5.176241800170278}, {\"sample_means\": 5.181172616413001, \"quantiles\": 5.176981383490425}, {\"sample_means\": 5.182709754456352, \"quantiles\": 5.177724859457416}, {\"sample_means\": 5.183424462473509, \"quantiles\": 5.178472285878148}, {\"sample_means\": 5.183653389362949, \"quantiles\": 5.179223721840018}, {\"sample_means\": 5.18368283651765, \"quantiles\": 5.179979227749753}, {\"sample_means\": 5.184160161630432, \"quantiles\": 5.180738865373726}, {\"sample_means\": 5.1851955521747515, \"quantiles\": 5.181502697879843}, {\"sample_means\": 5.185482954909413, \"quantiles\": 5.182270789881052}, {\"sample_means\": 5.186354022508167, \"quantiles\": 5.1830432074805834}, {\"sample_means\": 5.187281038356828, \"quantiles\": 5.183820018318967}, {\"sample_means\": 5.187850295666825, \"quantiles\": 5.184601291622945}, {\"sample_means\": 5.188464917604532, \"quantiles\": 5.185387098256355}, {\"sample_means\": 5.18956783326872, \"quantiles\": 5.186177510773078}, {\"sample_means\": 5.190948666307662, \"quantiles\": 5.186972603472168}, {\"sample_means\": 5.191259847937514, \"quantiles\": 5.187772452455257}, {\"sample_means\": 5.191524338524254, \"quantiles\": 5.188577135686358}, {\"sample_means\": 5.194805575242426, \"quantiles\": 5.189386733054184}, {\"sample_means\": 5.195149008273083, \"quantiles\": 5.190201326437121}, {\"sample_means\": 5.1955720313926195, \"quantiles\": 5.191020999770968}, {\"sample_means\": 5.196256842592287, \"quantiles\": 5.191845839119629}, {\"sample_means\": 5.1967072522056315, \"quantiles\": 5.1926759327488625}, {\"sample_means\": 5.199984125388319, \"quantiles\": 5.193511371203296}, {\"sample_means\": 5.201339688374014, \"quantiles\": 5.194352247386848}, {\"sample_means\": 5.201509033634085, \"quantiles\": 5.195198656646763}, {\"sample_means\": 5.202231447892476, \"quantiles\": 5.196050696861438}, {\"sample_means\": 5.202527497612043, \"quantiles\": 5.196908468532269}, {\"sample_means\": 5.204272458752342, \"quantiles\": 5.197772074879719}, {\"sample_means\": 5.205455098080498, \"quantiles\": 5.1986416219438665}, {\"sample_means\": 5.205555795010682, \"quantiles\": 5.1995172186896745}, {\"sample_means\": 5.20613979693259, \"quantiles\": 5.200398977117243}, {\"sample_means\": 5.206521269152778, \"quantiles\": 5.201287012377359}, {\"sample_means\": 5.209780887004951, \"quantiles\": 5.202181442892623}, {\"sample_means\": 5.209916506724172, \"quantiles\": 5.203082390484502}, {\"sample_means\": 5.210495642494257, \"quantiles\": 5.203989980506645}, {\"sample_means\": 5.2116492192249835, \"quantiles\": 5.204904341984856}, {\"sample_means\": 5.2134501116334695, \"quantiles\": 5.205825607764115}, {\"sample_means\": 5.2156366045560185, \"quantiles\": 5.206753914663074}, {\"sample_means\": 5.216466400911444, \"quantiles\": 5.207689403636513}, {\"sample_means\": 5.218875176565045, \"quantiles\": 5.208632219946236}, {\"sample_means\": 5.219495267405189, \"quantiles\": 5.20958251334095}, {\"sample_means\": 5.221666603540589, \"quantiles\": 5.210540438245696}, {\"sample_means\": 5.22176508391368, \"quantiles\": 5.211506153961454}, {\"sample_means\": 5.223359289136128, \"quantiles\": 5.212479824875603}, {\"sample_means\": 5.223552999515481, \"quantiles\": 5.213461620683909}, {\"sample_means\": 5.224167800471156, \"quantiles\": 5.214451716624882}, {\"sample_means\": 5.224752796433155, \"quantiles\": 5.215450293727263}, {\"sample_means\": 5.225167865328154, \"quantiles\": 5.216457539071608}, {\"sample_means\": 5.227558114196388, \"quantiles\": 5.217473646066901}, {\"sample_means\": 5.227884012562669, \"quantiles\": 5.218498814743268}, {\"sample_means\": 5.228476039991248, \"quantiles\": 5.219533252061936}, {\"sample_means\": 5.229200963937171, \"quantiles\": 5.220577172243671}, {\"sample_means\": 5.229638816288071, \"quantiles\": 5.22163079711704}, {\"sample_means\": 5.231507973886948, \"quantiles\": 5.222694356487959}, {\"sample_means\": 5.231811198101772, \"quantiles\": 5.223768088532113}, {\"sample_means\": 5.234193886827563, \"quantiles\": 5.22485224021198}, {\"sample_means\": 5.235530462721581, \"quantiles\": 5.225947067720337}, {\"sample_means\": 5.236727717286512, \"quantiles\": 5.227052836952294}, {\"sample_means\": 5.238860781382454, \"quantiles\": 5.228169824008127}, {\"sample_means\": 5.238967379134868, \"quantiles\": 5.229298315729325}, {\"sample_means\": 5.243979298112856, \"quantiles\": 5.230438610270555}, {\"sample_means\": 5.244097275702249, \"quantiles\": 5.231591017710486}, {\"sample_means\": 5.24540999627888, \"quantiles\": 5.232755860704684}, {\"sample_means\": 5.247073366990502, \"quantiles\": 5.233933475184131}, {\"sample_means\": 5.247149306676017, \"quantiles\": 5.23512421110327}, {\"sample_means\": 5.249088038786675, \"quantiles\": 5.236328433241854}, {\"sample_means\": 5.251347937002229, \"quantiles\": 5.237546522065342}, {\"sample_means\": 5.252222484630288, \"quantiles\": 5.238778874649074}, {\"sample_means\": 5.25242134554206, \"quantiles\": 5.240025905672}, {\"sample_means\": 5.254106778469115, \"quantiles\": 5.241288048486383}, {\"sample_means\": 5.254729367232049, \"quantiles\": 5.2425657562705705}, {\"sample_means\": 5.254955586675291, \"quantiles\": 5.243859503272745}, {\"sample_means\": 5.256983603046281, \"quantiles\": 5.245169786154441}, {\"sample_means\": 5.259648838392299, \"quantiles\": 5.246497125443635}, {\"sample_means\": 5.261905446189709, \"quantiles\": 5.24784206710836}, {\"sample_means\": 5.262295655091313, \"quantiles\": 5.249205184263095}, {\"sample_means\": 5.262765963761141, \"quantiles\": 5.25058707902166}, {\"sample_means\": 5.263405205926419, \"quantiles\": 5.251988384512057}, {\"sample_means\": 5.26436331570156, \"quantiles\": 5.2534097670706155}, {\"sample_means\": 5.265933307013651, \"quantiles\": 5.254851928635009}, {\"sample_means\": 5.26757661537298, \"quantiles\": 5.256315609358302}, {\"sample_means\": 5.26853884913012, \"quantiles\": 5.257801590469068}, {\"sample_means\": 5.272768811978947, \"quantiles\": 5.25931069740605}, {\"sample_means\": 5.27372761699687, \"quantiles\": 5.260843803259756}, {\"sample_means\": 5.2739295334886025, \"quantiles\": 5.262401832557913}, {\"sample_means\": 5.274374521099599, \"quantiles\": 5.263985765437069}, {\"sample_means\": 5.276074124458768, \"quantiles\": 5.265596642248784}, {\"sample_means\": 5.276528918026552, \"quantiles\": 5.26723556865615}, {\"sample_means\": 5.278598146331407, \"quantiles\": 5.268903721284922}, {\"sample_means\": 5.279395434454152, \"quantiles\": 5.270602354003638}, {\"sample_means\": 5.280926985795776, \"quantiles\": 5.2723328049189995}, {\"sample_means\": 5.28097525869994, \"quantiles\": 5.274096504187032}, {\"sample_means\": 5.283248880768123, \"quantiles\": 5.275894982757393}, {\"sample_means\": 5.283838095457957, \"quantiles\": 5.277729882188521}, {\"sample_means\": 5.284693130427124, \"quantiles\": 5.279602965695618}, {\"sample_means\": 5.289837676486588, \"quantiles\": 5.281516130622955}, {\"sample_means\": 5.295014462501653, \"quantiles\": 5.283471422567664}, {\"sample_means\": 5.2990145867336835, \"quantiles\": 5.285471051425796}, {\"sample_means\": 5.301006137217138, \"quantiles\": 5.287517409684772}, {\"sample_means\": 5.3036018688948285, \"quantiles\": 5.289613093352253}, {\"sample_means\": 5.304767402220333, \"quantiles\": 5.291760925993015}, {\"sample_means\": 5.311473145552724, \"quantiles\": 5.293963986447173}, {\"sample_means\": 5.311865833210082, \"quantiles\": 5.296225640930869}, {\"sample_means\": 5.315959478397113, \"quantiles\": 5.298549580381877}, {\"sample_means\": 5.326083316703465, \"quantiles\": 5.300939864118012}, {\"sample_means\": 5.3325137970536804, \"quantiles\": 5.303400971139644}, {\"sample_means\": 5.333020461275359, \"quantiles\": 5.305937860748187}, {\"sample_means\": 5.334420212835166, \"quantiles\": 5.308556044596658}, {\"sample_means\": 5.335527652655871, \"quantiles\": 5.311261672873117}, {\"sample_means\": 5.336734842221504, \"quantiles\": 5.3140616380953185}, {\"sample_means\": 5.337955333474602, \"quantiles\": 5.316963701039832}, {\"sample_means\": 5.34605660500996, \"quantiles\": 5.31997664474966}, {\"sample_means\": 5.346585007682807, \"quantiles\": 5.323110464520539}, {\"sample_means\": 5.352450529304533, \"quantiles\": 5.326376604496281}, {\"sample_means\": 5.356445583485509, \"quantiles\": 5.329788255371176}, {\"sample_means\": 5.357122758537925, \"quantiles\": 5.3333607332660415}, {\"sample_means\": 5.360345200496505, \"quantiles\": 5.337111968006784}, {\"sample_means\": 5.361087347434725, \"quantiles\": 5.341063141236647}, {\"sample_means\": 5.37115165612188, \"quantiles\": 5.345239533439688}, {\"sample_means\": 5.376881311455443, \"quantiles\": 5.349671668152778}, {\"sample_means\": 5.3831908469701535, \"quantiles\": 5.35439688864728}, {\"sample_means\": 5.400622294589954, \"quantiles\": 5.359461580426451}, {\"sample_means\": 5.405024491705242, \"quantiles\": 5.364924387256853}, {\"sample_means\": 5.405058690021706, \"quantiles\": 5.37086100951075}, {\"sample_means\": 5.426482646707835, \"quantiles\": 5.377371627506796}, {\"sample_means\": 5.436915479729753, \"quantiles\": 5.3845928979011495}, {\"sample_means\": 5.459111501945234, \"quantiles\": 5.392718407452918}, {\"sample_means\": 5.462256994012687, \"quantiles\": 5.402035983656106}, {\"sample_means\": 5.4648765569226345, \"quantiles\": 5.413002022897983}, {\"sample_means\": 5.477490335889322, \"quantiles\": 5.4264085179564105}, {\"sample_means\": 5.486118685702338, \"quantiles\": 5.443831008848593}, {\"sample_means\": 5.509503572390644, \"quantiles\": 5.469240567127139}, {\"sample_means\": 5.616241988539968, \"quantiles\": 5.520277958659184}], \"data-d95811e05ca988bfe8c8aa0bc125f80e\": [{\"x\": 4.464424623217931, \"y\": 4.464424623217931}, {\"x\": 5.716241988539967, \"y\": 5.716241988539967}]}}, {\"mode\": \"vega-lite\"});\n",
       "</script>"
      ],
      "text/plain": [
       "alt.LayerChart(...)"
      ]
     },
     "execution_count": 6,
     "metadata": {},
     "output_type": "execute_result"
    }
   ],
   "source": [
    "unit_mesh = [1 - (1 / len(sample_means)) * ix - (0.5 / len(sample_means)) for ix in range(0,len(sample_means))]\n",
    "quantile_vals = [stats.norm.isf(u, loc = 5, scale = clt_scale) for u in unit_mesh]\n",
    "sample_means.sort()\n",
    "quant_df = pd.DataFrame({\n",
    "    \"sample_means\": sample_means,\n",
    "    \"quantiles\": quantile_vals})\n",
    "\n",
    "ab_lims = [min(sample_means)-0.1, max(sample_means)+0.1]\n",
    "abline_df = pd.DataFrame({\"x\": ab_lims, \"y\": ab_lims})\n",
    "\n",
    "quant_points = (alt\n",
    "                   .Chart(quant_df)\n",
    "                   .mark_point()\n",
    "                   .encode(x =  alt.X('sample_means:Q',\n",
    "                                      scale=alt.Scale(zero=False),\n",
    "                                      title = \"Sample mean quantile\"),\n",
    "                           y = alt.Y('quantiles:Q',\n",
    "                                      scale=alt.Scale(zero=False),\n",
    "                                      title = \"Normal quantile\")))\n",
    "\n",
    "ab_line = (alt\n",
    "          .Chart(abline_df)\n",
    "          .mark_line(color = \"red\")\n",
    "          .encode(x = \"x\", y = \"y\"))\n",
    "\n",
    "quant_points + ab_line"
   ]
  },
  {
   "cell_type": "markdown",
   "metadata": {},
   "source": [
    "## Experimental results: flipping coins in series\n",
    "\n",
    "Professor Mittens asked 15 of his students to each take turns flipping a coin 30 times and recording how many heads they got. He has a sneaking suspicion that some of the students did not actually do this properly, that they just wrote down some garbage and went to lunch early. We will help Mittens work out whether the coin that was used was fair, i.e. has an equal chance of showing heads or tails.\n",
    "\n",
    "### Exercise 3 part I\n",
    "\n",
    "Read the data in `experiement1.csv` into a `DataFrame`."
   ]
  },
  {
   "cell_type": "code",
   "execution_count": 7,
   "metadata": {},
   "outputs": [],
   "source": [
    "exp1 = pd.read_csv(\"experiment1.csv\")"
   ]
  },
  {
   "cell_type": "markdown",
   "metadata": {},
   "source": [
    "### Exercise 3 part II\n",
    "\n",
    "Compute the point estimate and CI using the function you wrote above. Write a sentence explaining whether you think the coin is a _fair_ coin."
   ]
  },
  {
   "cell_type": "code",
   "execution_count": 8,
   "metadata": {},
   "outputs": [
    {
     "name": "stdout",
     "output_type": "stream",
     "text": [
      "(0.5, (0.4538023569624789, 0.546197643037521))\n"
     ]
    }
   ],
   "source": [
    "head_counts = exp1.drop(columns=\"flip_number\").groupby(\"name\").sum()\n",
    "head_counts[\"name\"] = head_counts.index.copy()\n",
    "\n",
    "total_heads = int(head_counts[\"outcome\"].sum())\n",
    "num_people = int(head_counts[\"name\"].unique().size)\n",
    "num_flips = int(exp1[\"name\"].value_counts().unique())\n",
    "\n",
    "est_and_ci = wald_estimate_and_ci(num_success=total_heads, \n",
    "                                  num_trials=num_people * num_flips)\n",
    "\n",
    "print(est_and_ci)"
   ]
  },
  {
   "cell_type": "markdown",
   "metadata": {},
   "source": [
    "### Partial answer\n",
    "\n",
    "We estimate the probability of heads as 0.49 with a $95\\%$ CI of (0.45,0.54). We are not able to reject the null hypothesis that the coin is fair."
   ]
  },
  {
   "cell_type": "markdown",
   "metadata": {},
   "source": [
    "### Exercise 3 part III\n",
    "\n",
    "Generate a histogram of the number of heads from each student. As an extension, include the binomial distribution supported by your estimate that is most amenable to large value outcomes."
   ]
  },
  {
   "cell_type": "code",
   "execution_count": 9,
   "metadata": {},
   "outputs": [
    {
     "data": {
      "application/vnd.vegalite.v2+json": {
       "$schema": "https://vega.github.io/schema/vega-lite/v2.6.0.json",
       "config": {
        "view": {
         "height": 300,
         "width": 400
        }
       },
       "datasets": {
        "data-3e36b5971c6b02f0d186c5079c3e0618": [
         {
          "name": 0,
          "outcome": 9
         },
         {
          "name": 1,
          "outcome": 13
         },
         {
          "name": 2,
          "outcome": 17
         },
         {
          "name": 3,
          "outcome": 17
         },
         {
          "name": 4,
          "outcome": 14
         },
         {
          "name": 5,
          "outcome": 7
         },
         {
          "name": 6,
          "outcome": 13
         },
         {
          "name": 7,
          "outcome": 13
         },
         {
          "name": 8,
          "outcome": 12
         },
         {
          "name": 9,
          "outcome": 14
         },
         {
          "name": 10,
          "outcome": 10
         },
         {
          "name": 11,
          "outcome": 11
         },
         {
          "name": 12,
          "outcome": 12
         },
         {
          "name": 13,
          "outcome": 30
         },
         {
          "name": 14,
          "outcome": 30
         }
        ],
        "data-cfdea387a9d3fe79a5e21938a28ab58a": [
         {
          "prob": 1.1450546362065415e-09,
          "value": 0
         },
         {
          "prob": 4.032583718814352e-08,
          "value": 1
         },
         {
          "prob": 6.86415880832954e-07,
          "value": 2
         },
         {
          "prob": 7.520730520430741e-06,
          "value": 3
         },
         {
          "prob": 5.959361466732567e-05,
          "value": 4
         },
         {
          "prob": 0.0003637801521431553,
          "value": 5
         },
         {
          "prob": 0.0017793594398306492,
          "value": 6
         },
         {
          "prob": 0.007161645447268646,
          "value": 7
         },
         {
          "prob": 0.024170553384531716,
          "value": 8
         },
         {
          "prob": 0.06935897927735199,
          "value": 9
         },
         {
          "prob": 0.17098496195764634,
          "value": 10
         },
         {
          "prob": 0.3649481401467542,
          "value": 11
         },
         {
          "prob": 0.678327521359728,
          "value": 12
         },
         {
          "prob": 1.1025658039492623,
          "value": 13
         },
         {
          "prob": 1.571669888238224,
          "value": 14
         },
         {
          "prob": 1.9680040339678633,
          "value": 15
         },
         {
          "prob": 2.1658740047744147,
          "value": 16
         },
         {
          "prob": 2.093862848605462,
          "value": 17
         },
         {
          "prob": 1.7752315455567964,
          "value": 18
         },
         {
          "prob": 1.316189978856755,
          "value": 19
         },
         {
          "prob": 0.8498009211314287,
          "value": 20
         },
         {
          "prob": 0.47504399317905865,
          "value": 21
         },
         {
          "prob": 0.2281337753804567,
          "value": 22
         },
         {
          "prob": 0.09315103115723739,
          "value": 23
         },
         {
          "prob": 0.031894103059271685,
          "value": 24
         },
         {
          "prob": 0.008985816861916563,
          "value": 25
         },
         {
          "prob": 0.00202857069625205,
          "value": 26
         },
         {
          "prob": 0.00035279490369601377,
          "value": 27
         },
         {
          "prob": 4.437327204872156e-05,
          "value": 28
         },
         {
          "prob": 3.592438816538233e-06,
          "value": 29
         },
         {
          "prob": 1.4057369282106098e-07,
          "value": 30
         }
        ]
       },
       "layer": [
        {
         "data": {
          "name": "data-3e36b5971c6b02f0d186c5079c3e0618"
         },
         "encoding": {
          "x": {
           "bin": {
            "step": 1
           },
           "field": "outcome",
           "title": "Number of heads",
           "type": "quantitative"
          },
          "y": {
           "aggregate": "count",
           "title": "Number of occurences",
           "type": "quantitative"
          }
         },
         "mark": "bar"
        },
        {
         "data": {
          "name": "data-cfdea387a9d3fe79a5e21938a28ab58a"
         },
         "encoding": {
          "x": {
           "field": "value",
           "type": "quantitative"
          },
          "y": {
           "field": "prob",
           "type": "quantitative"
          }
         },
         "mark": {
          "color": "firebrick",
          "type": "line"
         }
        }
       ]
      },
      "image/png": "[encoded data removed]",
      "text/plain": [
       "<VegaLite 2 object>\n",
       "\n",
       "If you see this message, it means the renderer has not been properly enabled\n",
       "for the frontend that you are using. For more information, see\n",
       "https://altair-viz.github.io/user_guide/troubleshooting.html\n"
      ]
     },
     "execution_count": 9,
     "metadata": {},
     "output_type": "execute_result"
    }
   ],
   "source": [
    "fig_1_a = (alt\n",
    "           .Chart(head_counts)\n",
    "           .mark_bar()\n",
    "           .encode(alt.X(\"outcome:Q\",\n",
    "                         bin = alt.BinParams(step = 1),\n",
    "                         title = \"Number of heads\"),\n",
    "                   y = alt.Y(\"count()\",\n",
    "                            title = \"Number of occurences\")))\n",
    "\n",
    "k_vals = range(0,31)\n",
    "k_probs = [num_people * stats.binom.pmf(k = k, n = num_flips, p = 0.540) for k in k_vals]\n",
    "binom_dist_df = pd.DataFrame({\"value\": k_vals,\n",
    "                              \"prob\": k_probs})\n",
    "\n",
    "fig_1_b = (alt\n",
    "           .Chart(binom_dist_df)\n",
    "           .mark_line(color= \"firebrick\")\n",
    "           .encode(x = \"value\", \n",
    "                   y = \"prob\"))\n",
    "\n",
    "\n",
    "fig_1_a + fig_1_b"
   ]
  },
  {
   "cell_type": "markdown",
   "metadata": {},
   "source": [
    "### Exercise 4 part I\n",
    "\n",
    "It looks like there might be a couple of strange points in this dataset as Mittens suspected. Using the upper bound on $p$ calculate the probability of someone getting all heads. Write a couple of sentences explaining whether you think it is reasonable to remove those data points."
   ]
  },
  {
   "cell_type": "code",
   "execution_count": 10,
   "metadata": {},
   "outputs": [
    {
     "data": {
      "text/plain": [
       "9.371579521404065e-09"
      ]
     },
     "execution_count": 10,
     "metadata": {},
     "output_type": "execute_result"
    }
   ],
   "source": [
    "stats.binom.pmf(k = 30, n = 30, p = 0.54)"
   ]
  },
  {
   "cell_type": "markdown",
   "metadata": {},
   "source": [
    "### Exercise 4 part II\n",
    "\n",
    "Remove the outliers and repeat the process of plotting the data and estimating the parameters and CI. Once you have done this, plot the distribution of the estimated binomial distribution on top of the histogram. Write a couple of sentences explaining what you think about the coin now."
   ]
  },
  {
   "cell_type": "code",
   "execution_count": 11,
   "metadata": {},
   "outputs": [
    {
     "data": {
      "text/plain": [
       "(0.4153846153846154, (0.3664761437453554, 0.4642930870238754))"
      ]
     },
     "execution_count": 11,
     "metadata": {},
     "output_type": "execute_result"
    }
   ],
   "source": [
    "head_counts_clean = head_counts.loc[head_counts[\"outcome\"] < 30]\n",
    "\n",
    "total_heads_clean = int(head_counts_clean[\"outcome\"].sum())\n",
    "num_people_clean = int(head_counts_clean[\"name\"].unique().size)\n",
    "\n",
    "wald_estimate_and_ci(num_success=total_heads_clean, num_trials=num_people_clean * num_flips)"
   ]
  },
  {
   "cell_type": "code",
   "execution_count": 12,
   "metadata": {},
   "outputs": [
    {
     "data": {
      "application/vnd.vegalite.v2+json": {
       "$schema": "https://vega.github.io/schema/vega-lite/v2.6.0.json",
       "config": {
        "view": {
         "height": 300,
         "width": 400
        }
       },
       "datasets": {
        "data-651c4f148c5a2518b55f662c52a2ece8": [
         {
          "name": 0,
          "outcome": 9
         },
         {
          "name": 1,
          "outcome": 13
         },
         {
          "name": 2,
          "outcome": 17
         },
         {
          "name": 3,
          "outcome": 17
         },
         {
          "name": 4,
          "outcome": 14
         },
         {
          "name": 5,
          "outcome": 7
         },
         {
          "name": 6,
          "outcome": 13
         },
         {
          "name": 7,
          "outcome": 13
         },
         {
          "name": 8,
          "outcome": 12
         },
         {
          "name": 9,
          "outcome": 14
         },
         {
          "name": 10,
          "outcome": 10
         },
         {
          "name": 11,
          "outcome": 11
         },
         {
          "name": 12,
          "outcome": 12
         }
        ],
        "data-9fc575678913ae2cd8cec04951321779": [
         {
          "prob": 1.3446812053531815e-06,
          "value": 0
         },
         {
          "prob": 2.861757437033696e-05,
          "value": 1
         },
         {
          "prob": 0.0002943696645700855,
          "value": 2
         },
         {
          "prob": 0.0019490458702589434,
          "value": 3
         },
         {
          "prob": 0.00933293118643215,
          "value": 4
         },
         {
          "prob": 0.03442814615439438,
          "value": 5
         },
         {
          "prob": 0.10176410722274656,
          "value": 6
         },
         {
          "prob": 0.2475141655527599,
          "value": 7
         },
         {
          "prob": 0.5048125449147636,
          "value": 8
         },
         {
          "prob": 0.8753919344865728,
          "value": 9
         },
         {
          "prob": 1.3041095229146151,
          "value": 10
         },
         {
          "prob": 1.682068226913952,
          "value": 11
         },
         {
          "prob": 1.889331619546509,
          "value": 12
         },
         {
          "prob": 1.8557931884303078,
          "value": 13
         },
         {
          "prob": 1.5986106159188909,
          "value": 14
         },
         {
          "prob": 1.2096609105072862,
          "value": 15
         },
         {
          "prob": 0.804502047853403,
          "value": 16
         },
         {
          "prob": 0.47000069361772845,
          "value": 17
         },
         {
          "prob": 0.24080282450784724,
          "value": 18
         },
         {
          "prob": 0.10789006442186948,
          "value": 19
         },
         {
          "prob": 0.0420955678705843,
          "value": 20
         },
         {
          "prob": 0.014220318002680022,
          "value": 21
         },
         {
          "prob": 0.004126875504274278,
          "value": 22
         },
         {
          "prob": 0.0010183000129461565,
          "value": 23
         },
         {
          "prob": 0.0002106952662114393,
          "value": 24
         },
         {
          "prob": 3.587221968317836e-05,
          "value": 25
         },
         {
          "prob": 4.893810377553899e-06,
          "value": 26
         },
         {
          "prob": 5.143225847888285e-07,
          "value": 27
         },
         {
          "prob": 3.909228437497448e-08,
          "value": 28
         },
         {
          "prob": 1.912560921381039e-09,
          "value": 29
         },
         {
          "prob": 4.522579956542049e-11,
          "value": 30
         }
        ]
       },
       "layer": [
        {
         "data": {
          "name": "data-651c4f148c5a2518b55f662c52a2ece8"
         },
         "encoding": {
          "x": {
           "bin": {
            "step": 1
           },
           "field": "outcome",
           "title": "Number of heads",
           "type": "quantitative"
          },
          "y": {
           "aggregate": "count",
           "title": "Number of occurences",
           "type": "quantitative"
          }
         },
         "mark": "bar"
        },
        {
         "data": {
          "name": "data-9fc575678913ae2cd8cec04951321779"
         },
         "encoding": {
          "x": {
           "field": "value",
           "type": "quantitative"
          },
          "y": {
           "field": "prob",
           "type": "quantitative"
          }
         },
         "mark": {
          "color": "firebrick",
          "type": "line"
         }
        }
       ]
      },
      "image/png": "[encoded data removed]",
      "text/plain": [
       "<VegaLite 2 object>\n",
       "\n",
       "If you see this message, it means the renderer has not been properly enabled\n",
       "for the frontend that you are using. For more information, see\n",
       "https://altair-viz.github.io/user_guide/troubleshooting.html\n"
      ]
     },
     "execution_count": 12,
     "metadata": {},
     "output_type": "execute_result"
    }
   ],
   "source": [
    "k_vals = range(0,31)\n",
    "k_probs = [num_people_clean * stats.binom.pmf(k = k, n = num_flips, p = 0.415) for k in k_vals]\n",
    "binom_dist_df = pd.DataFrame({\"value\": k_vals,\n",
    "                              \"prob\": k_probs})\n",
    "\n",
    "fig_2_a = (alt\n",
    "           .Chart(head_counts_clean)\n",
    "           .mark_bar()\n",
    "           .encode(alt.X(\"outcome:Q\",\n",
    "                         bin = alt.BinParams(step = 1),\n",
    "                         title = \"Number of heads\"),\n",
    "                   y = alt.Y(\"count()\",\n",
    "                            title = \"Number of occurences\")))\n",
    "\n",
    "fig_2_b = (alt\n",
    "           .Chart(binom_dist_df)\n",
    "           .mark_line(color= \"firebrick\")\n",
    "           .encode(x = \"value\", y = \"prob\"))\n",
    "\n",
    "fig_2_a + fig_2_b"
   ]
  },
  {
   "cell_type": "markdown",
   "metadata": {},
   "source": [
    "## Experimental results: flipping coins in parallel\n",
    "\n",
    "After the success of his first experiment, Mittens was lauded as a statistical wizard. The royal mint has become interested and is providing additional funds to obtain an additional 49 coins and repeat the experiment to gather more data about the fascinating topic of coin bias. Now he gives each of 50 students a coin each and asks them to flip the coin 30 times and record the results. We will help Mittens work out whether the coins are fair.\n",
    "\n",
    "### Excercise 5 part I\n",
    "\n",
    "Do we need to change anything about how we analyse this data? If so, why, if not, why not? **Hint:** there are good arguments that can be given for each answer. Once you have answered one way, try to answer the other way. "
   ]
  },
  {
   "cell_type": "markdown",
   "metadata": {},
   "source": [
    "### Partial answer\n",
    "\n",
    "If you assume the coins have the same probability of heads it is fine. If you assume that the coins vary then you would need to adjust the model."
   ]
  },
  {
   "cell_type": "markdown",
   "metadata": {},
   "source": [
    "### Exercise 5 part II\n",
    "\n",
    "Using the data in `experiment2.csv` explore the data set using the methodology devised above and write a couple of sentences to explain what you found."
   ]
  },
  {
   "cell_type": "code",
   "execution_count": 13,
   "metadata": {},
   "outputs": [
    {
     "name": "stdout",
     "output_type": "stream",
     "text": [
      "(0.4013333333333333, (0.37652739859779666, 0.42613926806887))\n"
     ]
    }
   ],
   "source": [
    "exp2 = pd.read_csv(\"experiment2.csv\")\n",
    "\n",
    "head_counts = exp2.drop(columns=\"flip_number\").groupby(\"name\").sum()\n",
    "head_counts[\"name\"] = head_counts.index.copy()\n",
    "\n",
    "total_heads = int(head_counts[\"outcome\"].sum())\n",
    "num_people = int(head_counts[\"name\"].unique().size)\n",
    "num_flips = int(exp2[\"name\"].value_counts().unique())\n",
    "\n",
    "wald_estimate = wald_estimate_and_ci(num_success=total_heads, \n",
    "                                     num_trials=num_people * num_flips)\n",
    "\n",
    "print(wald_estimate)"
   ]
  },
  {
   "cell_type": "markdown",
   "metadata": {},
   "source": [
    "### Exercise 5 part III\n",
    "\n",
    "Visualise the number of heads each student got and compare the variance in this to what is predicted by theory. Revise your answer to part I of this exercise."
   ]
  },
  {
   "cell_type": "code",
   "execution_count": 14,
   "metadata": {},
   "outputs": [
    {
     "name": "stdout",
     "output_type": "stream",
     "text": [
      "18.69224489795919 7.2079466666666665\n"
     ]
    },
    {
     "data": {
      "application/vnd.vegalite.v2+json": {
       "$schema": "https://vega.github.io/schema/vega-lite/v2.6.0.json",
       "config": {
        "view": {
         "height": 300,
         "width": 400
        }
       },
       "data": {
        "name": "data-6848c08f6b43d814c683ff191c0a1025"
       },
       "datasets": {
        "data-6848c08f6b43d814c683ff191c0a1025": [
         {
          "name": 0,
          "outcome": 7
         },
         {
          "name": 1,
          "outcome": 7
         },
         {
          "name": 2,
          "outcome": 4
         },
         {
          "name": 3,
          "outcome": 7
         },
         {
          "name": 4,
          "outcome": 4
         },
         {
          "name": 5,
          "outcome": 4
         },
         {
          "name": 6,
          "outcome": 10
         },
         {
          "name": 7,
          "outcome": 7
         },
         {
          "name": 8,
          "outcome": 11
         },
         {
          "name": 9,
          "outcome": 3
         },
         {
          "name": 10,
          "outcome": 12
         },
         {
          "name": 11,
          "outcome": 10
         },
         {
          "name": 12,
          "outcome": 12
         },
         {
          "name": 13,
          "outcome": 12
         },
         {
          "name": 14,
          "outcome": 9
         },
         {
          "name": 15,
          "outcome": 14
         },
         {
          "name": 16,
          "outcome": 9
         },
         {
          "name": 17,
          "outcome": 6
         },
         {
          "name": 18,
          "outcome": 9
         },
         {
          "name": 19,
          "outcome": 10
         },
         {
          "name": 20,
          "outcome": 13
         },
         {
          "name": 21,
          "outcome": 15
         },
         {
          "name": 22,
          "outcome": 10
         },
         {
          "name": 23,
          "outcome": 15
         },
         {
          "name": 24,
          "outcome": 12
         },
         {
          "name": 25,
          "outcome": 13
         },
         {
          "name": 26,
          "outcome": 15
         },
         {
          "name": 27,
          "outcome": 15
         },
         {
          "name": 28,
          "outcome": 8
         },
         {
          "name": 29,
          "outcome": 9
         },
         {
          "name": 30,
          "outcome": 13
         },
         {
          "name": 31,
          "outcome": 11
         },
         {
          "name": 32,
          "outcome": 13
         },
         {
          "name": 33,
          "outcome": 13
         },
         {
          "name": 34,
          "outcome": 19
         },
         {
          "name": 35,
          "outcome": 16
         },
         {
          "name": 36,
          "outcome": 20
         },
         {
          "name": 37,
          "outcome": 16
         },
         {
          "name": 38,
          "outcome": 17
         },
         {
          "name": 39,
          "outcome": 11
         },
         {
          "name": 40,
          "outcome": 17
         },
         {
          "name": 41,
          "outcome": 11
         },
         {
          "name": 42,
          "outcome": 16
         },
         {
          "name": 43,
          "outcome": 15
         },
         {
          "name": 44,
          "outcome": 15
         },
         {
          "name": 45,
          "outcome": 18
         },
         {
          "name": 46,
          "outcome": 15
         },
         {
          "name": 47,
          "outcome": 16
         },
         {
          "name": 48,
          "outcome": 18
         },
         {
          "name": 49,
          "outcome": 20
         }
        ]
       },
       "encoding": {
        "x": {
         "field": "name",
         "type": "quantitative"
        },
        "y": {
         "field": "outcome",
         "type": "quantitative"
        }
       },
       "mark": "point"
      },
      "image/png": "[encoded data removed]",
      "text/plain": [
       "<VegaLite 2 object>\n",
       "\n",
       "If you see this message, it means the renderer has not been properly enabled\n",
       "for the frontend that you are using. For more information, see\n",
       "https://altair-viz.github.io/user_guide/troubleshooting.html\n"
      ]
     },
     "execution_count": 14,
     "metadata": {},
     "output_type": "execute_result"
    }
   ],
   "source": [
    "emp_var = head_counts[\"outcome\"].var()\n",
    "thry_var = stats.binom.var(n = num_flips, p = wald_estimate[0])\n",
    "\n",
    "print(emp_var,thry_var)\n",
    "\n",
    "alt.Chart(head_counts).mark_point().encode(\n",
    "    x = \"name\",\n",
    "    y = \"outcome\"\n",
    ")"
   ]
  },
  {
   "cell_type": "markdown",
   "metadata": {},
   "source": [
    "### Partial answer\n",
    "\n",
    "- There appears to be systematic differences in the number of heads obtained.\n",
    "- The variance is too great.\n",
    "- It seems that we should not consider all the coins as identical.\n",
    "\n"
   ]
  },
  {
   "cell_type": "markdown",
   "metadata": {},
   "source": [
    "### Exercise 5 part IV (Extension)\n",
    "\n",
    "Consider how you might analyse this data. Over the following weeks you will learn a couple of approaches."
   ]
  },
  {
   "cell_type": "markdown",
   "metadata": {},
   "source": [
    "### Partial answer\n",
    "\n",
    "One could use a negative binomial distribution if one were interested in an empirical analysis or a hierarchical model if one were interested in a structural analysis."
   ]
  },
  {
   "cell_type": "markdown",
   "metadata": {},
   "source": [
    "## Epilogue\n",
    "\n",
    "Professor Mittens' work was published in a top tier journal and he was lauded as a statistical wizard. Rumour has it he will soon be elected to the British Acadmey."
   ]
  }
 ],
 "metadata": {
  "kernelspec": {
   "display_name": "Python 3",
   "language": "python",
   "name": "python3"
  },
  "language_info": {
   "codemirror_mode": {
    "name": "ipython",
    "version": 3
   },
   "file_extension": ".py",
   "mimetype": "text/x-python",
   "name": "python",
   "nbconvert_exporter": "python",
   "pygments_lexer": "ipython3",
   "version": "3.7.6"
  }
 },
 "nbformat": 4,
 "nbformat_minor": 4
}
