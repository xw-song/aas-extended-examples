{
 "cells": [
  {
   "cell_type": "markdown",
   "metadata": {},
   "source": [
    "# Flipping coins with Professor Mittens\n",
    "\n",
    "In this lab we will look at the binomial distribution, central limit theorem, and analyse two data sets collected by [Professor Mittens](https://en.wikipedia.org/wiki/Mittens_(cat)) helping him interrogate the bais in the results of coin flips. Some of the questions are open-ended by design. Partial solutions will be distributed at the end of the session. The imports below are used in the provided solutions, consider these suggestions, not constraints. The answers use `altair` but you can use any plotting library you are comfortable with."
   ]
  },
  {
   "cell_type": "code",
   "execution_count": 1,
   "metadata": {},
   "outputs": [],
   "source": [
    "import pandas as pd\n",
    "from scipy import stats\n",
    "import altair as alt\n",
    "from typing import List, Any, Tuple\n",
    "from functools import reduce\n",
    "from itertools import repeat\n",
    "import math as math"
   ]
  },
  {
   "cell_type": "markdown",
   "metadata": {},
   "source": [
    "## Parameter estimation of the binomial distribution\n",
    "\n",
    "Bernoulli and binomial random variables are the typical way to represent the outcome of coin flips. Below we consider estimates of the probability of heads based on a known number of successes in a given number of trials and also a confidence interval (CI) for this based on the Wald method will be given.\n",
    "\n",
    "Let $X$ be a binomial random variable (RV) which results from the number of heads when a coin is flipped $n$ times and the probability of coming up heads is $p$. For the time being we will assume that $n$ is know. The expected value of $X$ is $np$. So a simple way to estimate $p$ is to divide the number of heads, $X$, by the number of flips, $n$. This gives the estimate \n",
    "\n",
    "$$\n",
    "\\hat{p} = X / n.\n",
    "$$\n",
    "\n",
    "It turns out that this is a very sensible thing to do. The resulting estimate is called the maximum likelihood estimate (MLE) of $p$. It is also the result that one obtains via [the method of moments](https://en.wikipedia.org/wiki/Method_of_moments_(statistics)).\n",
    "\n",
    "Given an estimator though, we want to know how confident we are in the estimate it produces. Here we will use the Wald method to get the $95\\%$ CI. It is a very simple method but is acceptable when we have a fair bit of data. The estimated standard error of $\\hat{p}$ is $\\sqrt{\\hat{p}(1-\\hat{p})/n}$, so the Wald CI is given by\n",
    "\n",
    "$$\n",
    "\\hat{p} \\pm z \\sqrt{\\frac{\\hat{p}(1-\\hat{p})}{n}}\n",
    "$$\n",
    "\n",
    "where $z$ is the appropriate quantile of the standard normal distribution. In the case of a $95\\%$ distribution this is just $1.96$.\n",
    "\n",
    "This is stated on the [wikipedia](https://en.wikipedia.org/wiki/Binomial_distribution#Estimation_of_parameters) but there is also a reasonably clear description in [All of Statistics](https://link.springer.com/book/10.1007/978-0-387-21736-9) which you can get via SOLO."
   ]
  },
  {
   "cell_type": "markdown",
   "metadata": {},
   "source": [
    "### Exercise 1 part I\n",
    "\n",
    "Professor Mittens is not very familiar with the binomial distribution and wants you to justify the estimator used above. Convince yourself that the estimate given above, $X/n$, is a sensible choice. Prove that it is either the MLE or the method of moments estimator for $p$. State the limitations on the estimator we are using for the CI."
   ]
  },
  {
   "cell_type": "markdown",
   "metadata": {},
   "source": [
    "### Partial answer\n",
    "\n",
    "- Observe that the expected number of heads is $pn$ and solve for $p$.\n",
    "- Consider each flip as a Bernoulli trial and optimise the resulting log-likelihood function\n",
    "- The Wald estimate assumes you have enough data to justify an asymptotic solution so is unlikely to be accurate for small datasets."
   ]
  },
  {
   "cell_type": "markdown",
   "metadata": {},
   "source": [
    "### Exercise 1 part II\n",
    "\n",
    "Implement a function called `wald_estimate_and_ci` which takes two arguments: `num_trials` which is $n$ in the description above, and `num_success` which is $X$ above. The function should return `(p_hat,(wald_lower,wald_upper))` where `p_hat` is $\\hat{p}$ and `wald_x` are the limits on the $95\\%$ CI using the Wald method."
   ]
  },
  {
   "cell_type": "code",
   "execution_count": 2,
   "metadata": {},
   "outputs": [
    {
     "name": "stdout",
     "output_type": "stream",
     "text": [
      "(0.5, (0.19009678930349883, 0.8099032106965012))\n"
     ]
    }
   ],
   "source": [
    "CI = Tuple[float,float]\n",
    "EstimateAndCI = Tuple[float,CI]\n",
    "\n",
    "# the -> is to help you know that it is an EstimateAndCI later\n",
    "\n",
    "def wald_estimate_and_ci(num_trials: int, num_success: int) -> EstimateAndCI:\n",
    "    p_hat = num_success / num_trials\n",
    "    z = 1.96\n",
    "    delta = z * math.sqrt(p_hat * (1 - p_hat) / num_trials)\n",
    "    return (p_hat,(p_hat - delta, p_hat + delta))\n",
    "\n",
    "print(wald_estimate_and_ci(10,5))"
   ]
  },
  {
   "cell_type": "markdown",
   "metadata": {},
   "source": [
    "### Exercise 2 part I\n",
    "\n",
    "Look up how to simulate a random variable from a binomial distribution (it tells you [here](https://docs.scipy.org/doc/scipy/reference/generated/scipy.stats.binom.html#scipy.stats.binom) if you want to use `scipy`). Then simulate a binomial random variable with $n=100$ and $p=0.6$. Then use the value and the `wald_estimate_and_ci` function to see how well you can estimate $p$. Write a couple of sentences to explain this.\n",
    "\n",
    "### Exercise 2 part II\n",
    "\n",
    "Repeat the process about 100000 times and see what proportion of the CIs capture the true value of $p$. Is it what you expect? Write a couple of sentences to explain what you found."
   ]
  },
  {
   "cell_type": "code",
   "execution_count": 3,
   "metadata": {},
   "outputs": [
    {
     "data": {
      "text/plain": [
       "0.94849"
      ]
     },
     "execution_count": 3,
     "metadata": {},
     "output_type": "execute_result"
    }
   ],
   "source": [
    "rand_xs = stats.binom.rvs(n = 100, p = 0.6, size = 100000)\n",
    "\n",
    "def ci_contains_value(ci: CI, p: float) -> bool:\n",
    "    lower,upper = ci\n",
    "    return lower < p and p < upper\n",
    "\n",
    "p_in_ci_bools = [ci_contains_value(wald_estimate_and_ci(100, x)[1], 0.6) for x in rand_xs]\n",
    "\n",
    "reduce(lambda a, b: a + 1 if b else a, p_in_ci_bools, 0) / 100000"
   ]
  },
  {
   "cell_type": "markdown",
   "metadata": {},
   "source": [
    "### Exercise 2 part III\n",
    "\n",
    "Are credible intervals and confidence intervals the same thing?"
   ]
  },
  {
   "cell_type": "markdown",
   "metadata": {},
   "source": [
    "### Partial answer\n",
    "\n",
    "No confidence intervals are talk about repeated experiments in frequentist statistics while credible intervals talk about posterior probability in Bayesian statistics."
   ]
  },
  {
   "cell_type": "markdown",
   "metadata": {},
   "source": [
    "## Central limit theorem\n",
    "\n",
    "The central limit theorem tells us about the limiting distribution of the sample mean for distribution for an IID sample with a finite variance. It underpins many results in statistics and is important for reasoning about stochastic processes.\n",
    "\n",
    "### Exercise 3 part I\n",
    "\n",
    "Professor Mittens *really* likes to sound fancy and use the name of important theorems. Write down a statement of the law of large numbers. Write down a statement of the central limit theorem. Make sure you understand what each of them tells you."
   ]
  },
  {
   "cell_type": "markdown",
   "metadata": {},
   "source": [
    "**XWANS**\n",
    "\n",
    "Law of large numbers: As your sample gets really large, your average gets really accurate and converges to the true mean\n",
    "\n",
    "CLT: tells us about the rate of these conversions. It quantifies how much the sample average is going to fluctuate from the true value. "
   ]
  },
  {
   "cell_type": "markdown",
   "metadata": {},
   "source": [
    "### Partial answer\n",
    "\n",
    "- $\\hat{X}$ converges to $\\mu$.\n",
    "- $\\sqrt{n}(\\hat{X} - \\mu) / \\sigma$ converges in distribution to the standard normal distribution as the sample size increases.\n",
    "- The LLN tells you what the limiting value is, the CLT tells you about how about the fluctuations."
   ]
  },
  {
   "cell_type": "markdown",
   "metadata": {},
   "source": [
    "### Exercise 3 part II\n",
    "\n",
    "To see that the distribution of the sample mean converges to a normal distribution we will do a simulation study and compare the results with a Q-Q plot to see if it looks normally distributed. This will also demonstrate how to construct a Q-Q plot from first principles, not that you really want to do that. Carry out the following steps:\n",
    "\n",
    "1. Write down the distribution of the sample mean given an IID sample of exponential random variables\n",
    "2. Generate 100 sample means each based on a sample of 100 exponential random variables\n",
    "3. Make a histogram and a Q-Q plot to see if the sample means do appear to follow a normal distribution"
   ]
  },
  {
   "cell_type": "code",
   "execution_count": 4,
   "metadata": {},
   "outputs": [],
   "source": [
    "sample_size = 1000\n",
    "num_replicates = 1000\n",
    "\n",
    "sample_means = [stats.expon.rvs(scale = 5, size = sample_size).mean() for _ in range(num_replicates)]\n",
    "\n",
    "plot_df = pd.DataFrame({\"sample_mean\": sample_means})\n",
    "\n",
    "mesh_size = 100\n",
    "x_vals = [0.02 * ix + 4 for ix in range(0,mesh_size)]\n",
    "\n",
    "clt_scale = 5 / math.sqrt(sample_size)\n",
    "\n",
    "clt_pdf = [mesh_size * stats.norm.pdf(x, loc = 5, scale = clt_scale) for x in x_vals]\n",
    "clt_df = pd.DataFrame({\"x\": x_vals, \"pdf\": clt_pdf})"
   ]
  },
  {
   "cell_type": "code",
   "execution_count": 5,
   "metadata": {},
   "outputs": [
    {
     "data": {
      "text/html": [
       "\n",
       "<div id=\"altair-viz-97627a3264874ca5b019f695d92bd2dd\"></div>\n",
       "<script type=\"text/javascript\">\n",
       "  (function(spec, embedOpt){\n",
       "    let outputDiv = document.currentScript.previousElementSibling;\n",
       "    if (outputDiv.id !== \"altair-viz-97627a3264874ca5b019f695d92bd2dd\") {\n",
       "      outputDiv = document.getElementById(\"altair-viz-97627a3264874ca5b019f695d92bd2dd\");\n",
       "    }\n",
       "    const paths = {\n",
       "      \"vega\": \"https://cdn.jsdelivr.net/npm//vega@5?noext\",\n",
       "      \"vega-lib\": \"https://cdn.jsdelivr.net/npm//vega-lib?noext\",\n",
       "      \"vega-lite\": \"https://cdn.jsdelivr.net/npm//vega-lite@4.8.1?noext\",\n",
       "      \"vega-embed\": \"https://cdn.jsdelivr.net/npm//vega-embed@6?noext\",\n",
       "    };\n",
       "\n",
       "    function loadScript(lib) {\n",
       "      return new Promise(function(resolve, reject) {\n",
       "        var s = document.createElement('script');\n",
       "        s.src = paths[lib];\n",
       "        s.async = true;\n",
       "        s.onload = () => resolve(paths[lib]);\n",
       "        s.onerror = () => reject(`Error loading script: ${paths[lib]}`);\n",
       "        document.getElementsByTagName(\"head\")[0].appendChild(s);\n",
       "      });\n",
       "    }\n",
       "\n",
       "    function showError(err) {\n",
       "      outputDiv.innerHTML = `<div class=\"error\" style=\"color:red;\">${err}</div>`;\n",
       "      throw err;\n",
       "    }\n",
       "\n",
       "    function displayChart(vegaEmbed) {\n",
       "      vegaEmbed(outputDiv, spec, embedOpt)\n",
       "        .catch(err => showError(`Javascript Error: ${err.message}<br>This usually means there's a typo in your chart specification. See the javascript console for the full traceback.`));\n",
       "    }\n",
       "\n",
       "    if(typeof define === \"function\" && define.amd) {\n",
       "      requirejs.config({paths});\n",
       "      require([\"vega-embed\"], displayChart, err => showError(`Error loading script: ${err.message}`));\n",
       "    } else if (typeof vegaEmbed === \"function\") {\n",
       "      displayChart(vegaEmbed);\n",
       "    } else {\n",
       "      loadScript(\"vega\")\n",
       "        .then(() => loadScript(\"vega-lite\"))\n",
       "        .then(() => loadScript(\"vega-embed\"))\n",
       "        .catch(showError)\n",
       "        .then(() => displayChart(vegaEmbed));\n",
       "    }\n",
       "  })({\"config\": {\"view\": {\"continuousWidth\": 400, \"continuousHeight\": 300}}, \"layer\": [{\"data\": {\"name\": \"data-c181ff07dd4b7a59011b87dd38031a16\"}, \"mark\": \"bar\", \"encoding\": {\"x\": {\"type\": \"quantitative\", \"bin\": {\"step\": 0.1}, \"field\": \"sample_mean\"}, \"y\": {\"type\": \"quantitative\", \"aggregate\": \"count\"}}}, {\"data\": {\"name\": \"data-d11c7646668d096f96fe9a781f61b4d2\"}, \"mark\": {\"type\": \"line\", \"color\": \"red\"}, \"encoding\": {\"x\": {\"type\": \"quantitative\", \"field\": \"x\"}, \"y\": {\"type\": \"quantitative\", \"field\": \"pdf\"}}}], \"$schema\": \"https://vega.github.io/schema/vega-lite/v4.8.1.json\", \"datasets\": {\"data-c181ff07dd4b7a59011b87dd38031a16\": [{\"sample_mean\": 5.033196379254627}, {\"sample_mean\": 5.03994057460737}, {\"sample_mean\": 5.002075132237704}, {\"sample_mean\": 5.200492906226204}, {\"sample_mean\": 4.882348599168333}, {\"sample_mean\": 4.906024922233215}, {\"sample_mean\": 4.967248280224799}, {\"sample_mean\": 5.058040661572569}, {\"sample_mean\": 4.861029672119763}, {\"sample_mean\": 5.024726248043121}, {\"sample_mean\": 5.188372485378149}, {\"sample_mean\": 4.959142675578815}, {\"sample_mean\": 5.295737233714194}, {\"sample_mean\": 5.150547539571387}, {\"sample_mean\": 4.857065623892196}, {\"sample_mean\": 5.337169069118291}, {\"sample_mean\": 5.114120532551281}, {\"sample_mean\": 5.080414629250474}, {\"sample_mean\": 5.105648972579054}, {\"sample_mean\": 5.173141573601041}, {\"sample_mean\": 5.032424764330322}, {\"sample_mean\": 4.908138994240653}, {\"sample_mean\": 4.940225607053957}, {\"sample_mean\": 4.678526873746928}, {\"sample_mean\": 5.354087184218947}, {\"sample_mean\": 5.074802414046859}, {\"sample_mean\": 4.9377113816314795}, {\"sample_mean\": 4.886292120985241}, {\"sample_mean\": 4.876141516860085}, {\"sample_mean\": 5.12135445376831}, {\"sample_mean\": 5.273024373953234}, {\"sample_mean\": 4.896341407395461}, {\"sample_mean\": 4.976952955873221}, {\"sample_mean\": 4.970272466327088}, {\"sample_mean\": 5.1164165766721075}, {\"sample_mean\": 4.876483960061591}, {\"sample_mean\": 4.9446271673189806}, {\"sample_mean\": 4.83840909925824}, {\"sample_mean\": 5.14585695107987}, {\"sample_mean\": 5.16197450844186}, {\"sample_mean\": 4.779575273255161}, {\"sample_mean\": 4.925250596080927}, {\"sample_mean\": 5.161353127402576}, {\"sample_mean\": 4.953624828675249}, {\"sample_mean\": 4.7580101940198585}, {\"sample_mean\": 4.67669552244539}, {\"sample_mean\": 5.100125661926247}, {\"sample_mean\": 5.191170184516787}, {\"sample_mean\": 5.0199387715796435}, {\"sample_mean\": 5.0794276803019}, {\"sample_mean\": 5.026850082641257}, {\"sample_mean\": 5.228631214890002}, {\"sample_mean\": 5.085718321980497}, {\"sample_mean\": 5.091831585671603}, {\"sample_mean\": 4.934381943182343}, {\"sample_mean\": 5.224591701774448}, {\"sample_mean\": 5.1582839173929615}, {\"sample_mean\": 5.012896176070919}, {\"sample_mean\": 4.998276358191387}, {\"sample_mean\": 5.027474647563167}, {\"sample_mean\": 5.18047786459726}, {\"sample_mean\": 4.92209132609659}, {\"sample_mean\": 5.096756706950157}, {\"sample_mean\": 5.227662227642188}, {\"sample_mean\": 4.928121553462412}, {\"sample_mean\": 5.056491334588574}, {\"sample_mean\": 4.845991035391961}, {\"sample_mean\": 5.045279106457412}, {\"sample_mean\": 5.3444363008226485}, {\"sample_mean\": 5.118719488370751}, {\"sample_mean\": 5.246527824363928}, {\"sample_mean\": 4.9291661217516936}, {\"sample_mean\": 5.043816099255262}, {\"sample_mean\": 4.940122145676557}, {\"sample_mean\": 4.971506100416265}, {\"sample_mean\": 5.025957091895026}, {\"sample_mean\": 5.044166168880028}, {\"sample_mean\": 4.989032007652885}, {\"sample_mean\": 5.057726570810257}, {\"sample_mean\": 5.035447471166876}, {\"sample_mean\": 4.963011309666564}, {\"sample_mean\": 5.2231221926811955}, {\"sample_mean\": 4.881308509883662}, {\"sample_mean\": 4.905412605858457}, {\"sample_mean\": 5.233557986658347}, {\"sample_mean\": 5.065270251437338}, {\"sample_mean\": 5.077241063414881}, {\"sample_mean\": 5.267641797562468}, {\"sample_mean\": 5.082959201799036}, {\"sample_mean\": 5.071871908435707}, {\"sample_mean\": 5.09076637757126}, {\"sample_mean\": 5.042698738414127}, {\"sample_mean\": 4.8431219831578165}, {\"sample_mean\": 4.938439514167164}, {\"sample_mean\": 5.186085882745919}, {\"sample_mean\": 4.952366358115082}, {\"sample_mean\": 4.985356092458218}, {\"sample_mean\": 4.933519501024396}, {\"sample_mean\": 5.1917513366226045}, {\"sample_mean\": 4.939044921392333}, {\"sample_mean\": 5.093567476125687}, {\"sample_mean\": 4.90176901948593}, {\"sample_mean\": 5.035416907984556}, {\"sample_mean\": 4.859943517760783}, {\"sample_mean\": 4.793751831971933}, {\"sample_mean\": 4.875298483952986}, {\"sample_mean\": 4.8508082396644605}, {\"sample_mean\": 5.007227447335408}, {\"sample_mean\": 4.908858525299672}, {\"sample_mean\": 4.808246968357148}, {\"sample_mean\": 5.2033374769236325}, {\"sample_mean\": 4.710559211884793}, {\"sample_mean\": 5.216881068872899}, {\"sample_mean\": 4.957894742707138}, {\"sample_mean\": 4.939323589716548}, {\"sample_mean\": 5.364764283480733}, {\"sample_mean\": 4.869543439649366}, {\"sample_mean\": 4.991125108795717}, {\"sample_mean\": 5.025462521529187}, {\"sample_mean\": 4.764232994088563}, {\"sample_mean\": 4.742528020970788}, {\"sample_mean\": 4.7548242422936005}, {\"sample_mean\": 4.896052833747705}, {\"sample_mean\": 4.901872991063217}, {\"sample_mean\": 5.108617529802135}, {\"sample_mean\": 5.201128656385984}, {\"sample_mean\": 4.9728046760541}, {\"sample_mean\": 5.0998010201036275}, {\"sample_mean\": 5.104396236663359}, {\"sample_mean\": 4.908522109622467}, {\"sample_mean\": 4.80200502019741}, {\"sample_mean\": 5.220983004290886}, {\"sample_mean\": 4.900263773185418}, {\"sample_mean\": 4.9410345620129394}, {\"sample_mean\": 4.946274709698204}, {\"sample_mean\": 5.105749565947907}, {\"sample_mean\": 5.096931242231505}, {\"sample_mean\": 5.125455719986785}, {\"sample_mean\": 4.9332133793107875}, {\"sample_mean\": 4.757872400047981}, {\"sample_mean\": 4.910363558840383}, {\"sample_mean\": 5.152417167261703}, {\"sample_mean\": 4.998269038837665}, {\"sample_mean\": 5.107115000182903}, {\"sample_mean\": 4.9938490041105315}, {\"sample_mean\": 5.0350171907725665}, {\"sample_mean\": 5.041587325725221}, {\"sample_mean\": 5.110277675075128}, {\"sample_mean\": 4.904294490618208}, {\"sample_mean\": 4.723532582988461}, {\"sample_mean\": 5.067783293636823}, {\"sample_mean\": 5.108033680798149}, {\"sample_mean\": 5.072496061639644}, {\"sample_mean\": 5.189523860254983}, {\"sample_mean\": 4.955177456343452}, {\"sample_mean\": 5.257876428128618}, {\"sample_mean\": 4.800213844909281}, {\"sample_mean\": 4.983555324926139}, {\"sample_mean\": 5.072134981057278}, {\"sample_mean\": 5.096707519328089}, {\"sample_mean\": 4.861907673786943}, {\"sample_mean\": 5.037967448376979}, {\"sample_mean\": 5.072978260794024}, {\"sample_mean\": 4.817440891865562}, {\"sample_mean\": 5.102779423901348}, {\"sample_mean\": 4.844604131485164}, {\"sample_mean\": 5.062730309410548}, {\"sample_mean\": 4.961361843479308}, {\"sample_mean\": 5.308244539877158}, {\"sample_mean\": 4.8266433280917225}, {\"sample_mean\": 5.06824129360792}, {\"sample_mean\": 4.880610091460079}, {\"sample_mean\": 5.094352261646308}, {\"sample_mean\": 5.138683696854928}, {\"sample_mean\": 4.813862953553662}, {\"sample_mean\": 5.100436215599709}, {\"sample_mean\": 4.749550032752649}, {\"sample_mean\": 5.240412257004515}, {\"sample_mean\": 5.116796347740748}, {\"sample_mean\": 4.726816341855746}, {\"sample_mean\": 4.935494479365743}, {\"sample_mean\": 5.008069216573414}, {\"sample_mean\": 4.845301724140427}, {\"sample_mean\": 4.97184280235456}, {\"sample_mean\": 5.329442370780492}, {\"sample_mean\": 5.079547080070741}, {\"sample_mean\": 4.988217105622922}, {\"sample_mean\": 4.870750535390746}, {\"sample_mean\": 4.8918324469410726}, {\"sample_mean\": 5.204013541683744}, {\"sample_mean\": 5.142765828903491}, {\"sample_mean\": 5.038569817753359}, {\"sample_mean\": 4.921294587239296}, {\"sample_mean\": 4.999923833728582}, {\"sample_mean\": 5.140078529523763}, {\"sample_mean\": 5.020991311554833}, {\"sample_mean\": 5.1736555211930835}, {\"sample_mean\": 5.0049811346740665}, {\"sample_mean\": 4.781918812329302}, {\"sample_mean\": 5.131312056467499}, {\"sample_mean\": 5.02398048237024}, {\"sample_mean\": 4.95626055345927}, {\"sample_mean\": 4.7901223699467375}, {\"sample_mean\": 5.086167483407341}, {\"sample_mean\": 5.039750685587008}, {\"sample_mean\": 4.834206090668833}, {\"sample_mean\": 5.076171431630239}, {\"sample_mean\": 5.293856663668193}, {\"sample_mean\": 4.764151258239616}, {\"sample_mean\": 5.176267307963226}, {\"sample_mean\": 4.9378126479401105}, {\"sample_mean\": 5.085127834295843}, {\"sample_mean\": 4.982379883977042}, {\"sample_mean\": 4.964353154767489}, {\"sample_mean\": 4.966985733489232}, {\"sample_mean\": 4.92963880381238}, {\"sample_mean\": 4.731103755317806}, {\"sample_mean\": 4.570950185052824}, {\"sample_mean\": 4.749090752947033}, {\"sample_mean\": 5.063024111005543}, {\"sample_mean\": 4.69580935218012}, {\"sample_mean\": 4.9201387002590105}, {\"sample_mean\": 5.1619012962627275}, {\"sample_mean\": 4.823675325723498}, {\"sample_mean\": 4.8289152209748964}, {\"sample_mean\": 5.135176565134614}, {\"sample_mean\": 4.690067088151886}, {\"sample_mean\": 4.900596546768663}, {\"sample_mean\": 4.704769519071393}, {\"sample_mean\": 5.163827459386308}, {\"sample_mean\": 5.028306613506582}, {\"sample_mean\": 4.973297992910698}, {\"sample_mean\": 5.05998393524924}, {\"sample_mean\": 5.403281882804228}, {\"sample_mean\": 4.988675480048748}, {\"sample_mean\": 5.030183769058966}, {\"sample_mean\": 4.837994928359864}, {\"sample_mean\": 5.168545254538749}, {\"sample_mean\": 5.004998202346082}, {\"sample_mean\": 4.931631407557006}, {\"sample_mean\": 4.890754211261281}, {\"sample_mean\": 4.798885682974309}, {\"sample_mean\": 5.109622368127044}, {\"sample_mean\": 5.11328390878651}, {\"sample_mean\": 5.004652875327052}, {\"sample_mean\": 5.04548190681749}, {\"sample_mean\": 5.0022489345849745}, {\"sample_mean\": 5.091077275622877}, {\"sample_mean\": 4.77091416677739}, {\"sample_mean\": 5.157815834182531}, {\"sample_mean\": 5.33632041889977}, {\"sample_mean\": 4.97971596006457}, {\"sample_mean\": 4.988353909765974}, {\"sample_mean\": 4.906726337078106}, {\"sample_mean\": 4.869805857273879}, {\"sample_mean\": 4.660711570305743}, {\"sample_mean\": 5.044368716258594}, {\"sample_mean\": 5.066365875859768}, {\"sample_mean\": 5.1356889899699665}, {\"sample_mean\": 5.034179636118148}, {\"sample_mean\": 4.954251302030516}, {\"sample_mean\": 4.957208834798118}, {\"sample_mean\": 5.194885601752107}, {\"sample_mean\": 4.692146947957948}, {\"sample_mean\": 5.169437840493467}, {\"sample_mean\": 5.265900042481656}, {\"sample_mean\": 4.875286141801398}, {\"sample_mean\": 5.051341038638985}, {\"sample_mean\": 5.037444433992632}, {\"sample_mean\": 5.090273637415774}, {\"sample_mean\": 4.981823687095945}, {\"sample_mean\": 4.915690562286693}, {\"sample_mean\": 5.0055305766132845}, {\"sample_mean\": 5.116710484848024}, {\"sample_mean\": 4.7948186752338495}, {\"sample_mean\": 4.908164164663632}, {\"sample_mean\": 4.885565085540413}, {\"sample_mean\": 4.980014624323085}, {\"sample_mean\": 5.200371586151223}, {\"sample_mean\": 5.0967638110864355}, {\"sample_mean\": 4.8014964430178875}, {\"sample_mean\": 5.191525676880137}, {\"sample_mean\": 4.978581075757547}, {\"sample_mean\": 5.095755269056601}, {\"sample_mean\": 5.2320500100051675}, {\"sample_mean\": 5.093495205751979}, {\"sample_mean\": 5.099746447548529}, {\"sample_mean\": 4.897404010727696}, {\"sample_mean\": 5.028459198394183}, {\"sample_mean\": 5.0107857827019995}, {\"sample_mean\": 5.11030308608229}, {\"sample_mean\": 5.181384605246005}, {\"sample_mean\": 4.938260085790997}, {\"sample_mean\": 4.806957563250553}, {\"sample_mean\": 4.826919975146203}, {\"sample_mean\": 5.291644582546769}, {\"sample_mean\": 5.107544109139527}, {\"sample_mean\": 4.96089377756567}, {\"sample_mean\": 5.1151287947279}, {\"sample_mean\": 5.067818781199253}, {\"sample_mean\": 4.99595304157182}, {\"sample_mean\": 5.0065174049634}, {\"sample_mean\": 5.199442619403738}, {\"sample_mean\": 4.9421069034980425}, {\"sample_mean\": 4.824837047713192}, {\"sample_mean\": 5.133660658432794}, {\"sample_mean\": 4.782644248000297}, {\"sample_mean\": 5.132358020213089}, {\"sample_mean\": 4.919595997365794}, {\"sample_mean\": 4.934517560993265}, {\"sample_mean\": 4.953920534320634}, {\"sample_mean\": 4.920800732357982}, {\"sample_mean\": 4.940290600901833}, {\"sample_mean\": 5.162039576513313}, {\"sample_mean\": 5.172733574482377}, {\"sample_mean\": 4.900827728409197}, {\"sample_mean\": 5.10768634219339}, {\"sample_mean\": 4.825322183743936}, {\"sample_mean\": 5.067076532159816}, {\"sample_mean\": 4.651239940383459}, {\"sample_mean\": 4.829827415377787}, {\"sample_mean\": 4.850423491210668}, {\"sample_mean\": 4.76345948501064}, {\"sample_mean\": 4.778878236680535}, {\"sample_mean\": 5.003207101378145}, {\"sample_mean\": 4.9710185122609065}, {\"sample_mean\": 5.120334075785299}, {\"sample_mean\": 4.969338278416958}, {\"sample_mean\": 5.318883043876454}, {\"sample_mean\": 4.895815920857717}, {\"sample_mean\": 5.281659297217248}, {\"sample_mean\": 4.986445959680418}, {\"sample_mean\": 4.769673997324895}, {\"sample_mean\": 5.200558916727188}, {\"sample_mean\": 5.061073060437925}, {\"sample_mean\": 5.009303868287465}, {\"sample_mean\": 4.864130350321564}, {\"sample_mean\": 5.010121136560522}, {\"sample_mean\": 5.188614515195341}, {\"sample_mean\": 5.108406355691763}, {\"sample_mean\": 4.9356867520537}, {\"sample_mean\": 4.991833373584417}, {\"sample_mean\": 5.0242004236057}, {\"sample_mean\": 5.034659464427104}, {\"sample_mean\": 5.102540956972423}, {\"sample_mean\": 5.127289202149719}, {\"sample_mean\": 4.863595181258261}, {\"sample_mean\": 5.236573221670204}, {\"sample_mean\": 4.971854572061753}, {\"sample_mean\": 4.713344771816411}, {\"sample_mean\": 4.971452437479404}, {\"sample_mean\": 4.967671476969943}, {\"sample_mean\": 4.870063914301497}, {\"sample_mean\": 4.6519160603781815}, {\"sample_mean\": 5.097221662336295}, {\"sample_mean\": 5.078694764129186}, {\"sample_mean\": 4.766507024927212}, {\"sample_mean\": 4.798046673220623}, {\"sample_mean\": 4.821412739796207}, {\"sample_mean\": 4.974076930589876}, {\"sample_mean\": 5.286786173035782}, {\"sample_mean\": 5.032877624939404}, {\"sample_mean\": 5.014884887651959}, {\"sample_mean\": 5.079029670933906}, {\"sample_mean\": 5.37187338700282}, {\"sample_mean\": 4.901875721759979}, {\"sample_mean\": 5.177102949800026}, {\"sample_mean\": 4.746615553195078}, {\"sample_mean\": 5.2755974535075785}, {\"sample_mean\": 5.135059361405795}, {\"sample_mean\": 5.232342655108907}, {\"sample_mean\": 5.171059990561913}, {\"sample_mean\": 4.971008918292504}, {\"sample_mean\": 4.93258173486091}, {\"sample_mean\": 5.069764917301223}, {\"sample_mean\": 5.146987786175462}, {\"sample_mean\": 4.751758015006813}, {\"sample_mean\": 4.77610779064026}, {\"sample_mean\": 4.980538163972728}, {\"sample_mean\": 4.937158281463142}, {\"sample_mean\": 5.024957945741526}, {\"sample_mean\": 4.879879309987149}, {\"sample_mean\": 4.999334105434352}, {\"sample_mean\": 4.726642143379396}, {\"sample_mean\": 4.839173162013895}, {\"sample_mean\": 4.95323212428179}, {\"sample_mean\": 4.983013207729165}, {\"sample_mean\": 5.080334488144381}, {\"sample_mean\": 5.015637200649921}, {\"sample_mean\": 5.150376004808578}, {\"sample_mean\": 5.070367662823361}, {\"sample_mean\": 5.015038990344354}, {\"sample_mean\": 5.000542287647122}, {\"sample_mean\": 5.27864519181181}, {\"sample_mean\": 4.85152214855302}, {\"sample_mean\": 5.0700898695503325}, {\"sample_mean\": 5.125162212909398}, {\"sample_mean\": 4.981634777060379}, {\"sample_mean\": 4.785198718660193}, {\"sample_mean\": 4.9570584620319575}, {\"sample_mean\": 5.077914209130455}, {\"sample_mean\": 4.955520998708703}, {\"sample_mean\": 4.656830639204845}, {\"sample_mean\": 5.002380101002349}, {\"sample_mean\": 5.043378457936878}, {\"sample_mean\": 5.326990839344773}, {\"sample_mean\": 4.939619690679137}, {\"sample_mean\": 4.972585105804244}, {\"sample_mean\": 5.118855548915804}, {\"sample_mean\": 4.9055340952283}, {\"sample_mean\": 4.910238836087192}, {\"sample_mean\": 5.014419536966739}, {\"sample_mean\": 4.98885308272512}, {\"sample_mean\": 5.040661717679881}, {\"sample_mean\": 5.210874501745537}, {\"sample_mean\": 4.966827363300197}, {\"sample_mean\": 4.928814125060782}, {\"sample_mean\": 5.183699130018373}, {\"sample_mean\": 5.067425418219476}, {\"sample_mean\": 4.812565609889426}, {\"sample_mean\": 5.071045704128682}, {\"sample_mean\": 5.129343891301322}, {\"sample_mean\": 4.908061703691927}, {\"sample_mean\": 5.101202555136615}, {\"sample_mean\": 5.044382878896917}, {\"sample_mean\": 4.897329378140552}, {\"sample_mean\": 5.039047774141936}, {\"sample_mean\": 5.145690702693876}, {\"sample_mean\": 5.0503600391608}, {\"sample_mean\": 5.039792924548647}, {\"sample_mean\": 4.927226623302611}, {\"sample_mean\": 5.060773948514356}, {\"sample_mean\": 5.073384044027878}, {\"sample_mean\": 5.00626162283307}, {\"sample_mean\": 4.884488771114573}, {\"sample_mean\": 4.810856462748259}, {\"sample_mean\": 4.9621476123701065}, {\"sample_mean\": 4.947837800378773}, {\"sample_mean\": 4.890862672086376}, {\"sample_mean\": 4.774574860484974}, {\"sample_mean\": 4.980304832247572}, {\"sample_mean\": 5.1082140819103445}, {\"sample_mean\": 5.007497101259131}, {\"sample_mean\": 4.818221010760826}, {\"sample_mean\": 4.7100644362558395}, {\"sample_mean\": 4.728336234931488}, {\"sample_mean\": 5.1938380832978295}, {\"sample_mean\": 4.738551636767228}, {\"sample_mean\": 4.782545837496011}, {\"sample_mean\": 4.695559945599834}, {\"sample_mean\": 5.110414977234327}, {\"sample_mean\": 4.966403824860154}, {\"sample_mean\": 5.078236592009991}, {\"sample_mean\": 5.0412327087385425}, {\"sample_mean\": 4.914503547206594}, {\"sample_mean\": 5.069918066437384}, {\"sample_mean\": 4.838448779669095}, {\"sample_mean\": 4.883806155461807}, {\"sample_mean\": 5.240821644062216}, {\"sample_mean\": 5.150351979121408}, {\"sample_mean\": 4.689001132209479}, {\"sample_mean\": 5.003072456566786}, {\"sample_mean\": 5.178017347675955}, {\"sample_mean\": 4.992008576560441}, {\"sample_mean\": 5.068111789962318}, {\"sample_mean\": 4.968248751906578}, {\"sample_mean\": 4.919071503949598}, {\"sample_mean\": 5.045581722721363}, {\"sample_mean\": 4.943561953064692}, {\"sample_mean\": 5.248756650902282}, {\"sample_mean\": 4.941392664465536}, {\"sample_mean\": 5.124997306787144}, {\"sample_mean\": 5.066312609673006}, {\"sample_mean\": 5.027742672830873}, {\"sample_mean\": 5.164742901579104}, {\"sample_mean\": 4.9306831107236215}, {\"sample_mean\": 5.146700552338094}, {\"sample_mean\": 4.903812598711964}, {\"sample_mean\": 4.843854271007232}, {\"sample_mean\": 5.2078703176182986}, {\"sample_mean\": 4.81518028885552}, {\"sample_mean\": 4.794199398980615}, {\"sample_mean\": 4.8740148147423366}, {\"sample_mean\": 4.965915797634861}, {\"sample_mean\": 5.062201691998005}, {\"sample_mean\": 5.104932518467093}, {\"sample_mean\": 5.208593036750503}, {\"sample_mean\": 5.267158920759947}, {\"sample_mean\": 5.072201429081117}, {\"sample_mean\": 5.021502031341746}, {\"sample_mean\": 5.167482381354037}, {\"sample_mean\": 4.811632983673122}, {\"sample_mean\": 4.877856841297962}, {\"sample_mean\": 5.2658657267582}, {\"sample_mean\": 5.018783377799244}, {\"sample_mean\": 5.085318917178011}, {\"sample_mean\": 4.930077363464754}, {\"sample_mean\": 4.983648287318329}, {\"sample_mean\": 5.051963231816642}, {\"sample_mean\": 4.941069483313453}, {\"sample_mean\": 4.847190440848324}, {\"sample_mean\": 5.088352804216265}, {\"sample_mean\": 5.063492811967075}, {\"sample_mean\": 5.099335666419309}, {\"sample_mean\": 4.939051353095156}, {\"sample_mean\": 5.016878422059979}, {\"sample_mean\": 5.158526359168213}, {\"sample_mean\": 4.7797686000954025}, {\"sample_mean\": 5.143836746988866}, {\"sample_mean\": 4.939337808021268}, {\"sample_mean\": 5.006617100906471}, {\"sample_mean\": 5.075459600761171}, {\"sample_mean\": 4.823398521551403}, {\"sample_mean\": 5.067197105340362}, {\"sample_mean\": 4.864781593441801}, {\"sample_mean\": 4.806193719668896}, {\"sample_mean\": 4.793102172779308}, {\"sample_mean\": 4.997068127686902}, {\"sample_mean\": 4.87969676368874}, {\"sample_mean\": 4.911564471342887}, {\"sample_mean\": 5.038465022534762}, {\"sample_mean\": 4.882798925993071}, {\"sample_mean\": 5.015593615660763}, {\"sample_mean\": 4.9813349517247065}, {\"sample_mean\": 4.811105032196904}, {\"sample_mean\": 4.826155888740816}, {\"sample_mean\": 5.053207821312102}, {\"sample_mean\": 4.998574996737645}, {\"sample_mean\": 4.9246988893854615}, {\"sample_mean\": 4.863971297553861}, {\"sample_mean\": 4.961188182924353}, {\"sample_mean\": 5.243906484191891}, {\"sample_mean\": 4.9030408395516645}, {\"sample_mean\": 4.952902649798683}, {\"sample_mean\": 5.044353483961637}, {\"sample_mean\": 4.914361244533404}, {\"sample_mean\": 5.21688348243907}, {\"sample_mean\": 5.110493548387785}, {\"sample_mean\": 4.91752031506117}, {\"sample_mean\": 4.890171245878323}, {\"sample_mean\": 5.193585337192551}, {\"sample_mean\": 4.9984582037397605}, {\"sample_mean\": 5.011861989979249}, {\"sample_mean\": 4.888400217304783}, {\"sample_mean\": 4.822106096176056}, {\"sample_mean\": 5.164167996465476}, {\"sample_mean\": 4.8606287427779895}, {\"sample_mean\": 4.945160584976496}, {\"sample_mean\": 5.363497168468992}, {\"sample_mean\": 4.89447418292502}, {\"sample_mean\": 4.9710231129248506}, {\"sample_mean\": 4.712356664823598}, {\"sample_mean\": 5.194320888931716}, {\"sample_mean\": 4.794092826527837}, {\"sample_mean\": 4.952198929452112}, {\"sample_mean\": 4.8687391614436075}, {\"sample_mean\": 5.018160172843773}, {\"sample_mean\": 5.22395604225707}, {\"sample_mean\": 4.911439671183165}, {\"sample_mean\": 4.970163476228474}, {\"sample_mean\": 4.802759985227815}, {\"sample_mean\": 4.918014999205557}, {\"sample_mean\": 5.020027477191941}, {\"sample_mean\": 4.953292091871635}, {\"sample_mean\": 4.808333242589683}, {\"sample_mean\": 4.833551544027074}, {\"sample_mean\": 4.994323482359669}, {\"sample_mean\": 5.407912367530982}, {\"sample_mean\": 5.088918926699848}, {\"sample_mean\": 4.929445654184399}, {\"sample_mean\": 4.795247371866078}, {\"sample_mean\": 4.9712310413487275}, {\"sample_mean\": 5.115253137338934}, {\"sample_mean\": 5.0573087892333755}, {\"sample_mean\": 5.1912802047600515}, {\"sample_mean\": 5.537693948643608}, {\"sample_mean\": 4.780475528418336}, {\"sample_mean\": 5.006916778763247}, {\"sample_mean\": 4.949258536279137}, {\"sample_mean\": 4.809245694206196}, {\"sample_mean\": 4.875270828053554}, {\"sample_mean\": 4.810689439657933}, {\"sample_mean\": 5.057617353313373}, {\"sample_mean\": 4.924594058894693}, {\"sample_mean\": 5.062443147717995}, {\"sample_mean\": 4.795157121117985}, {\"sample_mean\": 5.093141969117891}, {\"sample_mean\": 5.1283020696364705}, {\"sample_mean\": 4.813158553607257}, {\"sample_mean\": 4.702719037309553}, {\"sample_mean\": 4.935599222772756}, {\"sample_mean\": 4.840356601746041}, {\"sample_mean\": 5.213477094678232}, {\"sample_mean\": 5.317101666052374}, {\"sample_mean\": 4.931585363705431}, {\"sample_mean\": 5.508169307586597}, {\"sample_mean\": 5.053660567737904}, {\"sample_mean\": 5.014078262946601}, {\"sample_mean\": 5.122975509506386}, {\"sample_mean\": 4.932850486211189}, {\"sample_mean\": 5.0137262887549765}, {\"sample_mean\": 5.080783047848394}, {\"sample_mean\": 4.825011237720045}, {\"sample_mean\": 5.104837717729733}, {\"sample_mean\": 4.587411800227751}, {\"sample_mean\": 4.815864237570938}, {\"sample_mean\": 4.927506231892996}, {\"sample_mean\": 5.0988476715333615}, {\"sample_mean\": 4.881391826872724}, {\"sample_mean\": 5.1851062970309725}, {\"sample_mean\": 4.934427291117134}, {\"sample_mean\": 5.215612198164091}, {\"sample_mean\": 4.997145814602026}, {\"sample_mean\": 4.991882127552992}, {\"sample_mean\": 4.757932986941573}, {\"sample_mean\": 4.9459522326776675}, {\"sample_mean\": 5.012013432463967}, {\"sample_mean\": 5.023383891539419}, {\"sample_mean\": 4.896730365167019}, {\"sample_mean\": 5.071782005942217}, {\"sample_mean\": 4.382114798268725}, {\"sample_mean\": 5.263874470988834}, {\"sample_mean\": 5.17688709097536}, {\"sample_mean\": 5.0746587843120565}, {\"sample_mean\": 5.20260771043729}, {\"sample_mean\": 5.11542456322526}, {\"sample_mean\": 4.979554499651291}, {\"sample_mean\": 5.1915084564834215}, {\"sample_mean\": 5.104567217383598}, {\"sample_mean\": 5.113821097705873}, {\"sample_mean\": 5.001457367196048}, {\"sample_mean\": 5.074292264771914}, {\"sample_mean\": 5.268988687475873}, {\"sample_mean\": 4.92463221470321}, {\"sample_mean\": 4.9426325018513975}, {\"sample_mean\": 4.8656819431796325}, {\"sample_mean\": 5.126187819234599}, {\"sample_mean\": 5.034706707711525}, {\"sample_mean\": 5.04703341240296}, {\"sample_mean\": 5.038247920638852}, {\"sample_mean\": 4.898992485062298}, {\"sample_mean\": 5.096147715193312}, {\"sample_mean\": 4.803937604397806}, {\"sample_mean\": 5.01229294420977}, {\"sample_mean\": 5.298488621054419}, {\"sample_mean\": 5.192471766727405}, {\"sample_mean\": 4.842626034496152}, {\"sample_mean\": 5.216723875366702}, {\"sample_mean\": 5.140968117334584}, {\"sample_mean\": 4.731927351486927}, {\"sample_mean\": 5.002071197871807}, {\"sample_mean\": 4.957951435049659}, {\"sample_mean\": 4.917298004036883}, {\"sample_mean\": 4.925122589008282}, {\"sample_mean\": 4.895096921323764}, {\"sample_mean\": 5.053123188749172}, {\"sample_mean\": 5.353872105545332}, {\"sample_mean\": 5.123606064847898}, {\"sample_mean\": 5.068289903872201}, {\"sample_mean\": 5.014759234763436}, {\"sample_mean\": 5.05282890344714}, {\"sample_mean\": 5.271760590361317}, {\"sample_mean\": 5.26207793454863}, {\"sample_mean\": 4.905144021580663}, {\"sample_mean\": 5.196695714882259}, {\"sample_mean\": 5.118226195264673}, {\"sample_mean\": 4.758259207251465}, {\"sample_mean\": 4.9558443250616975}, {\"sample_mean\": 4.851949736489672}, {\"sample_mean\": 5.287738600163196}, {\"sample_mean\": 5.080311787935167}, {\"sample_mean\": 5.140732462052172}, {\"sample_mean\": 4.743946184392683}, {\"sample_mean\": 4.801682989001735}, {\"sample_mean\": 4.875100133203715}, {\"sample_mean\": 5.215988919163387}, {\"sample_mean\": 5.034474068858791}, {\"sample_mean\": 4.967145831658842}, {\"sample_mean\": 5.139233828133963}, {\"sample_mean\": 5.005374393810928}, {\"sample_mean\": 4.9061841894068925}, {\"sample_mean\": 5.03014994230398}, {\"sample_mean\": 4.8544914068136915}, {\"sample_mean\": 5.040267899941592}, {\"sample_mean\": 4.8652215844906985}, {\"sample_mean\": 4.873322377864098}, {\"sample_mean\": 4.756493976893428}, {\"sample_mean\": 4.893535979635029}, {\"sample_mean\": 4.992170214898486}, {\"sample_mean\": 4.961252594078424}, {\"sample_mean\": 4.788086153941984}, {\"sample_mean\": 5.156384239535937}, {\"sample_mean\": 4.868522641955025}, {\"sample_mean\": 5.121281052396978}, {\"sample_mean\": 5.266078620781721}, {\"sample_mean\": 5.046631774530475}, {\"sample_mean\": 4.891503034629054}, {\"sample_mean\": 4.8251687236480105}, {\"sample_mean\": 5.027764879023366}, {\"sample_mean\": 4.802115768245245}, {\"sample_mean\": 5.1646130211228956}, {\"sample_mean\": 5.031755173032286}, {\"sample_mean\": 5.154891820124766}, {\"sample_mean\": 5.145019880750811}, {\"sample_mean\": 5.068562437157633}, {\"sample_mean\": 5.32420922910975}, {\"sample_mean\": 5.053460158022667}, {\"sample_mean\": 5.228300296849482}, {\"sample_mean\": 4.98500016241318}, {\"sample_mean\": 5.043585356573077}, {\"sample_mean\": 4.966547788332102}, {\"sample_mean\": 5.329981806027297}, {\"sample_mean\": 4.922419731564082}, {\"sample_mean\": 5.0394719476516405}, {\"sample_mean\": 4.988341550053363}, {\"sample_mean\": 4.9556940050583975}, {\"sample_mean\": 5.094961352463024}, {\"sample_mean\": 4.912316999519169}, {\"sample_mean\": 4.9036472097853965}, {\"sample_mean\": 4.873463607110858}, {\"sample_mean\": 4.784204077400533}, {\"sample_mean\": 4.896836185805263}, {\"sample_mean\": 5.358805089492435}, {\"sample_mean\": 5.222348434943487}, {\"sample_mean\": 5.0785793458481345}, {\"sample_mean\": 5.006939316680886}, {\"sample_mean\": 4.930373473214606}, {\"sample_mean\": 5.050962682945156}, {\"sample_mean\": 4.918859562361249}, {\"sample_mean\": 4.837429830340305}, {\"sample_mean\": 5.098200183033304}, {\"sample_mean\": 5.370874128158099}, {\"sample_mean\": 5.055541546883917}, {\"sample_mean\": 5.220845528722479}, {\"sample_mean\": 4.980160841968074}, {\"sample_mean\": 4.978065395317899}, {\"sample_mean\": 5.215919931807961}, {\"sample_mean\": 4.964184875831109}, {\"sample_mean\": 5.236752584922552}, {\"sample_mean\": 5.067992062663907}, {\"sample_mean\": 5.147772045559344}, {\"sample_mean\": 5.231196168354114}, {\"sample_mean\": 5.2928209501352015}, {\"sample_mean\": 5.0395587045016335}, {\"sample_mean\": 5.039129746454602}, {\"sample_mean\": 4.9018264818414625}, {\"sample_mean\": 5.070801585289473}, {\"sample_mean\": 4.789007754264798}, {\"sample_mean\": 4.690190678403554}, {\"sample_mean\": 5.122733595397671}, {\"sample_mean\": 4.95411262398542}, {\"sample_mean\": 5.020644322183809}, {\"sample_mean\": 4.751914230423617}, {\"sample_mean\": 5.135896967973178}, {\"sample_mean\": 5.350910119572112}, {\"sample_mean\": 5.043853635336126}, {\"sample_mean\": 4.830266193510908}, {\"sample_mean\": 5.027510125447836}, {\"sample_mean\": 4.932587571483287}, {\"sample_mean\": 4.719654020597865}, {\"sample_mean\": 5.024582692759324}, {\"sample_mean\": 5.106876531636675}, {\"sample_mean\": 4.970015859123401}, {\"sample_mean\": 5.040179379097614}, {\"sample_mean\": 5.125384335130823}, {\"sample_mean\": 4.9544693638835735}, {\"sample_mean\": 4.810107615338131}, {\"sample_mean\": 4.95551090425993}, {\"sample_mean\": 4.765985193407669}, {\"sample_mean\": 4.900897345350096}, {\"sample_mean\": 4.877531473574388}, {\"sample_mean\": 4.767232020864901}, {\"sample_mean\": 5.18879748545395}, {\"sample_mean\": 4.996061532300385}, {\"sample_mean\": 4.74524661997134}, {\"sample_mean\": 4.4851543017003355}, {\"sample_mean\": 5.109007149737606}, {\"sample_mean\": 4.945303223182165}, {\"sample_mean\": 4.83339395422726}, {\"sample_mean\": 4.901381575904292}, {\"sample_mean\": 4.9405422258573015}, {\"sample_mean\": 4.686685369668151}, {\"sample_mean\": 5.007826262079143}, {\"sample_mean\": 5.098582946691006}, {\"sample_mean\": 5.128462234140968}, {\"sample_mean\": 5.042741465189038}, {\"sample_mean\": 4.898930455299846}, {\"sample_mean\": 5.384621428494713}, {\"sample_mean\": 4.883509757688493}, {\"sample_mean\": 5.1936552897462684}, {\"sample_mean\": 4.889927899490305}, {\"sample_mean\": 5.0152507933338635}, {\"sample_mean\": 5.063916210214945}, {\"sample_mean\": 4.874111832960975}, {\"sample_mean\": 5.038784644588736}, {\"sample_mean\": 4.889985403714194}, {\"sample_mean\": 4.926590461599055}, {\"sample_mean\": 5.050781261581927}, {\"sample_mean\": 5.033336574404495}, {\"sample_mean\": 5.347895712724237}, {\"sample_mean\": 5.118224307717618}, {\"sample_mean\": 5.252863853552606}, {\"sample_mean\": 5.168914791543461}, {\"sample_mean\": 4.744848827883172}, {\"sample_mean\": 4.8944610841161085}, {\"sample_mean\": 5.097456602262195}, {\"sample_mean\": 5.234859597126957}, {\"sample_mean\": 4.853886715783829}, {\"sample_mean\": 5.169006197754595}, {\"sample_mean\": 5.175673612361426}, {\"sample_mean\": 4.997331337347998}, {\"sample_mean\": 4.914416491674024}, {\"sample_mean\": 4.987387328159781}, {\"sample_mean\": 5.024041642461245}, {\"sample_mean\": 5.017389994512625}, {\"sample_mean\": 5.223675374815481}, {\"sample_mean\": 4.948550536843515}, {\"sample_mean\": 4.868645341787439}, {\"sample_mean\": 4.930279538982934}, {\"sample_mean\": 4.800081179301143}, {\"sample_mean\": 4.988025353734971}, {\"sample_mean\": 4.930668943203705}, {\"sample_mean\": 5.018165818460024}, {\"sample_mean\": 4.9628963993631645}, {\"sample_mean\": 4.8660507243124504}, {\"sample_mean\": 5.183793715334547}, {\"sample_mean\": 5.0357954515180205}, {\"sample_mean\": 4.910748023422146}, {\"sample_mean\": 4.948195411737899}, {\"sample_mean\": 4.959024150304201}, {\"sample_mean\": 5.029198359702772}, {\"sample_mean\": 4.996805830456735}, {\"sample_mean\": 5.053740499840842}, {\"sample_mean\": 5.071373925866659}, {\"sample_mean\": 4.972222029785579}, {\"sample_mean\": 5.193692651970507}, {\"sample_mean\": 5.11872340599567}, {\"sample_mean\": 4.736250509815558}, {\"sample_mean\": 5.114785378424677}, {\"sample_mean\": 5.107504039050767}, {\"sample_mean\": 4.927486776048039}, {\"sample_mean\": 4.962034443688279}, {\"sample_mean\": 4.883507869048572}, {\"sample_mean\": 5.184583958988848}, {\"sample_mean\": 4.911950683512694}, {\"sample_mean\": 4.650640248772569}, {\"sample_mean\": 4.910353028479966}, {\"sample_mean\": 4.897886713188304}, {\"sample_mean\": 4.913295976219491}, {\"sample_mean\": 4.844232995278438}, {\"sample_mean\": 4.992101863127396}, {\"sample_mean\": 5.003801519313235}, {\"sample_mean\": 4.8876480937642945}, {\"sample_mean\": 4.844971771982988}, {\"sample_mean\": 4.947702053349196}, {\"sample_mean\": 4.990280602936245}, {\"sample_mean\": 4.982610347855235}, {\"sample_mean\": 4.84347354099424}, {\"sample_mean\": 4.970927648719553}, {\"sample_mean\": 4.923420875131085}, {\"sample_mean\": 5.339279204438057}, {\"sample_mean\": 5.112872255332393}, {\"sample_mean\": 4.8285083708747845}, {\"sample_mean\": 5.243090895703172}, {\"sample_mean\": 4.764412254552626}, {\"sample_mean\": 4.92222094525379}, {\"sample_mean\": 5.145076346462656}, {\"sample_mean\": 4.962533413327983}, {\"sample_mean\": 4.909516368786709}, {\"sample_mean\": 5.085132628504136}, {\"sample_mean\": 5.028469573669009}, {\"sample_mean\": 4.959282972815718}, {\"sample_mean\": 4.9112932663543125}, {\"sample_mean\": 4.899779180665507}, {\"sample_mean\": 5.076950754785903}, {\"sample_mean\": 5.381162499963844}, {\"sample_mean\": 4.868252367608837}, {\"sample_mean\": 4.98677590008976}, {\"sample_mean\": 4.737658144093282}, {\"sample_mean\": 4.864303159442686}, {\"sample_mean\": 5.2191754793976255}, {\"sample_mean\": 4.935214740592083}, {\"sample_mean\": 4.828358199251391}, {\"sample_mean\": 5.00940392941015}, {\"sample_mean\": 4.97401330775398}, {\"sample_mean\": 4.9678996318398605}, {\"sample_mean\": 4.844063560744456}, {\"sample_mean\": 4.805799741337992}, {\"sample_mean\": 4.819017525782112}, {\"sample_mean\": 5.257093404179342}, {\"sample_mean\": 4.915011378778508}, {\"sample_mean\": 4.810900830036455}, {\"sample_mean\": 5.074547373814897}, {\"sample_mean\": 4.894667957716301}, {\"sample_mean\": 5.2496052139728775}, {\"sample_mean\": 4.886860907081162}, {\"sample_mean\": 5.200831631136498}, {\"sample_mean\": 4.87735166274283}, {\"sample_mean\": 4.778663893887349}, {\"sample_mean\": 4.955458233707512}, {\"sample_mean\": 5.054408548439947}, {\"sample_mean\": 4.849410642238849}, {\"sample_mean\": 5.089502304938567}, {\"sample_mean\": 5.109043242645209}, {\"sample_mean\": 4.928674390407288}, {\"sample_mean\": 4.896999180834102}, {\"sample_mean\": 4.616059806470117}, {\"sample_mean\": 4.819251067901731}, {\"sample_mean\": 5.016037221079291}, {\"sample_mean\": 4.953570341119823}, {\"sample_mean\": 4.970876732574947}, {\"sample_mean\": 4.741881951295898}, {\"sample_mean\": 4.913174173451868}, {\"sample_mean\": 5.041816174203314}, {\"sample_mean\": 5.068988373384831}, {\"sample_mean\": 4.946999669626912}, {\"sample_mean\": 5.25466878650155}, {\"sample_mean\": 5.114497561997001}, {\"sample_mean\": 5.098666292221198}, {\"sample_mean\": 5.154305363237867}, {\"sample_mean\": 5.075944935428064}, {\"sample_mean\": 4.971374834990187}, {\"sample_mean\": 4.847031731292027}, {\"sample_mean\": 5.053926179489135}, {\"sample_mean\": 5.034089641728982}, {\"sample_mean\": 5.091995390882584}, {\"sample_mean\": 4.9042920144597035}, {\"sample_mean\": 5.08377627006651}, {\"sample_mean\": 4.773818877505384}, {\"sample_mean\": 4.985267054803074}, {\"sample_mean\": 5.0267713056889045}, {\"sample_mean\": 4.934651405023625}, {\"sample_mean\": 5.040980226622758}, {\"sample_mean\": 5.141982856314142}, {\"sample_mean\": 5.229544825040421}, {\"sample_mean\": 4.846369911944124}, {\"sample_mean\": 5.017356646895108}, {\"sample_mean\": 4.7615549106766135}, {\"sample_mean\": 5.057320906216895}, {\"sample_mean\": 4.7908871049414445}, {\"sample_mean\": 5.0480929985609695}, {\"sample_mean\": 5.138016543219562}, {\"sample_mean\": 4.986667317098075}, {\"sample_mean\": 4.882228654553855}, {\"sample_mean\": 5.170213910353348}, {\"sample_mean\": 5.192318955993177}, {\"sample_mean\": 4.903627851093451}, {\"sample_mean\": 4.924371297981152}, {\"sample_mean\": 4.988630545807564}, {\"sample_mean\": 4.782641816568494}, {\"sample_mean\": 5.071126659374873}, {\"sample_mean\": 4.779700197452105}, {\"sample_mean\": 4.8435347469599055}, {\"sample_mean\": 4.968759258058462}, {\"sample_mean\": 4.8574538039236925}, {\"sample_mean\": 5.073704785024172}, {\"sample_mean\": 4.907536018901472}, {\"sample_mean\": 4.954108720847475}, {\"sample_mean\": 4.882072467992393}, {\"sample_mean\": 4.849575491100412}, {\"sample_mean\": 4.897964769486929}, {\"sample_mean\": 4.7842270052603215}, {\"sample_mean\": 5.15731716245842}, {\"sample_mean\": 5.073532209969773}, {\"sample_mean\": 5.0467845077761835}, {\"sample_mean\": 5.187778372987611}, {\"sample_mean\": 5.258115877215829}, {\"sample_mean\": 5.086587296608062}, {\"sample_mean\": 4.952831882573385}, {\"sample_mean\": 5.037199924604781}, {\"sample_mean\": 5.100613730714747}, {\"sample_mean\": 4.5996417800516705}, {\"sample_mean\": 4.83556459226886}, {\"sample_mean\": 5.202989569562792}, {\"sample_mean\": 4.835298625659579}, {\"sample_mean\": 4.964877773493124}, {\"sample_mean\": 5.0409202481042925}, {\"sample_mean\": 5.277920155964695}, {\"sample_mean\": 5.0329721774807945}, {\"sample_mean\": 4.949616237727322}, {\"sample_mean\": 4.992016813434487}, {\"sample_mean\": 5.076800088001981}, {\"sample_mean\": 4.74577351356994}, {\"sample_mean\": 4.727522064020313}, {\"sample_mean\": 5.177318499543108}, {\"sample_mean\": 5.149710669975888}, {\"sample_mean\": 4.703828973110607}, {\"sample_mean\": 4.9349198401067405}, {\"sample_mean\": 5.364564396529779}, {\"sample_mean\": 5.211218579212576}, {\"sample_mean\": 4.959628793879754}, {\"sample_mean\": 4.8934142046234355}, {\"sample_mean\": 5.0810859583041195}, {\"sample_mean\": 4.826781574460006}, {\"sample_mean\": 5.062645344736435}, {\"sample_mean\": 4.886927215972764}, {\"sample_mean\": 5.006992562039881}, {\"sample_mean\": 4.822650373430346}, {\"sample_mean\": 5.058292697528608}, {\"sample_mean\": 4.9222869426500955}], \"data-d11c7646668d096f96fe9a781f61b4d2\": [{\"x\": 4.0, \"pdf\": 5.200563737654406e-07}, {\"x\": 4.02, \"pdf\": 1.1481844294265125e-06}, {\"x\": 4.04, \"pdf\": 2.494733569686431e-06}, {\"x\": 4.06, \"pdf\": 5.334429468535572e-06}, {\"x\": 4.08, \"pdf\": 1.1225432217700519e-05}, {\"x\": 4.1, \"pdf\": 2.3247135910605655e-05}, {\"x\": 4.12, \"pdf\": 4.737913480522706e-05}, {\"x\": 4.14, \"pdf\": 9.502898380986609e-05}, {\"x\": 4.16, \"pdf\": 0.00018757559505878569}, {\"x\": 4.18, \"pdf\": 0.00036437440996800257}, {\"x\": 4.2, \"pdf\": 0.0006965795062408364}, {\"x\": 4.22, \"pdf\": 0.0013105234778717847}, {\"x\": 4.24, \"pdf\": 0.002426443630534741}, {\"x\": 4.26, \"pdf\": 0.00442126855728509}, {\"x\": 4.28, \"pdf\": 0.007928205034960797}, {\"x\": 4.3, \"pdf\": 0.01399117339253598}, {\"x\": 4.32, \"pdf\": 0.024298792525968404}, {\"x\": 4.34, \"pdf\": 0.04153044026933313}, {\"x\": 4.36, \"pdf\": 0.06985534883718736}, {\"x\": 4.38, \"pdf\": 0.11563361010377396}, {\"x\": 4.4, \"pdf\": 0.18837349335939274}, {\"x\": 4.42, \"pdf\": 0.30199989171721053}, {\"x\": 4.44, \"pdf\": 0.47648043327627315}, {\"x\": 4.46, \"pdf\": 0.7398346082274715}, {\"x\": 4.48, \"pdf\": 1.130512850584684}, {\"x\": 4.5, \"pdf\": 1.7000733205040701}, {\"x\": 4.52, \"pdf\": 2.516002619162861}, {\"x\": 4.54, \"pdf\": 3.6644248032403253}, {\"x\": 4.5600000000000005, \"pdf\": 5.252327857928889}, {\"x\": 4.58, \"pdf\": 7.408821463076241}, {\"x\": 4.6, \"pdf\": 10.284844252703476}, {\"x\": 4.62, \"pdf\": 14.050688242908235}, {\"x\": 4.64, \"pdf\": 18.890731025540994}, {\"x\": 4.66, \"pdf\": 24.994889396741225}, {\"x\": 4.68, \"pdf\": 32.54655024691881}, {\"x\": 4.7, \"pdf\": 41.707100072566114}, {\"x\": 4.72, \"pdf\": 52.59764673373031}, {\"x\": 4.74, \"pdf\": 65.27906449106993}, {\"x\": 4.76, \"pdf\": 79.73202941950808}, {\"x\": 4.78, \"pdf\": 95.83916096982892}, {\"x\": 4.8, \"pdf\": 113.37165224497896}, {\"x\": 4.82, \"pdf\": 131.98276948221442}, {\"x\": 4.84, \"pdf\": 151.2102692622771}, {\"x\": 4.86, \"pdf\": 170.48910251968752}, {\"x\": 4.88, \"pdf\": 189.17478571399423}, {\"x\": 4.9, \"pdf\": 206.57661898691165}, {\"x\": 4.92, \"pdf\": 221.9986675529185}, {\"x\": 4.94, \"pdf\": 234.78527659658087}, {\"x\": 4.96, \"pdf\": 244.3670455034611}, {\"x\": 4.98, \"pdf\": 250.30279872073226}, {\"x\": 5.0, \"pdf\": 252.31325220201603}, {\"x\": 5.02, \"pdf\": 250.30279872073226}, {\"x\": 5.04, \"pdf\": 244.3670455034611}, {\"x\": 5.0600000000000005, \"pdf\": 234.78527659658036}, {\"x\": 5.08, \"pdf\": 221.9986675529185}, {\"x\": 5.1, \"pdf\": 206.57661898691165}, {\"x\": 5.12, \"pdf\": 189.17478571399423}, {\"x\": 5.140000000000001, \"pdf\": 170.48910251968667}, {\"x\": 5.16, \"pdf\": 151.2102692622771}, {\"x\": 5.18, \"pdf\": 131.98276948221442}, {\"x\": 5.2, \"pdf\": 113.37165224497896}, {\"x\": 5.22, \"pdf\": 95.83916096982892}, {\"x\": 5.24, \"pdf\": 79.73202941950808}, {\"x\": 5.26, \"pdf\": 65.27906449106993}, {\"x\": 5.28, \"pdf\": 52.59764673373031}, {\"x\": 5.3, \"pdf\": 41.707100072566114}, {\"x\": 5.32, \"pdf\": 32.54655024691881}, {\"x\": 5.34, \"pdf\": 24.994889396741225}, {\"x\": 5.36, \"pdf\": 18.890731025540994}, {\"x\": 5.38, \"pdf\": 14.050688242908235}, {\"x\": 5.4, \"pdf\": 10.284844252703476}, {\"x\": 5.42, \"pdf\": 7.408821463076241}, {\"x\": 5.4399999999999995, \"pdf\": 5.252327857928889}, {\"x\": 5.46, \"pdf\": 3.6644248032403253}, {\"x\": 5.48, \"pdf\": 2.516002619162861}, {\"x\": 5.5, \"pdf\": 1.7000733205040701}, {\"x\": 5.52, \"pdf\": 1.130512850584684}, {\"x\": 5.54, \"pdf\": 0.7398346082274715}, {\"x\": 5.5600000000000005, \"pdf\": 0.47648043327626344}, {\"x\": 5.58, \"pdf\": 0.30199989171721053}, {\"x\": 5.6, \"pdf\": 0.18837349335939274}, {\"x\": 5.62, \"pdf\": 0.11563361010377396}, {\"x\": 5.640000000000001, \"pdf\": 0.06985534883718586}, {\"x\": 5.66, \"pdf\": 0.04153044026933313}, {\"x\": 5.68, \"pdf\": 0.024298792525968404}, {\"x\": 5.7, \"pdf\": 0.01399117339253598}, {\"x\": 5.72, \"pdf\": 0.007928205034960797}, {\"x\": 5.74, \"pdf\": 0.00442126855728509}, {\"x\": 5.76, \"pdf\": 0.002426443630534741}, {\"x\": 5.78, \"pdf\": 0.0013105234778717847}, {\"x\": 5.8, \"pdf\": 0.0006965795062408364}, {\"x\": 5.82, \"pdf\": 0.00036437440996800257}, {\"x\": 5.84, \"pdf\": 0.00018757559505878569}, {\"x\": 5.86, \"pdf\": 9.502898380986609e-05}, {\"x\": 5.88, \"pdf\": 4.737913480522706e-05}, {\"x\": 5.9, \"pdf\": 2.3247135910605655e-05}, {\"x\": 5.92, \"pdf\": 1.1225432217700519e-05}, {\"x\": 5.9399999999999995, \"pdf\": 5.3344294685357414e-06}, {\"x\": 5.96, \"pdf\": 2.494733569686431e-06}, {\"x\": 5.98, \"pdf\": 1.1481844294265125e-06}]}}, {\"mode\": \"vega-lite\"});\n",
       "</script>"
      ],
      "text/plain": [
       "alt.LayerChart(...)"
      ]
     },
     "execution_count": 5,
     "metadata": {},
     "output_type": "execute_result"
    }
   ],
   "source": [
    "data_hist = (alt\n",
    "                .Chart(plot_df)\n",
    "                .mark_bar()\n",
    "                .encode(x = alt.X(\"sample_mean:Q\",\n",
    "                                  bin = alt.BinParams(step = 0.1)),\n",
    "                        y = alt.Y(\"count()\")))\n",
    "\n",
    "clt_line = (alt\n",
    "               .Chart(clt_df)\n",
    "               .mark_line(color = \"red\")\n",
    "               .encode(x = \"x\",\n",
    "                       y = \"pdf\"))\n",
    "\n",
    "data_hist + clt_line"
   ]
  },
  {
   "cell_type": "code",
   "execution_count": 6,
   "metadata": {},
   "outputs": [
    {
     "data": {
      "text/html": [
       "\n",
       "<div id=\"altair-viz-ff562e7d17354eccb52e68ddc8421bc5\"></div>\n",
       "<script type=\"text/javascript\">\n",
       "  (function(spec, embedOpt){\n",
       "    let outputDiv = document.currentScript.previousElementSibling;\n",
       "    if (outputDiv.id !== \"altair-viz-ff562e7d17354eccb52e68ddc8421bc5\") {\n",
       "      outputDiv = document.getElementById(\"altair-viz-ff562e7d17354eccb52e68ddc8421bc5\");\n",
       "    }\n",
       "    const paths = {\n",
       "      \"vega\": \"https://cdn.jsdelivr.net/npm//vega@5?noext\",\n",
       "      \"vega-lib\": \"https://cdn.jsdelivr.net/npm//vega-lib?noext\",\n",
       "      \"vega-lite\": \"https://cdn.jsdelivr.net/npm//vega-lite@4.8.1?noext\",\n",
       "      \"vega-embed\": \"https://cdn.jsdelivr.net/npm//vega-embed@6?noext\",\n",
       "    };\n",
       "\n",
       "    function loadScript(lib) {\n",
       "      return new Promise(function(resolve, reject) {\n",
       "        var s = document.createElement('script');\n",
       "        s.src = paths[lib];\n",
       "        s.async = true;\n",
       "        s.onload = () => resolve(paths[lib]);\n",
       "        s.onerror = () => reject(`Error loading script: ${paths[lib]}`);\n",
       "        document.getElementsByTagName(\"head\")[0].appendChild(s);\n",
       "      });\n",
       "    }\n",
       "\n",
       "    function showError(err) {\n",
       "      outputDiv.innerHTML = `<div class=\"error\" style=\"color:red;\">${err}</div>`;\n",
       "      throw err;\n",
       "    }\n",
       "\n",
       "    function displayChart(vegaEmbed) {\n",
       "      vegaEmbed(outputDiv, spec, embedOpt)\n",
       "        .catch(err => showError(`Javascript Error: ${err.message}<br>This usually means there's a typo in your chart specification. See the javascript console for the full traceback.`));\n",
       "    }\n",
       "\n",
       "    if(typeof define === \"function\" && define.amd) {\n",
       "      requirejs.config({paths});\n",
       "      require([\"vega-embed\"], displayChart, err => showError(`Error loading script: ${err.message}`));\n",
       "    } else if (typeof vegaEmbed === \"function\") {\n",
       "      displayChart(vegaEmbed);\n",
       "    } else {\n",
       "      loadScript(\"vega\")\n",
       "        .then(() => loadScript(\"vega-lite\"))\n",
       "        .then(() => loadScript(\"vega-embed\"))\n",
       "        .catch(showError)\n",
       "        .then(() => displayChart(vegaEmbed));\n",
       "    }\n",
       "  })({\"config\": {\"view\": {\"continuousWidth\": 400, \"continuousHeight\": 300}}, \"layer\": [{\"data\": {\"name\": \"data-f9a064cda7f6ad1ed1ff994de90cf812\"}, \"mark\": \"point\", \"encoding\": {\"x\": {\"type\": \"quantitative\", \"field\": \"sample_means\", \"scale\": {\"zero\": false}, \"title\": \"Sample mean quantile\"}, \"y\": {\"type\": \"quantitative\", \"field\": \"quantiles\", \"scale\": {\"zero\": false}, \"title\": \"Normal quantile\"}}}, {\"data\": {\"name\": \"data-dc9b9be9025c11ca6026b230f3ce2f8e\"}, \"mark\": {\"type\": \"line\", \"color\": \"red\"}, \"encoding\": {\"x\": {\"type\": \"quantitative\", \"field\": \"x\"}, \"y\": {\"type\": \"quantitative\", \"field\": \"y\"}}}], \"$schema\": \"https://vega.github.io/schema/vega-lite/v4.8.1.json\", \"datasets\": {\"data-f9a064cda7f6ad1ed1ff994de90cf812\": [{\"sample_means\": 4.382114798268725, \"quantiles\": 4.4797220413408105}, {\"sample_means\": 4.4851543017003355, \"quantiles\": 4.530759432872859}, {\"sample_means\": 4.570950185052824, \"quantiles\": 4.556168991151405}, {\"sample_means\": 4.587411800227751, \"quantiles\": 4.5735914820435895}, {\"sample_means\": 4.5996417800516705, \"quantiles\": 4.586997977102017}, {\"sample_means\": 4.616059806470117, \"quantiles\": 4.5979640163438935}, {\"sample_means\": 4.650640248772569, \"quantiles\": 4.607281592547081}, {\"sample_means\": 4.651239940383459, \"quantiles\": 4.6154071020988505}, {\"sample_means\": 4.6519160603781815, \"quantiles\": 4.622628372493203}, {\"sample_means\": 4.656830639204845, \"quantiles\": 4.62913899048925}, {\"sample_means\": 4.660711570305743, \"quantiles\": 4.635075612743147}, {\"sample_means\": 4.67669552244539, \"quantiles\": 4.640538419573548}, {\"sample_means\": 4.678526873746928, \"quantiles\": 4.64560311135272}, {\"sample_means\": 4.686685369668151, \"quantiles\": 4.650328331847222}, {\"sample_means\": 4.689001132209479, \"quantiles\": 4.654760466560312}, {\"sample_means\": 4.690067088151886, \"quantiles\": 4.658936858763352}, {\"sample_means\": 4.690190678403554, \"quantiles\": 4.662888031993216}, {\"sample_means\": 4.692146947957948, \"quantiles\": 4.666639266733958}, {\"sample_means\": 4.695559945599834, \"quantiles\": 4.670211744628824}, {\"sample_means\": 4.69580935218012, \"quantiles\": 4.673623395503719}, {\"sample_means\": 4.702719037309553, \"quantiles\": 4.676889535479461}, {\"sample_means\": 4.703828973110607, \"quantiles\": 4.68002335525034}, {\"sample_means\": 4.704769519071393, \"quantiles\": 4.683036298960168}, {\"sample_means\": 4.7100644362558395, \"quantiles\": 4.685938361904681}, {\"sample_means\": 4.710559211884793, \"quantiles\": 4.688738327126883}, {\"sample_means\": 4.712356664823598, \"quantiles\": 4.691443955403342}, {\"sample_means\": 4.713344771816411, \"quantiles\": 4.6940621392518125}, {\"sample_means\": 4.719654020597865, \"quantiles\": 4.696599028860356}, {\"sample_means\": 4.723532582988461, \"quantiles\": 4.699060135881988}, {\"sample_means\": 4.726642143379396, \"quantiles\": 4.701450419618123}, {\"sample_means\": 4.726816341855746, \"quantiles\": 4.703774359069131}, {\"sample_means\": 4.727522064020313, \"quantiles\": 4.706036013552827}, {\"sample_means\": 4.728336234931488, \"quantiles\": 4.708239074006985}, {\"sample_means\": 4.731103755317806, \"quantiles\": 4.710386906647747}, {\"sample_means\": 4.731927351486927, \"quantiles\": 4.712482590315228}, {\"sample_means\": 4.736250509815558, \"quantiles\": 4.714528948574204}, {\"sample_means\": 4.737658144093282, \"quantiles\": 4.716528577432335}, {\"sample_means\": 4.738551636767228, \"quantiles\": 4.718483869377045}, {\"sample_means\": 4.741881951295898, \"quantiles\": 4.720397034304381}, {\"sample_means\": 4.742528020970788, \"quantiles\": 4.722270117811479}, {\"sample_means\": 4.743946184392683, \"quantiles\": 4.724105017242607}, {\"sample_means\": 4.744848827883172, \"quantiles\": 4.725903495812969}, {\"sample_means\": 4.74524661997134, \"quantiles\": 4.7276671950810005}, {\"sample_means\": 4.74577351356994, \"quantiles\": 4.729397645996362}, {\"sample_means\": 4.746615553195078, \"quantiles\": 4.731096278715078}, {\"sample_means\": 4.749090752947033, \"quantiles\": 4.73276443134385}, {\"sample_means\": 4.749550032752649, \"quantiles\": 4.734403357751216}, {\"sample_means\": 4.751758015006813, \"quantiles\": 4.736014234562931}, {\"sample_means\": 4.751914230423617, \"quantiles\": 4.737598167442088}, {\"sample_means\": 4.7548242422936005, \"quantiles\": 4.739156196740244}, {\"sample_means\": 4.756493976893428, \"quantiles\": 4.74068930259395}, {\"sample_means\": 4.757872400047981, \"quantiles\": 4.742198409530932}, {\"sample_means\": 4.757932986941573, \"quantiles\": 4.743684390641698}, {\"sample_means\": 4.7580101940198585, \"quantiles\": 4.745148071364991}, {\"sample_means\": 4.758259207251465, \"quantiles\": 4.746590232929385}, {\"sample_means\": 4.7615549106766135, \"quantiles\": 4.748011615487943}, {\"sample_means\": 4.76345948501064, \"quantiles\": 4.749412920978341}, {\"sample_means\": 4.764151258239616, \"quantiles\": 4.7507948157369055}, {\"sample_means\": 4.764232994088563, \"quantiles\": 4.75215793289164}, {\"sample_means\": 4.764412254552626, \"quantiles\": 4.753502874556365}, {\"sample_means\": 4.765985193407669, \"quantiles\": 4.75483021384556}, {\"sample_means\": 4.766507024927212, \"quantiles\": 4.756140496727255}, {\"sample_means\": 4.767232020864901, \"quantiles\": 4.7574342437294295}, {\"sample_means\": 4.769673997324895, \"quantiles\": 4.758711951513617}, {\"sample_means\": 4.77091416677739, \"quantiles\": 4.759974094328}, {\"sample_means\": 4.773818877505384, \"quantiles\": 4.761221125350926}, {\"sample_means\": 4.774574860484974, \"quantiles\": 4.762453477934658}, {\"sample_means\": 4.77610779064026, \"quantiles\": 4.763671566758146}, {\"sample_means\": 4.778663893887349, \"quantiles\": 4.76487578889673}, {\"sample_means\": 4.778878236680535, \"quantiles\": 4.766066524815869}, {\"sample_means\": 4.779575273255161, \"quantiles\": 4.767244139295316}, {\"sample_means\": 4.779700197452105, \"quantiles\": 4.768408982289513}, {\"sample_means\": 4.7797686000954025, \"quantiles\": 4.769561389729445}, {\"sample_means\": 4.780475528418336, \"quantiles\": 4.770701684270675}, {\"sample_means\": 4.781918812329302, \"quantiles\": 4.771830175991873}, {\"sample_means\": 4.782545837496011, \"quantiles\": 4.772947163047706}, {\"sample_means\": 4.782641816568494, \"quantiles\": 4.774052932279663}, {\"sample_means\": 4.782644248000297, \"quantiles\": 4.77514775978802}, {\"sample_means\": 4.784204077400533, \"quantiles\": 4.776231911467887}, {\"sample_means\": 4.7842270052603215, \"quantiles\": 4.777305643512041}, {\"sample_means\": 4.785198718660193, \"quantiles\": 4.77836920288296}, {\"sample_means\": 4.788086153941984, \"quantiles\": 4.779422827756329}, {\"sample_means\": 4.789007754264798, \"quantiles\": 4.780466747938064}, {\"sample_means\": 4.7901223699467375, \"quantiles\": 4.781501185256732}, {\"sample_means\": 4.7908871049414445, \"quantiles\": 4.782526353933099}, {\"sample_means\": 4.793102172779308, \"quantiles\": 4.783542460928392}, {\"sample_means\": 4.793751831971933, \"quantiles\": 4.784549706272737}, {\"sample_means\": 4.794092826527837, \"quantiles\": 4.785548283375118}, {\"sample_means\": 4.794199398980615, \"quantiles\": 4.786538379316091}, {\"sample_means\": 4.7948186752338495, \"quantiles\": 4.787520175124397}, {\"sample_means\": 4.795157121117985, \"quantiles\": 4.788493846038546}, {\"sample_means\": 4.795247371866078, \"quantiles\": 4.789459561754304}, {\"sample_means\": 4.798046673220623, \"quantiles\": 4.79041748665905}, {\"sample_means\": 4.798885682974309, \"quantiles\": 4.791367780053763}, {\"sample_means\": 4.800081179301143, \"quantiles\": 4.792310596363487}, {\"sample_means\": 4.800213844909281, \"quantiles\": 4.793246085336926}, {\"sample_means\": 4.8014964430178875, \"quantiles\": 4.794174392235885}, {\"sample_means\": 4.801682989001735, \"quantiles\": 4.795095658015144}, {\"sample_means\": 4.80200502019741, \"quantiles\": 4.796010019493355}, {\"sample_means\": 4.802115768245245, \"quantiles\": 4.796917609515498}, {\"sample_means\": 4.802759985227815, \"quantiles\": 4.797818557107377}, {\"sample_means\": 4.803937604397806, \"quantiles\": 4.798712987622641}, {\"sample_means\": 4.805799741337992, \"quantiles\": 4.799601022882757}, {\"sample_means\": 4.806193719668896, \"quantiles\": 4.8004827813103255}, {\"sample_means\": 4.806957563250553, \"quantiles\": 4.801358378056133}, {\"sample_means\": 4.808246968357148, \"quantiles\": 4.802227925120281}, {\"sample_means\": 4.808333242589683, \"quantiles\": 4.803091531467731}, {\"sample_means\": 4.809245694206196, \"quantiles\": 4.803949303138562}, {\"sample_means\": 4.810107615338131, \"quantiles\": 4.804801343353237}, {\"sample_means\": 4.810689439657933, \"quantiles\": 4.805647752613152}, {\"sample_means\": 4.810856462748259, \"quantiles\": 4.806488628796704}, {\"sample_means\": 4.810900830036455, \"quantiles\": 4.8073240672511375}, {\"sample_means\": 4.811105032196904, \"quantiles\": 4.808154160880371}, {\"sample_means\": 4.811632983673122, \"quantiles\": 4.808979000229032}, {\"sample_means\": 4.812565609889426, \"quantiles\": 4.809798673562879}, {\"sample_means\": 4.813158553607257, \"quantiles\": 4.810613266945815}, {\"sample_means\": 4.813862953553662, \"quantiles\": 4.811422864313642}, {\"sample_means\": 4.81518028885552, \"quantiles\": 4.812227547544743}, {\"sample_means\": 4.815864237570938, \"quantiles\": 4.813027396527832}, {\"sample_means\": 4.817440891865562, \"quantiles\": 4.813822489226922}, {\"sample_means\": 4.818221010760826, \"quantiles\": 4.814612901743645}, {\"sample_means\": 4.819017525782112, \"quantiles\": 4.815398708377055}, {\"sample_means\": 4.819251067901731, \"quantiles\": 4.816179981681033}, {\"sample_means\": 4.821412739796207, \"quantiles\": 4.8169567925194166}, {\"sample_means\": 4.822106096176056, \"quantiles\": 4.817729210118948}, {\"sample_means\": 4.822650373430346, \"quantiles\": 4.818497302120157}, {\"sample_means\": 4.823398521551403, \"quantiles\": 4.819261134626274}, {\"sample_means\": 4.823675325723498, \"quantiles\": 4.820020772250247}, {\"sample_means\": 4.824837047713192, \"quantiles\": 4.820776278159982}, {\"sample_means\": 4.825011237720045, \"quantiles\": 4.821527714121852}, {\"sample_means\": 4.8251687236480105, \"quantiles\": 4.822275140542584}, {\"sample_means\": 4.825322183743936, \"quantiles\": 4.823018616509575}, {\"sample_means\": 4.826155888740816, \"quantiles\": 4.823758199829722}, {\"sample_means\": 4.8266433280917225, \"quantiles\": 4.824493947066816}, {\"sample_means\": 4.826781574460006, \"quantiles\": 4.825225913577584}, {\"sample_means\": 4.826919975146203, \"quantiles\": 4.825954153546419}, {\"sample_means\": 4.828358199251391, \"quantiles\": 4.826678720018865}, {\"sample_means\": 4.8285083708747845, \"quantiles\": 4.827399664933907}, {\"sample_means\": 4.8289152209748964, \"quantiles\": 4.828117039155115}, {\"sample_means\": 4.829827415377787, \"quantiles\": 4.828830892500704}, {\"sample_means\": 4.830266193510908, \"quantiles\": 4.8295412737725325}, {\"sample_means\": 4.83339395422726, \"quantiles\": 4.8302482307841}, {\"sample_means\": 4.833551544027074, \"quantiles\": 4.830951810387589}, {\"sample_means\": 4.834206090668833, \"quantiles\": 4.831652058499972}, {\"sample_means\": 4.835298625659579, \"quantiles\": 4.83234902012824}, {\"sample_means\": 4.83556459226886, \"quantiles\": 4.833042739393783}, {\"sample_means\": 4.837429830340305, \"quantiles\": 4.833733259555946}, {\"sample_means\": 4.837994928359864, \"quantiles\": 4.83442062303481}, {\"sample_means\": 4.83840909925824, \"quantiles\": 4.835104871433221}, {\"sample_means\": 4.838448779669095, \"quantiles\": 4.835786045558092}, {\"sample_means\": 4.839173162013895, \"quantiles\": 4.836464185441018}, {\"sample_means\": 4.840356601746041, \"quantiles\": 4.8371393303582195}, {\"sample_means\": 4.842626034496152, \"quantiles\": 4.837811518849845}, {\"sample_means\": 4.8431219831578165, \"quantiles\": 4.8384807887386625}, {\"sample_means\": 4.84347354099424, \"quantiles\": 4.8391471771481545}, {\"sample_means\": 4.8435347469599055, \"quantiles\": 4.83981072052004}, {\"sample_means\": 4.843854271007232, \"quantiles\": 4.84047145463126}, {\"sample_means\": 4.844063560744456, \"quantiles\": 4.841129414610417}, {\"sample_means\": 4.844232995278438, \"quantiles\": 4.841784634953724}, {\"sample_means\": 4.844604131485164, \"quantiles\": 4.842437149540452}, {\"sample_means\": 4.844971771982988, \"quantiles\": 4.843086991647914}, {\"sample_means\": 4.845301724140427, \"quantiles\": 4.843734193965983}, {\"sample_means\": 4.845991035391961, \"quantiles\": 4.844378788611194}, {\"sample_means\": 4.846369911944124, \"quantiles\": 4.845020807140396}, {\"sample_means\": 4.847031731292027, \"quantiles\": 4.845660280564022}, {\"sample_means\": 4.847190440848324, \"quantiles\": 4.846297239358952}, {\"sample_means\": 4.849410642238849, \"quantiles\": 4.8469317134810055}, {\"sample_means\": 4.849575491100412, \"quantiles\": 4.847563732377061}, {\"sample_means\": 4.850423491210668, \"quantiles\": 4.848193324996834}, {\"sample_means\": 4.8508082396644605, \"quantiles\": 4.848820519804306}, {\"sample_means\": 4.85152214855302, \"quantiles\": 4.849445344788828}, {\"sample_means\": 4.851949736489672, \"quantiles\": 4.850067827475909}, {\"sample_means\": 4.853886715783829, \"quantiles\": 4.8506879949377}, {\"sample_means\": 4.8544914068136915, \"quantiles\": 4.851305873803175}, {\"sample_means\": 4.857065623892196, \"quantiles\": 4.851921490268032}, {\"sample_means\": 4.8574538039236925, \"quantiles\": 4.852534870104322}, {\"sample_means\": 4.859943517760783, \"quantiles\": 4.853146038669801}, {\"sample_means\": 4.8606287427779895, \"quantiles\": 4.853755020917031}, {\"sample_means\": 4.861029672119763, \"quantiles\": 4.854361841402231}, {\"sample_means\": 4.861907673786943, \"quantiles\": 4.854966524293887}, {\"sample_means\": 4.863595181258261, \"quantiles\": 4.8555690933811215}, {\"sample_means\": 4.863971297553861, \"quantiles\": 4.856169572081853}, {\"sample_means\": 4.864130350321564, \"quantiles\": 4.856767983450724}, {\"sample_means\": 4.864303159442686, \"quantiles\": 4.857364350186816}, {\"sample_means\": 4.864781593441801, \"quantiles\": 4.857958694641172}, {\"sample_means\": 4.8652215844906985, \"quantiles\": 4.858551038824111}, {\"sample_means\": 4.8656819431796325, \"quantiles\": 4.859141404412355}, {\"sample_means\": 4.8660507243124504, \"quantiles\": 4.859729812755968}, {\"sample_means\": 4.868252367608837, \"quantiles\": 4.860316284885116}, {\"sample_means\": 4.868522641955025, \"quantiles\": 4.860900841516653}, {\"sample_means\": 4.868645341787439, \"quantiles\": 4.861483503060538}, {\"sample_means\": 4.8687391614436075, \"quantiles\": 4.862064289626089}, {\"sample_means\": 4.869543439649366, \"quantiles\": 4.862643221028072}, {\"sample_means\": 4.869805857273879, \"quantiles\": 4.863220316792648}, {\"sample_means\": 4.870063914301497, \"quantiles\": 4.863795596163162}, {\"sample_means\": 4.870750535390746, \"quantiles\": 4.864369078105784}, {\"sample_means\": 4.873322377864098, \"quantiles\": 4.864940781315023}, {\"sample_means\": 4.873463607110858, \"quantiles\": 4.865510724219091}, {\"sample_means\": 4.8740148147423366, \"quantiles\": 4.8660789249851435}, {\"sample_means\": 4.874111832960975, \"quantiles\": 4.866645401524387}, {\"sample_means\": 4.875100133203715, \"quantiles\": 4.867210171497065}, {\"sample_means\": 4.875270828053554, \"quantiles\": 4.867773252317321}, {\"sample_means\": 4.875286141801398, \"quantiles\": 4.868334661157948}, {\"sample_means\": 4.875298483952986, \"quantiles\": 4.868894414955015}, {\"sample_means\": 4.876141516860085, \"quantiles\": 4.869452530412399}, {\"sample_means\": 4.876483960061591, \"quantiles\": 4.87000902400619}, {\"sample_means\": 4.87735166274283, \"quantiles\": 4.8705639119890085}, {\"sample_means\": 4.877531473574388, \"quantiles\": 4.871117210394208}, {\"sample_means\": 4.877856841297962, \"quantiles\": 4.871668935039993}, {\"sample_means\": 4.87969676368874, \"quantiles\": 4.872219101533427}, {\"sample_means\": 4.879879309987149, \"quantiles\": 4.872767725274359}, {\"sample_means\": 4.880610091460079, \"quantiles\": 4.873314821459253}, {\"sample_means\": 4.881308509883662, \"quantiles\": 4.873860405084929}, {\"sample_means\": 4.881391826872724, \"quantiles\": 4.874404490952222}, {\"sample_means\": 4.882072467992393, \"quantiles\": 4.874947093669559}, {\"sample_means\": 4.882228654553855, \"quantiles\": 4.875488227656451}, {\"sample_means\": 4.882348599168333, \"quantiles\": 4.876027907146903}, {\"sample_means\": 4.882798925993071, \"quantiles\": 4.876566146192762}, {\"sample_means\": 4.883507869048572, \"quantiles\": 4.877102958666972}, {\"sample_means\": 4.883509757688493, \"quantiles\": 4.87763835826677}, {\"sample_means\": 4.883806155461807, \"quantiles\": 4.878172358516805}, {\"sample_means\": 4.884488771114573, \"quantiles\": 4.878704972772188}, {\"sample_means\": 4.885565085540413, \"quantiles\": 4.879236214221484}, {\"sample_means\": 4.886292120985241, \"quantiles\": 4.879766095889623}, {\"sample_means\": 4.886860907081162, \"quantiles\": 4.8802946306407655}, {\"sample_means\": 4.886927215972764, \"quantiles\": 4.8808218311810885}, {\"sample_means\": 4.8876480937642945, \"quantiles\": 4.881347710061529}, {\"sample_means\": 4.888400217304783, \"quantiles\": 4.881872279680453}, {\"sample_means\": 4.889927899490305, \"quantiles\": 4.88239555228628}, {\"sample_means\": 4.889985403714194, \"quantiles\": 4.882917539980042}, {\"sample_means\": 4.890171245878323, \"quantiles\": 4.883438254717898}, {\"sample_means\": 4.890754211261281, \"quantiles\": 4.883957708313587}, {\"sample_means\": 4.890862672086376, \"quantiles\": 4.884475912440834}, {\"sample_means\": 4.891503034629054, \"quantiles\": 4.884992878635705}, {\"sample_means\": 4.8918324469410726, \"quantiles\": 4.885508618298913}, {\"sample_means\": 4.8934142046234355, \"quantiles\": 4.886023142698078}, {\"sample_means\": 4.893535979635029, \"quantiles\": 4.886536462969938}, {\"sample_means\": 4.8944610841161085, \"quantiles\": 4.8870485901225145}, {\"sample_means\": 4.89447418292502, \"quantiles\": 4.887559535037238}, {\"sample_means\": 4.894667957716301, \"quantiles\": 4.888069308471023}, {\"sample_means\": 4.895096921323764, \"quantiles\": 4.888577921058311}, {\"sample_means\": 4.895815920857717, \"quantiles\": 4.889085383313061}, {\"sample_means\": 4.896052833747705, \"quantiles\": 4.889591705630712}, {\"sample_means\": 4.896341407395461, \"quantiles\": 4.890096898290094}, {\"sample_means\": 4.896730365167019, \"quantiles\": 4.89060097145531}, {\"sample_means\": 4.896836185805263, \"quantiles\": 4.891103935177582}, {\"sample_means\": 4.896999180834102, \"quantiles\": 4.891605799397047}, {\"sample_means\": 4.897329378140552, \"quantiles\": 4.892106573944538}, {\"sample_means\": 4.897404010727696, \"quantiles\": 4.892606268543311}, {\"sample_means\": 4.897886713188304, \"quantiles\": 4.893104892810753}, {\"sample_means\": 4.897964769486929, \"quantiles\": 4.893602456260045}, {\"sample_means\": 4.898930455299846, \"quantiles\": 4.8940989683018055}, {\"sample_means\": 4.898992485062298, \"quantiles\": 4.89459443824569}, {\"sample_means\": 4.899779180665507, \"quantiles\": 4.895088875301967}, {\"sample_means\": 4.900263773185418, \"quantiles\": 4.895582288583064}, {\"sample_means\": 4.900596546768663, \"quantiles\": 4.896074687105082}, {\"sample_means\": 4.900827728409197, \"quantiles\": 4.896566079789279}, {\"sample_means\": 4.900897345350096, \"quantiles\": 4.8970564754635335}, {\"sample_means\": 4.901381575904292, \"quantiles\": 4.897545882863772}, {\"sample_means\": 4.90176901948593, \"quantiles\": 4.898034310635375}, {\"sample_means\": 4.9018264818414625, \"quantiles\": 4.898521767334555}, {\"sample_means\": 4.901872991063217, \"quantiles\": 4.899008261429706}, {\"sample_means\": 4.901875721759979, \"quantiles\": 4.899493801302739}, {\"sample_means\": 4.9030408395516645, \"quantiles\": 4.899978395250379}, {\"sample_means\": 4.903627851093451, \"quantiles\": 4.9004620514854444}, {\"sample_means\": 4.9036472097853965, \"quantiles\": 4.900944778138107}, {\"sample_means\": 4.903812598711964, \"quantiles\": 4.901426583257122}, {\"sample_means\": 4.9042920144597035, \"quantiles\": 4.901907474811044}, {\"sample_means\": 4.904294490618208, \"quantiles\": 4.902387460689409}, {\"sample_means\": 4.905144021580663, \"quantiles\": 4.902866548703908}, {\"sample_means\": 4.905412605858457, \"quantiles\": 4.903344746589532}, {\"sample_means\": 4.9055340952283, \"quantiles\": 4.9038220620057}, {\"sample_means\": 4.906024922233215, \"quantiles\": 4.9042985025373635}, {\"sample_means\": 4.9061841894068925, \"quantiles\": 4.904774075696096}, {\"sample_means\": 4.906726337078106, \"quantiles\": 4.905248788921161}, {\"sample_means\": 4.907536018901472, \"quantiles\": 4.9057226495805555}, {\"sample_means\": 4.908061703691927, \"quantiles\": 4.906195664972053}, {\"sample_means\": 4.908138994240653, \"quantiles\": 4.906667842324204}, {\"sample_means\": 4.908164164663632, \"quantiles\": 4.9071391887973395}, {\"sample_means\": 4.908522109622467, \"quantiles\": 4.907609711484548}, {\"sample_means\": 4.908858525299672, \"quantiles\": 4.908079417412633}, {\"sample_means\": 4.909516368786709, \"quantiles\": 4.908548313543066}, {\"sample_means\": 4.910238836087192, \"quantiles\": 4.909016406772906}, {\"sample_means\": 4.910353028479966, \"quantiles\": 4.909483703935721}, {\"sample_means\": 4.910363558840383, \"quantiles\": 4.9099502118024825}, {\"sample_means\": 4.910748023422146, \"quantiles\": 4.910415937082448}, {\"sample_means\": 4.9112932663543125, \"quantiles\": 4.910880886424025}, {\"sample_means\": 4.911439671183165, \"quantiles\": 4.911345066415637}, {\"sample_means\": 4.911564471342887, \"quantiles\": 4.911808483586548}, {\"sample_means\": 4.911950683512694, \"quantiles\": 4.912271144407695}, {\"sample_means\": 4.912316999519169, \"quantiles\": 4.912733055292502}, {\"sample_means\": 4.913174173451868, \"quantiles\": 4.913194222597672}, {\"sample_means\": 4.913295976219491, \"quantiles\": 4.913654652623976}, {\"sample_means\": 4.914361244533404, \"quantiles\": 4.914114351617026}, {\"sample_means\": 4.914416491674024, \"quantiles\": 4.914573325768033}, {\"sample_means\": 4.914503547206594, \"quantiles\": 4.915031581214554}, {\"sample_means\": 4.915011378778508, \"quantiles\": 4.91548912404123}, {\"sample_means\": 4.915690562286693, \"quantiles\": 4.915945960280508}, {\"sample_means\": 4.917298004036883, \"quantiles\": 4.916402095913355}, {\"sample_means\": 4.91752031506117, \"quantiles\": 4.916857536869953}, {\"sample_means\": 4.918014999205557, \"quantiles\": 4.917312289030396}, {\"sample_means\": 4.918859562361249, \"quantiles\": 4.9177663582253635}, {\"sample_means\": 4.919071503949598, \"quantiles\": 4.918219750236792}, {\"sample_means\": 4.919595997365794, \"quantiles\": 4.91867247079853}, {\"sample_means\": 4.9201387002590105, \"quantiles\": 4.919124525596984}, {\"sample_means\": 4.920800732357982, \"quantiles\": 4.91957592027176}, {\"sample_means\": 4.921294587239296, \"quantiles\": 4.920026660416288}, {\"sample_means\": 4.92209132609659, \"quantiles\": 4.920476751578437}, {\"sample_means\": 4.92222094525379, \"quantiles\": 4.920926199261129}, {\"sample_means\": 4.9222869426500955, \"quantiles\": 4.921375008922932}, {\"sample_means\": 4.922419731564082, \"quantiles\": 4.921823185978653}, {\"sample_means\": 4.923420875131085, \"quantiles\": 4.922270735799917}, {\"sample_means\": 4.924371297981152, \"quantiles\": 4.922717663715741}, {\"sample_means\": 4.924594058894693, \"quantiles\": 4.9231639750130896}, {\"sample_means\": 4.92463221470321, \"quantiles\": 4.923609674937443}, {\"sample_means\": 4.9246988893854615, \"quantiles\": 4.924054768693329}, {\"sample_means\": 4.925122589008282, \"quantiles\": 4.924499261444872}, {\"sample_means\": 4.925250596080927, \"quantiles\": 4.924943158316316}, {\"sample_means\": 4.926590461599055, \"quantiles\": 4.925386464392553}, {\"sample_means\": 4.927226623302611, \"quantiles\": 4.925829184719631}, {\"sample_means\": 4.927486776048039, \"quantiles\": 4.926271324305266}, {\"sample_means\": 4.927506231892996, \"quantiles\": 4.926712888119341}, {\"sample_means\": 4.928121553462412, \"quantiles\": 4.927153881094395}, {\"sample_means\": 4.928674390407288, \"quantiles\": 4.927594308126114}, {\"sample_means\": 4.928814125060782, \"quantiles\": 4.928034174073801}, {\"sample_means\": 4.9291661217516936, \"quantiles\": 4.9284734837608575}, {\"sample_means\": 4.929445654184399, \"quantiles\": 4.9289122419752385}, {\"sample_means\": 4.92963880381238, \"quantiles\": 4.929350453469915}, {\"sample_means\": 4.930077363464754, \"quantiles\": 4.929788122963328}, {\"sample_means\": 4.930279538982934, \"quantiles\": 4.930225255139826}, {\"sample_means\": 4.930373473214606, \"quantiles\": 4.930661854650111}, {\"sample_means\": 4.930668943203705, \"quantiles\": 4.931097926111667}, {\"sample_means\": 4.9306831107236215, \"quantiles\": 4.9315334741091865}, {\"sample_means\": 4.931585363705431, \"quantiles\": 4.931968503194994}, {\"sample_means\": 4.931631407557006, \"quantiles\": 4.932403017889458}, {\"sample_means\": 4.93258173486091, \"quantiles\": 4.932837022681399}, {\"sample_means\": 4.932587571483287, \"quantiles\": 4.933270522028497}, {\"sample_means\": 4.932850486211189, \"quantiles\": 4.933703520357685}, {\"sample_means\": 4.9332133793107875, \"quantiles\": 4.9341360220655455}, {\"sample_means\": 4.933519501024396, \"quantiles\": 4.934568031518692}, {\"sample_means\": 4.934381943182343, \"quantiles\": 4.934999553054156}, {\"sample_means\": 4.934427291117134, \"quantiles\": 4.9354305909797604}, {\"sample_means\": 4.934517560993265, \"quantiles\": 4.935861149574494}, {\"sample_means\": 4.934651405023625, \"quantiles\": 4.936291233088875}, {\"sample_means\": 4.9349198401067405, \"quantiles\": 4.936720845745315}, {\"sample_means\": 4.935214740592083, \"quantiles\": 4.937149991738473}, {\"sample_means\": 4.935494479365743, \"quantiles\": 4.9375786752356134}, {\"sample_means\": 4.935599222772756, \"quantiles\": 4.938006900376947}, {\"sample_means\": 4.9356867520537, \"quantiles\": 4.938434671275977}, {\"sample_means\": 4.937158281463142, \"quantiles\": 4.938861992019839}, {\"sample_means\": 4.9377113816314795, \"quantiles\": 4.939288866669634}, {\"sample_means\": 4.9378126479401105, \"quantiles\": 4.939715299260757}, {\"sample_means\": 4.938260085790997, \"quantiles\": 4.940141293803223}, {\"sample_means\": 4.938439514167164, \"quantiles\": 4.940566854281992}, {\"sample_means\": 4.939044921392333, \"quantiles\": 4.9409919846572805}, {\"sample_means\": 4.939051353095156, \"quantiles\": 4.94141668886488}, {\"sample_means\": 4.939323589716548, \"quantiles\": 4.941840970816464}, {\"sample_means\": 4.939337808021268, \"quantiles\": 4.942264834399893}, {\"sample_means\": 4.939619690679137, \"quantiles\": 4.9426882834795185}, {\"sample_means\": 4.940122145676557, \"quantiles\": 4.943111321896479}, {\"sample_means\": 4.940225607053957, \"quantiles\": 4.943533953468996}, {\"sample_means\": 4.940290600901833, \"quantiles\": 4.943956181992662}, {\"sample_means\": 4.9405422258573015, \"quantiles\": 4.94437801124073}, {\"sample_means\": 4.9410345620129394, \"quantiles\": 4.944799444964395}, {\"sample_means\": 4.941069483313453, \"quantiles\": 4.945220486893079}, {\"sample_means\": 4.941392664465536, \"quantiles\": 4.9456411407347}, {\"sample_means\": 4.9421069034980425, \"quantiles\": 4.946061410175952}, {\"sample_means\": 4.9426325018513975, \"quantiles\": 4.946481298882572}, {\"sample_means\": 4.943561953064692, \"quantiles\": 4.946900810499609}, {\"sample_means\": 4.9446271673189806, \"quantiles\": 4.9473199486516855}, {\"sample_means\": 4.945160584976496, \"quantiles\": 4.947738716943259}, {\"sample_means\": 4.945303223182165, \"quantiles\": 4.948157118958879}, {\"sample_means\": 4.9459522326776675, \"quantiles\": 4.948575158263447}, {\"sample_means\": 4.946274709698204, \"quantiles\": 4.948992838402457}, {\"sample_means\": 4.946999669626912, \"quantiles\": 4.949410162902257}, {\"sample_means\": 4.947702053349196, \"quantiles\": 4.949827135270286}, {\"sample_means\": 4.947837800378773, \"quantiles\": 4.950243758995319}, {\"sample_means\": 4.948195411737899, \"quantiles\": 4.9506600375477126}, {\"sample_means\": 4.948550536843515, \"quantiles\": 4.951075974379633}, {\"sample_means\": 4.949258536279137, \"quantiles\": 4.951491572925301}, {\"sample_means\": 4.949616237727322, \"quantiles\": 4.951906836601217}, {\"sample_means\": 4.952198929452112, \"quantiles\": 4.952321768806395}, {\"sample_means\": 4.952366358115082, \"quantiles\": 4.952736372922589}, {\"sample_means\": 4.952831882573385, \"quantiles\": 4.9531506523145135}, {\"sample_means\": 4.952902649798683, \"quantiles\": 4.9535646103300754}, {\"sample_means\": 4.95323212428179, \"quantiles\": 4.953978250300583}, {\"sample_means\": 4.953292091871635, \"quantiles\": 4.954391575540972}, {\"sample_means\": 4.953570341119823, \"quantiles\": 4.954804589350015}, {\"sample_means\": 4.953624828675249, \"quantiles\": 4.955217295010538}, {\"sample_means\": 4.953920534320634, \"quantiles\": 4.955629695789629}, {\"sample_means\": 4.954108720847475, \"quantiles\": 4.956041794938847}, {\"sample_means\": 4.95411262398542, \"quantiles\": 4.956453595694431}, {\"sample_means\": 4.954251302030516, \"quantiles\": 4.956865101277499}, {\"sample_means\": 4.9544693638835735, \"quantiles\": 4.957276314894253}, {\"sample_means\": 4.955177456343452, \"quantiles\": 4.95768723973618}, {\"sample_means\": 4.955458233707512, \"quantiles\": 4.958097878980248}, {\"sample_means\": 4.95551090425993, \"quantiles\": 4.958508235789102}, {\"sample_means\": 4.955520998708703, \"quantiles\": 4.95891831331126}, {\"sample_means\": 4.9556940050583975, \"quantiles\": 4.959328114681303}, {\"sample_means\": 4.9558443250616975, \"quantiles\": 4.959737643020065}, {\"sample_means\": 4.95626055345927, \"quantiles\": 4.960146901434823}, {\"sample_means\": 4.9570584620319575, \"quantiles\": 4.960555893019483}, {\"sample_means\": 4.957208834798118, \"quantiles\": 4.960964620854762}, {\"sample_means\": 4.957894742707138, \"quantiles\": 4.961373088008376}, {\"sample_means\": 4.957951435049659, \"quantiles\": 4.961781297535215}, {\"sample_means\": 4.959024150304201, \"quantiles\": 4.96218925247753}, {\"sample_means\": 4.959142675578815, \"quantiles\": 4.962596955865101}, {\"sample_means\": 4.959282972815718, \"quantiles\": 4.963004410715423}, {\"sample_means\": 4.959628793879754, \"quantiles\": 4.963411620033874}, {\"sample_means\": 4.96089377756567, \"quantiles\": 4.963818586813888}, {\"sample_means\": 4.961188182924353, \"quantiles\": 4.964225314037132}, {\"sample_means\": 4.961252594078424, \"quantiles\": 4.96463180467367}, {\"sample_means\": 4.961361843479308, \"quantiles\": 4.96503806168213}, {\"sample_means\": 4.962034443688279, \"quantiles\": 4.965444088009878}, {\"sample_means\": 4.9621476123701065, \"quantiles\": 4.965849886593179}, {\"sample_means\": 4.962533413327983, \"quantiles\": 4.966255460357357}, {\"sample_means\": 4.9628963993631645, \"quantiles\": 4.966660812216965}, {\"sample_means\": 4.963011309666564, \"quantiles\": 4.96706594507594}, {\"sample_means\": 4.964184875831109, \"quantiles\": 4.967470861827767}, {\"sample_means\": 4.964353154767489, \"quantiles\": 4.967875565355635}, {\"sample_means\": 4.964877773493124, \"quantiles\": 4.968280058532591}, {\"sample_means\": 4.965915797634861, \"quantiles\": 4.968684344221704}, {\"sample_means\": 4.966403824860154, \"quantiles\": 4.969088425276212}, {\"sample_means\": 4.966547788332102, \"quantiles\": 4.969492304539678}, {\"sample_means\": 4.966827363300197, \"quantiles\": 4.969895984846141}, {\"sample_means\": 4.966985733489232, \"quantiles\": 4.9702994690202695}, {\"sample_means\": 4.967145831658842, \"quantiles\": 4.970702759877507}, {\"sample_means\": 4.967248280224799, \"quantiles\": 4.971105860224223}, {\"sample_means\": 4.967671476969943, \"quantiles\": 4.971508772857861}, {\"sample_means\": 4.9678996318398605, \"quantiles\": 4.971911500567084}, {\"sample_means\": 4.968248751906578, \"quantiles\": 4.972314046131917}, {\"sample_means\": 4.968759258058462, \"quantiles\": 4.972716412323894}, {\"sample_means\": 4.969338278416958, \"quantiles\": 4.973118601906202}, {\"sample_means\": 4.970015859123401, \"quantiles\": 4.9735206176338185}, {\"sample_means\": 4.970163476228474, \"quantiles\": 4.973922462253657}, {\"sample_means\": 4.970272466327088, \"quantiles\": 4.974324138504704}, {\"sample_means\": 4.970876732574947, \"quantiles\": 4.974725649118159}, {\"sample_means\": 4.970927648719553, \"quantiles\": 4.975126996817573}, {\"sample_means\": 4.971008918292504, \"quantiles\": 4.975528184318986}, {\"sample_means\": 4.9710185122609065, \"quantiles\": 4.97592921433106}, {\"sample_means\": 4.9710231129248506, \"quantiles\": 4.976330089555219}, {\"sample_means\": 4.9712310413487275, \"quantiles\": 4.97673081268578}, {\"sample_means\": 4.971374834990187, \"quantiles\": 4.977131386410085}, {\"sample_means\": 4.971452437479404, \"quantiles\": 4.97753181340864}, {\"sample_means\": 4.971506100416265, \"quantiles\": 4.977932096355241}, {\"sample_means\": 4.97184280235456, \"quantiles\": 4.978332237917107}, {\"sample_means\": 4.971854572061753, \"quantiles\": 4.978732240755011}, {\"sample_means\": 4.972222029785579, \"quantiles\": 4.979132107523409}, {\"sample_means\": 4.972585105804244, \"quantiles\": 4.979531840870566}, {\"sample_means\": 4.9728046760541, \"quantiles\": 4.979931443438689}, {\"sample_means\": 4.973297992910698, \"quantiles\": 4.980330917864051}, {\"sample_means\": 4.97401330775398, \"quantiles\": 4.980730266777119}, {\"sample_means\": 4.974076930589876, \"quantiles\": 4.981129492802678}, {\"sample_means\": 4.976952955873221, \"quantiles\": 4.981528598559958}, {\"sample_means\": 4.978065395317899, \"quantiles\": 4.981927586662756}, {\"sample_means\": 4.978581075757547, \"quantiles\": 4.982326459719565}, {\"sample_means\": 4.979554499651291, \"quantiles\": 4.982725220333693}, {\"sample_means\": 4.97971596006457, \"quantiles\": 4.983123871103383}, {\"sample_means\": 4.980014624323085, \"quantiles\": 4.983522414621945}, {\"sample_means\": 4.980160841968074, \"quantiles\": 4.983920853477865}, {\"sample_means\": 4.980304832247572, \"quantiles\": 4.9843191902549355}, {\"sample_means\": 4.980538163972728, \"quantiles\": 4.984717427532372}, {\"sample_means\": 4.9813349517247065, \"quantiles\": 4.985115567884933}, {\"sample_means\": 4.981634777060379, \"quantiles\": 4.98551361388304}, {\"sample_means\": 4.981823687095945, \"quantiles\": 4.985911568092893}, {\"sample_means\": 4.982379883977042, \"quantiles\": 4.986309433076595}, {\"sample_means\": 4.982610347855235, \"quantiles\": 4.9867072113922655}, {\"sample_means\": 4.983013207729165, \"quantiles\": 4.987104905594157}, {\"sample_means\": 4.983555324926139, \"quantiles\": 4.987502518232776}, {\"sample_means\": 4.983648287318329, \"quantiles\": 4.987900051854995}, {\"sample_means\": 4.98500016241318, \"quantiles\": 4.9882975090041715}, {\"sample_means\": 4.985267054803074, \"quantiles\": 4.988694892220264}, {\"sample_means\": 4.985356092458218, \"quantiles\": 4.989092204039943}, {\"sample_means\": 4.986445959680418, \"quantiles\": 4.9894894469967115}, {\"sample_means\": 4.986667317098075, \"quantiles\": 4.989886623621016}, {\"sample_means\": 4.98677590008976, \"quantiles\": 4.990283736440362}, {\"sample_means\": 4.987387328159781, \"quantiles\": 4.990680787979426}, {\"sample_means\": 4.988025353734971, \"quantiles\": 4.991077780760171}, {\"sample_means\": 4.988217105622922, \"quantiles\": 4.9914747173019585}, {\"sample_means\": 4.988341550053363, \"quantiles\": 4.991871600121663}, {\"sample_means\": 4.988353909765974, \"quantiles\": 4.992268431733782}, {\"sample_means\": 4.988630545807564, \"quantiles\": 4.99266521465055}, {\"sample_means\": 4.988675480048748, \"quantiles\": 4.993061951382051}, {\"sample_means\": 4.98885308272512, \"quantiles\": 4.99345864443633}, {\"sample_means\": 4.989032007652885, \"quantiles\": 4.9938552963194995}, {\"sample_means\": 4.990280602936245, \"quantiles\": 4.994251909535862}, {\"sample_means\": 4.991125108795717, \"quantiles\": 4.9946484865880105}, {\"sample_means\": 4.991833373584417, \"quantiles\": 4.995045029976944}, {\"sample_means\": 4.991882127552992, \"quantiles\": 4.995441542202179}, {\"sample_means\": 4.992008576560441, \"quantiles\": 4.995838025761857}, {\"sample_means\": 4.992016813434487, \"quantiles\": 4.996234483152858}, {\"sample_means\": 4.992101863127396, \"quantiles\": 4.9966309168709095}, {\"sample_means\": 4.992170214898486, \"quantiles\": 4.997027329410696}, {\"sample_means\": 4.9938490041105315, \"quantiles\": 4.997423723265972}, {\"sample_means\": 4.994323482359669, \"quantiles\": 4.9978201009296646}, {\"sample_means\": 4.99595304157182, \"quantiles\": 4.998216464893995}, {\"sample_means\": 4.996061532300385, \"quantiles\": 4.998612817650576}, {\"sample_means\": 4.996805830456735, \"quantiles\": 4.99900916169053}, {\"sample_means\": 4.997068127686902, \"quantiles\": 4.999405499504596}, {\"sample_means\": 4.997145814602026, \"quantiles\": 4.9998018335832395}, {\"sample_means\": 4.997331337347998, \"quantiles\": 5.0001981664167605}, {\"sample_means\": 4.998269038837665, \"quantiles\": 5.000594500495403}, {\"sample_means\": 4.998276358191387, \"quantiles\": 5.00099083830947}, {\"sample_means\": 4.9984582037397605, \"quantiles\": 5.001387182349424}, {\"sample_means\": 4.998574996737645, \"quantiles\": 5.001783535106005}, {\"sample_means\": 4.999334105434352, \"quantiles\": 5.002179899070335}, {\"sample_means\": 4.999923833728582, \"quantiles\": 5.002576276734028}, {\"sample_means\": 5.000542287647122, \"quantiles\": 5.002972670589304}, {\"sample_means\": 5.001457367196048, \"quantiles\": 5.0033690831290905}, {\"sample_means\": 5.002071197871807, \"quantiles\": 5.0037655168471415}, {\"sample_means\": 5.002075132237704, \"quantiles\": 5.004161974238143}, {\"sample_means\": 5.0022489345849745, \"quantiles\": 5.004558457797821}, {\"sample_means\": 5.002380101002349, \"quantiles\": 5.004954970023056}, {\"sample_means\": 5.003072456566786, \"quantiles\": 5.0053515134119895}, {\"sample_means\": 5.003207101378145, \"quantiles\": 5.005748090464138}, {\"sample_means\": 5.003801519313235, \"quantiles\": 5.0061447036805005}, {\"sample_means\": 5.004652875327052, \"quantiles\": 5.00654135556367}, {\"sample_means\": 5.0049811346740665, \"quantiles\": 5.006938048617949}, {\"sample_means\": 5.004998202346082, \"quantiles\": 5.00733478534945}, {\"sample_means\": 5.005374393810928, \"quantiles\": 5.007731568266218}, {\"sample_means\": 5.0055305766132845, \"quantiles\": 5.008128399878337}, {\"sample_means\": 5.00626162283307, \"quantiles\": 5.0085252826980415}, {\"sample_means\": 5.0065174049634, \"quantiles\": 5.008922219239829}, {\"sample_means\": 5.006617100906471, \"quantiles\": 5.009319212020574}, {\"sample_means\": 5.006916778763247, \"quantiles\": 5.009716263559638}, {\"sample_means\": 5.006939316680886, \"quantiles\": 5.010113376378984}, {\"sample_means\": 5.006992562039881, \"quantiles\": 5.0105105530032885}, {\"sample_means\": 5.007227447335408, \"quantiles\": 5.010907795960057}, {\"sample_means\": 5.007497101259131, \"quantiles\": 5.011305107779736}, {\"sample_means\": 5.007826262079143, \"quantiles\": 5.0117024909958285}, {\"sample_means\": 5.008069216573414, \"quantiles\": 5.012099948145005}, {\"sample_means\": 5.009303868287465, \"quantiles\": 5.012497481767224}, {\"sample_means\": 5.00940392941015, \"quantiles\": 5.012895094405843}, {\"sample_means\": 5.010121136560522, \"quantiles\": 5.0132927886077345}, {\"sample_means\": 5.0107857827019995, \"quantiles\": 5.013690566923405}, {\"sample_means\": 5.011861989979249, \"quantiles\": 5.014088431907107}, {\"sample_means\": 5.012013432463967, \"quantiles\": 5.01448638611696}, {\"sample_means\": 5.01229294420977, \"quantiles\": 5.014884432115067}, {\"sample_means\": 5.012896176070919, \"quantiles\": 5.015282572467628}, {\"sample_means\": 5.0137262887549765, \"quantiles\": 5.0156808097450645}, {\"sample_means\": 5.014078262946601, \"quantiles\": 5.016079146522135}, {\"sample_means\": 5.014419536966739, \"quantiles\": 5.016477585378055}, {\"sample_means\": 5.014759234763436, \"quantiles\": 5.016876128896617}, {\"sample_means\": 5.014884887651959, \"quantiles\": 5.017274779666307}, {\"sample_means\": 5.015038990344354, \"quantiles\": 5.017673540280435}, {\"sample_means\": 5.0152507933338635, \"quantiles\": 5.018072413337244}, {\"sample_means\": 5.015593615660763, \"quantiles\": 5.018471401440042}, {\"sample_means\": 5.015637200649921, \"quantiles\": 5.018870507197322}, {\"sample_means\": 5.016037221079291, \"quantiles\": 5.019269733222881}, {\"sample_means\": 5.016878422059979, \"quantiles\": 5.019669082135949}, {\"sample_means\": 5.017356646895108, \"quantiles\": 5.020068556561311}, {\"sample_means\": 5.017389994512625, \"quantiles\": 5.020468159129434}, {\"sample_means\": 5.018160172843773, \"quantiles\": 5.020867892476591}, {\"sample_means\": 5.018165818460024, \"quantiles\": 5.021267759244989}, {\"sample_means\": 5.018783377799244, \"quantiles\": 5.021667762082893}, {\"sample_means\": 5.0199387715796435, \"quantiles\": 5.022067903644759}, {\"sample_means\": 5.020027477191941, \"quantiles\": 5.02246818659136}, {\"sample_means\": 5.020644322183809, \"quantiles\": 5.022868613589915}, {\"sample_means\": 5.020991311554833, \"quantiles\": 5.02326918731422}, {\"sample_means\": 5.021502031341746, \"quantiles\": 5.023669910444781}, {\"sample_means\": 5.023383891539419, \"quantiles\": 5.02407078566894}, {\"sample_means\": 5.02398048237024, \"quantiles\": 5.0244718156810135}, {\"sample_means\": 5.024041642461245, \"quantiles\": 5.024873003182427}, {\"sample_means\": 5.0242004236057, \"quantiles\": 5.025274350881841}, {\"sample_means\": 5.024582692759324, \"quantiles\": 5.025675861495297}, {\"sample_means\": 5.024726248043121, \"quantiles\": 5.026077537746343}, {\"sample_means\": 5.024957945741526, \"quantiles\": 5.0264793823661815}, {\"sample_means\": 5.025462521529187, \"quantiles\": 5.026881398093797}, {\"sample_means\": 5.025957091895026, \"quantiles\": 5.027283587676106}, {\"sample_means\": 5.0267713056889045, \"quantiles\": 5.027685953868083}, {\"sample_means\": 5.026850082641257, \"quantiles\": 5.028088499432916}, {\"sample_means\": 5.027474647563167, \"quantiles\": 5.028491227142139}, {\"sample_means\": 5.027510125447836, \"quantiles\": 5.028894139775777}, {\"sample_means\": 5.027742672830873, \"quantiles\": 5.029297240122493}, {\"sample_means\": 5.027764879023366, \"quantiles\": 5.0297005309797305}, {\"sample_means\": 5.028306613506582, \"quantiles\": 5.030104015153859}, {\"sample_means\": 5.028459198394183, \"quantiles\": 5.030507695460322}, {\"sample_means\": 5.028469573669009, \"quantiles\": 5.030911574723787}, {\"sample_means\": 5.029198359702772, \"quantiles\": 5.031315655778296}, {\"sample_means\": 5.03014994230398, \"quantiles\": 5.031719941467409}, {\"sample_means\": 5.030183769058966, \"quantiles\": 5.032124434644365}, {\"sample_means\": 5.031755173032286, \"quantiles\": 5.032529138172233}, {\"sample_means\": 5.032424764330322, \"quantiles\": 5.03293405492406}, {\"sample_means\": 5.032877624939404, \"quantiles\": 5.033339187783035}, {\"sample_means\": 5.0329721774807945, \"quantiles\": 5.033744539642643}, {\"sample_means\": 5.033196379254627, \"quantiles\": 5.034150113406821}, {\"sample_means\": 5.033336574404495, \"quantiles\": 5.034555911990122}, {\"sample_means\": 5.034089641728982, \"quantiles\": 5.03496193831787}, {\"sample_means\": 5.034179636118148, \"quantiles\": 5.03536819532633}, {\"sample_means\": 5.034474068858791, \"quantiles\": 5.035774685962868}, {\"sample_means\": 5.034659464427104, \"quantiles\": 5.036181413186112}, {\"sample_means\": 5.034706707711525, \"quantiles\": 5.036588379966126}, {\"sample_means\": 5.0350171907725665, \"quantiles\": 5.036995589284577}, {\"sample_means\": 5.035416907984556, \"quantiles\": 5.037403044134899}, {\"sample_means\": 5.035447471166876, \"quantiles\": 5.03781074752247}, {\"sample_means\": 5.0357954515180205, \"quantiles\": 5.038218702464785}, {\"sample_means\": 5.037199924604781, \"quantiles\": 5.038626911991624}, {\"sample_means\": 5.037444433992632, \"quantiles\": 5.039035379145238}, {\"sample_means\": 5.037967448376979, \"quantiles\": 5.039444106980517}, {\"sample_means\": 5.038247920638852, \"quantiles\": 5.039853098565177}, {\"sample_means\": 5.038465022534762, \"quantiles\": 5.040262356979935}, {\"sample_means\": 5.038569817753359, \"quantiles\": 5.040671885318697}, {\"sample_means\": 5.038784644588736, \"quantiles\": 5.04108168668874}, {\"sample_means\": 5.039047774141936, \"quantiles\": 5.041491764210898}, {\"sample_means\": 5.039129746454602, \"quantiles\": 5.041902121019752}, {\"sample_means\": 5.0394719476516405, \"quantiles\": 5.04231276026382}, {\"sample_means\": 5.0395587045016335, \"quantiles\": 5.042723685105747}, {\"sample_means\": 5.039750685587008, \"quantiles\": 5.043134898722501}, {\"sample_means\": 5.039792924548647, \"quantiles\": 5.043546404305569}, {\"sample_means\": 5.03994057460737, \"quantiles\": 5.043958205061153}, {\"sample_means\": 5.040179379097614, \"quantiles\": 5.044370304210371}, {\"sample_means\": 5.040267899941592, \"quantiles\": 5.044782704989462}, {\"sample_means\": 5.040661717679881, \"quantiles\": 5.045195410649985}, {\"sample_means\": 5.0409202481042925, \"quantiles\": 5.045608424459028}, {\"sample_means\": 5.040980226622758, \"quantiles\": 5.046021749699417}, {\"sample_means\": 5.0412327087385425, \"quantiles\": 5.0464353896699246}, {\"sample_means\": 5.041587325725221, \"quantiles\": 5.0468493476854865}, {\"sample_means\": 5.041816174203314, \"quantiles\": 5.047263627077411}, {\"sample_means\": 5.042698738414127, \"quantiles\": 5.047678231193605}, {\"sample_means\": 5.042741465189038, \"quantiles\": 5.048093163398783}, {\"sample_means\": 5.043378457936878, \"quantiles\": 5.048508427074699}, {\"sample_means\": 5.043585356573077, \"quantiles\": 5.048924025620367}, {\"sample_means\": 5.043816099255262, \"quantiles\": 5.0493399624522874}, {\"sample_means\": 5.043853635336126, \"quantiles\": 5.049756241004681}, {\"sample_means\": 5.044166168880028, \"quantiles\": 5.050172864729714}, {\"sample_means\": 5.044353483961637, \"quantiles\": 5.050589837097743}, {\"sample_means\": 5.044368716258594, \"quantiles\": 5.051007161597543}, {\"sample_means\": 5.044382878896917, \"quantiles\": 5.051424841736553}, {\"sample_means\": 5.045279106457412, \"quantiles\": 5.051842881041121}, {\"sample_means\": 5.04548190681749, \"quantiles\": 5.052261283056741}, {\"sample_means\": 5.045581722721363, \"quantiles\": 5.0526800513483145}, {\"sample_means\": 5.046631774530475, \"quantiles\": 5.053099189500391}, {\"sample_means\": 5.0467845077761835, \"quantiles\": 5.053518701117428}, {\"sample_means\": 5.04703341240296, \"quantiles\": 5.053938589824048}, {\"sample_means\": 5.0480929985609695, \"quantiles\": 5.0543588592653}, {\"sample_means\": 5.0503600391608, \"quantiles\": 5.054779513106921}, {\"sample_means\": 5.050781261581927, \"quantiles\": 5.055200555035605}, {\"sample_means\": 5.050962682945156, \"quantiles\": 5.05562198875927}, {\"sample_means\": 5.051341038638985, \"quantiles\": 5.056043818007338}, {\"sample_means\": 5.051963231816642, \"quantiles\": 5.056466046531004}, {\"sample_means\": 5.05282890344714, \"quantiles\": 5.056888678103521}, {\"sample_means\": 5.053123188749172, \"quantiles\": 5.0573117165204815}, {\"sample_means\": 5.053207821312102, \"quantiles\": 5.057735165600107}, {\"sample_means\": 5.053460158022667, \"quantiles\": 5.058159029183536}, {\"sample_means\": 5.053660567737904, \"quantiles\": 5.05858331113512}, {\"sample_means\": 5.053740499840842, \"quantiles\": 5.0590080153427195}, {\"sample_means\": 5.053926179489135, \"quantiles\": 5.059433145718008}, {\"sample_means\": 5.054408548439947, \"quantiles\": 5.059858706196777}, {\"sample_means\": 5.055541546883917, \"quantiles\": 5.060284700739243}, {\"sample_means\": 5.056491334588574, \"quantiles\": 5.060711133330366}, {\"sample_means\": 5.0573087892333755, \"quantiles\": 5.061138007980161}, {\"sample_means\": 5.057320906216895, \"quantiles\": 5.061565328724023}, {\"sample_means\": 5.057617353313373, \"quantiles\": 5.061993099623053}, {\"sample_means\": 5.057726570810257, \"quantiles\": 5.0624213247643866}, {\"sample_means\": 5.058040661572569, \"quantiles\": 5.062850008261527}, {\"sample_means\": 5.058292697528608, \"quantiles\": 5.063279154254685}, {\"sample_means\": 5.05998393524924, \"quantiles\": 5.063708766911125}, {\"sample_means\": 5.060773948514356, \"quantiles\": 5.064138850425506}, {\"sample_means\": 5.061073060437925, \"quantiles\": 5.0645694090202396}, {\"sample_means\": 5.062201691998005, \"quantiles\": 5.065000446945844}, {\"sample_means\": 5.062443147717995, \"quantiles\": 5.065431968481308}, {\"sample_means\": 5.062645344736435, \"quantiles\": 5.0658639779344545}, {\"sample_means\": 5.062730309410548, \"quantiles\": 5.066296479642315}, {\"sample_means\": 5.063024111005543, \"quantiles\": 5.066729477971503}, {\"sample_means\": 5.063492811967075, \"quantiles\": 5.067162977318601}, {\"sample_means\": 5.063916210214945, \"quantiles\": 5.067596982110542}, {\"sample_means\": 5.065270251437338, \"quantiles\": 5.0680314968050055}, {\"sample_means\": 5.066312609673006, \"quantiles\": 5.0684665258908135}, {\"sample_means\": 5.066365875859768, \"quantiles\": 5.068902073888333}, {\"sample_means\": 5.067076532159816, \"quantiles\": 5.069338145349889}, {\"sample_means\": 5.067197105340362, \"quantiles\": 5.069774744860174}, {\"sample_means\": 5.067425418219476, \"quantiles\": 5.070211877036672}, {\"sample_means\": 5.067783293636823, \"quantiles\": 5.070649546530085}, {\"sample_means\": 5.067818781199253, \"quantiles\": 5.0710877580247615}, {\"sample_means\": 5.067992062663907, \"quantiles\": 5.0715265162391425}, {\"sample_means\": 5.068111789962318, \"quantiles\": 5.071965825926199}, {\"sample_means\": 5.06824129360792, \"quantiles\": 5.072405691873886}, {\"sample_means\": 5.068289903872201, \"quantiles\": 5.072846118905605}, {\"sample_means\": 5.068562437157633, \"quantiles\": 5.073287111880659}, {\"sample_means\": 5.068988373384831, \"quantiles\": 5.073728675694734}, {\"sample_means\": 5.069764917301223, \"quantiles\": 5.074170815280369}, {\"sample_means\": 5.069918066437384, \"quantiles\": 5.074613535607447}, {\"sample_means\": 5.0700898695503325, \"quantiles\": 5.075056841683684}, {\"sample_means\": 5.070367662823361, \"quantiles\": 5.075500738555128}, {\"sample_means\": 5.070801585289473, \"quantiles\": 5.075945231306671}, {\"sample_means\": 5.071045704128682, \"quantiles\": 5.076390325062557}, {\"sample_means\": 5.071126659374873, \"quantiles\": 5.0768360249869104}, {\"sample_means\": 5.071373925866659, \"quantiles\": 5.077282336284259}, {\"sample_means\": 5.071782005942217, \"quantiles\": 5.077729264200083}, {\"sample_means\": 5.071871908435707, \"quantiles\": 5.078176814021347}, {\"sample_means\": 5.072134981057278, \"quantiles\": 5.078624991077068}, {\"sample_means\": 5.072201429081117, \"quantiles\": 5.079073800738871}, {\"sample_means\": 5.072496061639644, \"quantiles\": 5.079523248421563}, {\"sample_means\": 5.072978260794024, \"quantiles\": 5.079973339583712}, {\"sample_means\": 5.073384044027878, \"quantiles\": 5.08042407972824}, {\"sample_means\": 5.073532209969773, \"quantiles\": 5.080875474403016}, {\"sample_means\": 5.073704785024172, \"quantiles\": 5.08132752920147}, {\"sample_means\": 5.074292264771914, \"quantiles\": 5.081780249763208}, {\"sample_means\": 5.074547373814897, \"quantiles\": 5.0822336417746365}, {\"sample_means\": 5.0746587843120565, \"quantiles\": 5.082687710969604}, {\"sample_means\": 5.074802414046859, \"quantiles\": 5.083142463130047}, {\"sample_means\": 5.075459600761171, \"quantiles\": 5.083597904086645}, {\"sample_means\": 5.075944935428064, \"quantiles\": 5.084054039719491}, {\"sample_means\": 5.076171431630239, \"quantiles\": 5.08451087595877}, {\"sample_means\": 5.076800088001981, \"quantiles\": 5.084968418785446}, {\"sample_means\": 5.076950754785903, \"quantiles\": 5.085426674231967}, {\"sample_means\": 5.077241063414881, \"quantiles\": 5.085885648382973}, {\"sample_means\": 5.077914209130455, \"quantiles\": 5.086345347376024}, {\"sample_means\": 5.078236592009991, \"quantiles\": 5.086805777402327}, {\"sample_means\": 5.0785793458481345, \"quantiles\": 5.087266944707498}, {\"sample_means\": 5.078694764129186, \"quantiles\": 5.087728855592304}, {\"sample_means\": 5.079029670933906, \"quantiles\": 5.088191516413452}, {\"sample_means\": 5.0794276803019, \"quantiles\": 5.088654933584363}, {\"sample_means\": 5.079547080070741, \"quantiles\": 5.089119113575975}, {\"sample_means\": 5.080311787935167, \"quantiles\": 5.089584062917552}, {\"sample_means\": 5.080334488144381, \"quantiles\": 5.090049788197517}, {\"sample_means\": 5.080414629250474, \"quantiles\": 5.090516296064279}, {\"sample_means\": 5.080783047848394, \"quantiles\": 5.090983593227094}, {\"sample_means\": 5.0810859583041195, \"quantiles\": 5.091451686456934}, {\"sample_means\": 5.082959201799036, \"quantiles\": 5.091920582587367}, {\"sample_means\": 5.08377627006651, \"quantiles\": 5.092390288515452}, {\"sample_means\": 5.085127834295843, \"quantiles\": 5.0928608112026605}, {\"sample_means\": 5.085132628504136, \"quantiles\": 5.093332157675796}, {\"sample_means\": 5.085318917178011, \"quantiles\": 5.093804335027947}, {\"sample_means\": 5.085718321980497, \"quantiles\": 5.0942773504194445}, {\"sample_means\": 5.086167483407341, \"quantiles\": 5.094751211078839}, {\"sample_means\": 5.086587296608062, \"quantiles\": 5.095225924303904}, {\"sample_means\": 5.088352804216265, \"quantiles\": 5.095701497462636}, {\"sample_means\": 5.088918926699848, \"quantiles\": 5.0961779379943}, {\"sample_means\": 5.089502304938567, \"quantiles\": 5.096655253410468}, {\"sample_means\": 5.090273637415774, \"quantiles\": 5.0971334512960915}, {\"sample_means\": 5.09076637757126, \"quantiles\": 5.097612539310591}, {\"sample_means\": 5.091077275622877, \"quantiles\": 5.098092525188956}, {\"sample_means\": 5.091831585671603, \"quantiles\": 5.098573416742878}, {\"sample_means\": 5.091995390882584, \"quantiles\": 5.099055221861893}, {\"sample_means\": 5.093141969117891, \"quantiles\": 5.0995379485145556}, {\"sample_means\": 5.093495205751979, \"quantiles\": 5.100021604749621}, {\"sample_means\": 5.093567476125687, \"quantiles\": 5.100506198697261}, {\"sample_means\": 5.094352261646308, \"quantiles\": 5.100991738570294}, {\"sample_means\": 5.094961352463024, \"quantiles\": 5.101478232665445}, {\"sample_means\": 5.095755269056601, \"quantiles\": 5.101965689364625}, {\"sample_means\": 5.096147715193312, \"quantiles\": 5.102454117136228}, {\"sample_means\": 5.096707519328089, \"quantiles\": 5.1029435245364665}, {\"sample_means\": 5.096756706950157, \"quantiles\": 5.103433920210721}, {\"sample_means\": 5.0967638110864355, \"quantiles\": 5.103925312894918}, {\"sample_means\": 5.096931242231505, \"quantiles\": 5.104417711416936}, {\"sample_means\": 5.097221662336295, \"quantiles\": 5.104911124698033}, {\"sample_means\": 5.097456602262195, \"quantiles\": 5.10540556175431}, {\"sample_means\": 5.098200183033304, \"quantiles\": 5.1059010316981945}, {\"sample_means\": 5.098582946691006, \"quantiles\": 5.106397543739955}, {\"sample_means\": 5.098666292221198, \"quantiles\": 5.106895107189247}, {\"sample_means\": 5.0988476715333615, \"quantiles\": 5.107393731456689}, {\"sample_means\": 5.099335666419309, \"quantiles\": 5.107893426055462}, {\"sample_means\": 5.099746447548529, \"quantiles\": 5.108394200602953}, {\"sample_means\": 5.0998010201036275, \"quantiles\": 5.108896064822418}, {\"sample_means\": 5.100125661926247, \"quantiles\": 5.10939902854469}, {\"sample_means\": 5.100436215599709, \"quantiles\": 5.109903101709906}, {\"sample_means\": 5.100613730714747, \"quantiles\": 5.110408294369288}, {\"sample_means\": 5.101202555136615, \"quantiles\": 5.110914616686939}, {\"sample_means\": 5.102540956972423, \"quantiles\": 5.111422078941689}, {\"sample_means\": 5.102779423901348, \"quantiles\": 5.111930691528977}, {\"sample_means\": 5.104396236663359, \"quantiles\": 5.112440464962762}, {\"sample_means\": 5.104567217383598, \"quantiles\": 5.1129514098774855}, {\"sample_means\": 5.104837717729733, \"quantiles\": 5.113463537030062}, {\"sample_means\": 5.104932518467093, \"quantiles\": 5.113976857301922}, {\"sample_means\": 5.105648972579054, \"quantiles\": 5.114491381701087}, {\"sample_means\": 5.105749565947907, \"quantiles\": 5.115007121364295}, {\"sample_means\": 5.106876531636675, \"quantiles\": 5.115524087559166}, {\"sample_means\": 5.107115000182903, \"quantiles\": 5.116042291686413}, {\"sample_means\": 5.107504039050767, \"quantiles\": 5.116561745282102}, {\"sample_means\": 5.107544109139527, \"quantiles\": 5.117082460019958}, {\"sample_means\": 5.10768634219339, \"quantiles\": 5.11760444771372}, {\"sample_means\": 5.108033680798149, \"quantiles\": 5.118127720319547}, {\"sample_means\": 5.1082140819103445, \"quantiles\": 5.118652289938471}, {\"sample_means\": 5.108406355691763, \"quantiles\": 5.1191781688189115}, {\"sample_means\": 5.108617529802135, \"quantiles\": 5.1197053693592345}, {\"sample_means\": 5.109007149737606, \"quantiles\": 5.120233904110377}, {\"sample_means\": 5.109043242645209, \"quantiles\": 5.120763785778516}, {\"sample_means\": 5.109622368127044, \"quantiles\": 5.121295027227812}, {\"sample_means\": 5.110277675075128, \"quantiles\": 5.121827641483195}, {\"sample_means\": 5.11030308608229, \"quantiles\": 5.12236164173323}, {\"sample_means\": 5.110414977234327, \"quantiles\": 5.122897041333028}, {\"sample_means\": 5.110493548387785, \"quantiles\": 5.123433853807238}, {\"sample_means\": 5.112872255332393, \"quantiles\": 5.123972092853097}, {\"sample_means\": 5.11328390878651, \"quantiles\": 5.124511772343549}, {\"sample_means\": 5.113821097705873, \"quantiles\": 5.125052906330441}, {\"sample_means\": 5.114120532551281, \"quantiles\": 5.125595509047778}, {\"sample_means\": 5.114497561997001, \"quantiles\": 5.126139594915071}, {\"sample_means\": 5.114785378424677, \"quantiles\": 5.126685178540747}, {\"sample_means\": 5.1151287947279, \"quantiles\": 5.127232274725641}, {\"sample_means\": 5.115253137338934, \"quantiles\": 5.127780898466573}, {\"sample_means\": 5.11542456322526, \"quantiles\": 5.128331064960007}, {\"sample_means\": 5.1164165766721075, \"quantiles\": 5.128882789605792}, {\"sample_means\": 5.116710484848024, \"quantiles\": 5.1294360880109915}, {\"sample_means\": 5.116796347740748, \"quantiles\": 5.12999097599381}, {\"sample_means\": 5.118224307717618, \"quantiles\": 5.130547469587601}, {\"sample_means\": 5.118226195264673, \"quantiles\": 5.131105585044985}, {\"sample_means\": 5.118719488370751, \"quantiles\": 5.131665338842052}, {\"sample_means\": 5.11872340599567, \"quantiles\": 5.132226747682679}, {\"sample_means\": 5.118855548915804, \"quantiles\": 5.132789828502935}, {\"sample_means\": 5.120334075785299, \"quantiles\": 5.133354598475613}, {\"sample_means\": 5.121281052396978, \"quantiles\": 5.1339210750148565}, {\"sample_means\": 5.12135445376831, \"quantiles\": 5.134489275780909}, {\"sample_means\": 5.122733595397671, \"quantiles\": 5.135059218684977}, {\"sample_means\": 5.122975509506386, \"quantiles\": 5.135630921894216}, {\"sample_means\": 5.123606064847898, \"quantiles\": 5.136204403836838}, {\"sample_means\": 5.124997306787144, \"quantiles\": 5.136779683207352}, {\"sample_means\": 5.125162212909398, \"quantiles\": 5.137356778971928}, {\"sample_means\": 5.125384335130823, \"quantiles\": 5.137935710373911}, {\"sample_means\": 5.125455719986785, \"quantiles\": 5.138516496939462}, {\"sample_means\": 5.126187819234599, \"quantiles\": 5.139099158483347}, {\"sample_means\": 5.127289202149719, \"quantiles\": 5.139683715114884}, {\"sample_means\": 5.1283020696364705, \"quantiles\": 5.140270187244032}, {\"sample_means\": 5.128462234140968, \"quantiles\": 5.140858595587645}, {\"sample_means\": 5.129343891301322, \"quantiles\": 5.141448961175889}, {\"sample_means\": 5.131312056467499, \"quantiles\": 5.142041305358828}, {\"sample_means\": 5.132358020213089, \"quantiles\": 5.142635649813184}, {\"sample_means\": 5.133660658432794, \"quantiles\": 5.143232016549276}, {\"sample_means\": 5.135059361405795, \"quantiles\": 5.143830427918147}, {\"sample_means\": 5.135176565134614, \"quantiles\": 5.1444309066188785}, {\"sample_means\": 5.1356889899699665, \"quantiles\": 5.145033475706113}, {\"sample_means\": 5.135896967973178, \"quantiles\": 5.145638158597769}, {\"sample_means\": 5.138016543219562, \"quantiles\": 5.146244979082969}, {\"sample_means\": 5.138683696854928, \"quantiles\": 5.146853961330199}, {\"sample_means\": 5.139233828133963, \"quantiles\": 5.147465129895678}, {\"sample_means\": 5.140078529523763, \"quantiles\": 5.148078509731968}, {\"sample_means\": 5.140732462052172, \"quantiles\": 5.148694126196825}, {\"sample_means\": 5.140968117334584, \"quantiles\": 5.1493120050623}, {\"sample_means\": 5.141982856314142, \"quantiles\": 5.149932172524091}, {\"sample_means\": 5.142765828903491, \"quantiles\": 5.150554655211172}, {\"sample_means\": 5.143836746988866, \"quantiles\": 5.151179480195694}, {\"sample_means\": 5.145019880750811, \"quantiles\": 5.151806675003166}, {\"sample_means\": 5.145076346462656, \"quantiles\": 5.152436267622939}, {\"sample_means\": 5.145690702693876, \"quantiles\": 5.1530682865189945}, {\"sample_means\": 5.14585695107987, \"quantiles\": 5.153702760641048}, {\"sample_means\": 5.146700552338094, \"quantiles\": 5.154339719435978}, {\"sample_means\": 5.146987786175462, \"quantiles\": 5.154979192859604}, {\"sample_means\": 5.147772045559344, \"quantiles\": 5.155621211388806}, {\"sample_means\": 5.149710669975888, \"quantiles\": 5.156265806034017}, {\"sample_means\": 5.150351979121408, \"quantiles\": 5.156913008352086}, {\"sample_means\": 5.150376004808578, \"quantiles\": 5.157562850459548}, {\"sample_means\": 5.150547539571387, \"quantiles\": 5.158215365046276}, {\"sample_means\": 5.152417167261703, \"quantiles\": 5.158870585389583}, {\"sample_means\": 5.154305363237867, \"quantiles\": 5.15952854536874}, {\"sample_means\": 5.154891820124766, \"quantiles\": 5.16018927947996}, {\"sample_means\": 5.156384239535937, \"quantiles\": 5.1608528228518455}, {\"sample_means\": 5.15731716245842, \"quantiles\": 5.1615192112613375}, {\"sample_means\": 5.157815834182531, \"quantiles\": 5.162188481150155}, {\"sample_means\": 5.1582839173929615, \"quantiles\": 5.1628606696417805}, {\"sample_means\": 5.158526359168213, \"quantiles\": 5.163535814558982}, {\"sample_means\": 5.161353127402576, \"quantiles\": 5.164213954441908}, {\"sample_means\": 5.1619012962627275, \"quantiles\": 5.164895128566779}, {\"sample_means\": 5.16197450844186, \"quantiles\": 5.16557937696519}, {\"sample_means\": 5.162039576513313, \"quantiles\": 5.166266740444054}, {\"sample_means\": 5.163827459386308, \"quantiles\": 5.166957260606217}, {\"sample_means\": 5.164167996465476, \"quantiles\": 5.16765097987176}, {\"sample_means\": 5.1646130211228956, \"quantiles\": 5.168347941500029}, {\"sample_means\": 5.164742901579104, \"quantiles\": 5.169048189612411}, {\"sample_means\": 5.167482381354037, \"quantiles\": 5.1697517692159}, {\"sample_means\": 5.168545254538749, \"quantiles\": 5.1704587262274675}, {\"sample_means\": 5.168914791543461, \"quantiles\": 5.171169107499296}, {\"sample_means\": 5.169006197754595, \"quantiles\": 5.171882960844885}, {\"sample_means\": 5.169437840493467, \"quantiles\": 5.172600335066093}, {\"sample_means\": 5.170213910353348, \"quantiles\": 5.173321279981135}, {\"sample_means\": 5.171059990561913, \"quantiles\": 5.174045846453581}, {\"sample_means\": 5.172733574482377, \"quantiles\": 5.174774086422416}, {\"sample_means\": 5.173141573601041, \"quantiles\": 5.175506052933184}, {\"sample_means\": 5.1736555211930835, \"quantiles\": 5.176241800170278}, {\"sample_means\": 5.175673612361426, \"quantiles\": 5.176981383490425}, {\"sample_means\": 5.176267307963226, \"quantiles\": 5.177724859457416}, {\"sample_means\": 5.17688709097536, \"quantiles\": 5.178472285878148}, {\"sample_means\": 5.177102949800026, \"quantiles\": 5.179223721840018}, {\"sample_means\": 5.177318499543108, \"quantiles\": 5.179979227749753}, {\"sample_means\": 5.178017347675955, \"quantiles\": 5.180738865373726}, {\"sample_means\": 5.18047786459726, \"quantiles\": 5.181502697879843}, {\"sample_means\": 5.181384605246005, \"quantiles\": 5.182270789881052}, {\"sample_means\": 5.183699130018373, \"quantiles\": 5.1830432074805834}, {\"sample_means\": 5.183793715334547, \"quantiles\": 5.183820018318967}, {\"sample_means\": 5.184583958988848, \"quantiles\": 5.184601291622945}, {\"sample_means\": 5.1851062970309725, \"quantiles\": 5.185387098256355}, {\"sample_means\": 5.186085882745919, \"quantiles\": 5.186177510773078}, {\"sample_means\": 5.187778372987611, \"quantiles\": 5.186972603472168}, {\"sample_means\": 5.188372485378149, \"quantiles\": 5.187772452455257}, {\"sample_means\": 5.188614515195341, \"quantiles\": 5.188577135686358}, {\"sample_means\": 5.18879748545395, \"quantiles\": 5.189386733054184}, {\"sample_means\": 5.189523860254983, \"quantiles\": 5.190201326437121}, {\"sample_means\": 5.191170184516787, \"quantiles\": 5.191020999770968}, {\"sample_means\": 5.1912802047600515, \"quantiles\": 5.191845839119629}, {\"sample_means\": 5.1915084564834215, \"quantiles\": 5.1926759327488625}, {\"sample_means\": 5.191525676880137, \"quantiles\": 5.193511371203296}, {\"sample_means\": 5.1917513366226045, \"quantiles\": 5.194352247386848}, {\"sample_means\": 5.192318955993177, \"quantiles\": 5.195198656646763}, {\"sample_means\": 5.192471766727405, \"quantiles\": 5.196050696861438}, {\"sample_means\": 5.193585337192551, \"quantiles\": 5.196908468532269}, {\"sample_means\": 5.1936552897462684, \"quantiles\": 5.197772074879719}, {\"sample_means\": 5.193692651970507, \"quantiles\": 5.1986416219438665}, {\"sample_means\": 5.1938380832978295, \"quantiles\": 5.1995172186896745}, {\"sample_means\": 5.194320888931716, \"quantiles\": 5.200398977117243}, {\"sample_means\": 5.194885601752107, \"quantiles\": 5.201287012377359}, {\"sample_means\": 5.196695714882259, \"quantiles\": 5.202181442892623}, {\"sample_means\": 5.199442619403738, \"quantiles\": 5.203082390484502}, {\"sample_means\": 5.200371586151223, \"quantiles\": 5.203989980506645}, {\"sample_means\": 5.200492906226204, \"quantiles\": 5.204904341984856}, {\"sample_means\": 5.200558916727188, \"quantiles\": 5.205825607764115}, {\"sample_means\": 5.200831631136498, \"quantiles\": 5.206753914663074}, {\"sample_means\": 5.201128656385984, \"quantiles\": 5.207689403636513}, {\"sample_means\": 5.20260771043729, \"quantiles\": 5.208632219946236}, {\"sample_means\": 5.202989569562792, \"quantiles\": 5.20958251334095}, {\"sample_means\": 5.2033374769236325, \"quantiles\": 5.210540438245696}, {\"sample_means\": 5.204013541683744, \"quantiles\": 5.211506153961454}, {\"sample_means\": 5.2078703176182986, \"quantiles\": 5.212479824875603}, {\"sample_means\": 5.208593036750503, \"quantiles\": 5.213461620683909}, {\"sample_means\": 5.210874501745537, \"quantiles\": 5.214451716624882}, {\"sample_means\": 5.211218579212576, \"quantiles\": 5.215450293727263}, {\"sample_means\": 5.213477094678232, \"quantiles\": 5.216457539071608}, {\"sample_means\": 5.215612198164091, \"quantiles\": 5.217473646066901}, {\"sample_means\": 5.215919931807961, \"quantiles\": 5.218498814743268}, {\"sample_means\": 5.215988919163387, \"quantiles\": 5.219533252061936}, {\"sample_means\": 5.216723875366702, \"quantiles\": 5.220577172243671}, {\"sample_means\": 5.216881068872899, \"quantiles\": 5.22163079711704}, {\"sample_means\": 5.21688348243907, \"quantiles\": 5.222694356487959}, {\"sample_means\": 5.2191754793976255, \"quantiles\": 5.223768088532113}, {\"sample_means\": 5.220845528722479, \"quantiles\": 5.22485224021198}, {\"sample_means\": 5.220983004290886, \"quantiles\": 5.225947067720337}, {\"sample_means\": 5.222348434943487, \"quantiles\": 5.227052836952294}, {\"sample_means\": 5.2231221926811955, \"quantiles\": 5.228169824008127}, {\"sample_means\": 5.223675374815481, \"quantiles\": 5.229298315729325}, {\"sample_means\": 5.22395604225707, \"quantiles\": 5.230438610270555}, {\"sample_means\": 5.224591701774448, \"quantiles\": 5.231591017710486}, {\"sample_means\": 5.227662227642188, \"quantiles\": 5.232755860704684}, {\"sample_means\": 5.228300296849482, \"quantiles\": 5.233933475184131}, {\"sample_means\": 5.228631214890002, \"quantiles\": 5.23512421110327}, {\"sample_means\": 5.229544825040421, \"quantiles\": 5.236328433241854}, {\"sample_means\": 5.231196168354114, \"quantiles\": 5.237546522065342}, {\"sample_means\": 5.2320500100051675, \"quantiles\": 5.238778874649074}, {\"sample_means\": 5.232342655108907, \"quantiles\": 5.240025905672}, {\"sample_means\": 5.233557986658347, \"quantiles\": 5.241288048486383}, {\"sample_means\": 5.234859597126957, \"quantiles\": 5.2425657562705705}, {\"sample_means\": 5.236573221670204, \"quantiles\": 5.243859503272745}, {\"sample_means\": 5.236752584922552, \"quantiles\": 5.245169786154441}, {\"sample_means\": 5.240412257004515, \"quantiles\": 5.246497125443635}, {\"sample_means\": 5.240821644062216, \"quantiles\": 5.24784206710836}, {\"sample_means\": 5.243090895703172, \"quantiles\": 5.249205184263095}, {\"sample_means\": 5.243906484191891, \"quantiles\": 5.25058707902166}, {\"sample_means\": 5.246527824363928, \"quantiles\": 5.251988384512057}, {\"sample_means\": 5.248756650902282, \"quantiles\": 5.2534097670706155}, {\"sample_means\": 5.2496052139728775, \"quantiles\": 5.254851928635009}, {\"sample_means\": 5.252863853552606, \"quantiles\": 5.256315609358302}, {\"sample_means\": 5.25466878650155, \"quantiles\": 5.257801590469068}, {\"sample_means\": 5.257093404179342, \"quantiles\": 5.25931069740605}, {\"sample_means\": 5.257876428128618, \"quantiles\": 5.260843803259756}, {\"sample_means\": 5.258115877215829, \"quantiles\": 5.262401832557913}, {\"sample_means\": 5.26207793454863, \"quantiles\": 5.263985765437069}, {\"sample_means\": 5.263874470988834, \"quantiles\": 5.265596642248784}, {\"sample_means\": 5.2658657267582, \"quantiles\": 5.26723556865615}, {\"sample_means\": 5.265900042481656, \"quantiles\": 5.268903721284922}, {\"sample_means\": 5.266078620781721, \"quantiles\": 5.270602354003638}, {\"sample_means\": 5.267158920759947, \"quantiles\": 5.2723328049189995}, {\"sample_means\": 5.267641797562468, \"quantiles\": 5.274096504187032}, {\"sample_means\": 5.268988687475873, \"quantiles\": 5.275894982757393}, {\"sample_means\": 5.271760590361317, \"quantiles\": 5.277729882188521}, {\"sample_means\": 5.273024373953234, \"quantiles\": 5.279602965695618}, {\"sample_means\": 5.2755974535075785, \"quantiles\": 5.281516130622955}, {\"sample_means\": 5.277920155964695, \"quantiles\": 5.283471422567664}, {\"sample_means\": 5.27864519181181, \"quantiles\": 5.285471051425796}, {\"sample_means\": 5.281659297217248, \"quantiles\": 5.287517409684772}, {\"sample_means\": 5.286786173035782, \"quantiles\": 5.289613093352253}, {\"sample_means\": 5.287738600163196, \"quantiles\": 5.291760925993015}, {\"sample_means\": 5.291644582546769, \"quantiles\": 5.293963986447173}, {\"sample_means\": 5.2928209501352015, \"quantiles\": 5.296225640930869}, {\"sample_means\": 5.293856663668193, \"quantiles\": 5.298549580381877}, {\"sample_means\": 5.295737233714194, \"quantiles\": 5.300939864118012}, {\"sample_means\": 5.298488621054419, \"quantiles\": 5.303400971139644}, {\"sample_means\": 5.308244539877158, \"quantiles\": 5.305937860748187}, {\"sample_means\": 5.317101666052374, \"quantiles\": 5.308556044596658}, {\"sample_means\": 5.318883043876454, \"quantiles\": 5.311261672873117}, {\"sample_means\": 5.32420922910975, \"quantiles\": 5.3140616380953185}, {\"sample_means\": 5.326990839344773, \"quantiles\": 5.316963701039832}, {\"sample_means\": 5.329442370780492, \"quantiles\": 5.31997664474966}, {\"sample_means\": 5.329981806027297, \"quantiles\": 5.323110464520539}, {\"sample_means\": 5.33632041889977, \"quantiles\": 5.326376604496281}, {\"sample_means\": 5.337169069118291, \"quantiles\": 5.329788255371176}, {\"sample_means\": 5.339279204438057, \"quantiles\": 5.3333607332660415}, {\"sample_means\": 5.3444363008226485, \"quantiles\": 5.337111968006784}, {\"sample_means\": 5.347895712724237, \"quantiles\": 5.341063141236647}, {\"sample_means\": 5.350910119572112, \"quantiles\": 5.345239533439688}, {\"sample_means\": 5.353872105545332, \"quantiles\": 5.349671668152778}, {\"sample_means\": 5.354087184218947, \"quantiles\": 5.35439688864728}, {\"sample_means\": 5.358805089492435, \"quantiles\": 5.359461580426451}, {\"sample_means\": 5.363497168468992, \"quantiles\": 5.364924387256853}, {\"sample_means\": 5.364564396529779, \"quantiles\": 5.37086100951075}, {\"sample_means\": 5.364764283480733, \"quantiles\": 5.377371627506796}, {\"sample_means\": 5.370874128158099, \"quantiles\": 5.3845928979011495}, {\"sample_means\": 5.37187338700282, \"quantiles\": 5.392718407452918}, {\"sample_means\": 5.381162499963844, \"quantiles\": 5.402035983656106}, {\"sample_means\": 5.384621428494713, \"quantiles\": 5.413002022897983}, {\"sample_means\": 5.403281882804228, \"quantiles\": 5.4264085179564105}, {\"sample_means\": 5.407912367530982, \"quantiles\": 5.443831008848593}, {\"sample_means\": 5.508169307586597, \"quantiles\": 5.469240567127139}, {\"sample_means\": 5.537693948643608, \"quantiles\": 5.520277958659184}], \"data-dc9b9be9025c11ca6026b230f3ce2f8e\": [{\"x\": 4.282114798268726, \"y\": 4.282114798268726}, {\"x\": 5.637693948643608, \"y\": 5.637693948643608}]}}, {\"mode\": \"vega-lite\"});\n",
       "</script>"
      ],
      "text/plain": [
       "alt.LayerChart(...)"
      ]
     },
     "execution_count": 6,
     "metadata": {},
     "output_type": "execute_result"
    }
   ],
   "source": [
    "unit_mesh = [1 - (1 / len(sample_means)) * ix - (0.5 / len(sample_means)) for ix in range(0,len(sample_means))]\n",
    "quantile_vals = [stats.norm.isf(u, loc = 5, scale = clt_scale) for u in unit_mesh]\n",
    "sample_means.sort()\n",
    "quant_df = pd.DataFrame({\n",
    "    \"sample_means\": sample_means,\n",
    "    \"quantiles\": quantile_vals})\n",
    "\n",
    "ab_lims = [min(sample_means)-0.1, max(sample_means)+0.1]\n",
    "abline_df = pd.DataFrame({\"x\": ab_lims, \"y\": ab_lims})\n",
    "\n",
    "quant_points = (alt\n",
    "                   .Chart(quant_df)\n",
    "                   .mark_point()\n",
    "                   .encode(x =  alt.X('sample_means:Q',\n",
    "                                      scale=alt.Scale(zero=False),\n",
    "                                      title = \"Sample mean quantile\"),\n",
    "                           y = alt.Y('quantiles:Q',\n",
    "                                      scale=alt.Scale(zero=False),\n",
    "                                      title = \"Normal quantile\")))\n",
    "\n",
    "ab_line = (alt\n",
    "          .Chart(abline_df)\n",
    "          .mark_line(color = \"red\")\n",
    "          .encode(x = \"x\", y = \"y\"))\n",
    "\n",
    "quant_points + ab_line"
   ]
  },
  {
   "cell_type": "markdown",
   "metadata": {},
   "source": [
    "**XW NOTES**\n",
    "\n",
    "We are building sampling distribution and the SD of the sampling distribution is the sample error\n",
    "\n",
    "SD of sampling distribution is narrower that the population distribution because we are creating samples and so they will be concentrated around the mean\n",
    "\n",
    "Exponential distribution has a single parameter, the rate parameter, the rate (which here is 1/5)\n",
    "Scale here is what the python library uses for rate\n",
    "\n",
    "Normality test just tells you the probability is is normal or not\n",
    "Quantile-quantile plot tells you why it is not \n",
    "\n",
    "Understand what CIs are and how they relate to CLT\n",
    "\n",
    "Red line shows the binomial distribution of the # of heads\n",
    "\n",
    "\n",
    "#is it correct to calculate p for each student (coin) and then the take the mean value of all the ps? ",
    "I get 0.401 as well"
   ]
  },
  {
   "cell_type": "markdown",
   "metadata": {},
   "source": [
    "## Experimental results: flipping coins in series\n",
    "\n",
    "Professor Mittens asked 15 of his students to each take turns flipping a coin 30 times and recording how many heads they got. He has a sneaking suspicion that some of the students did not actually do this properly, that they just wrote down some garbage and went to lunch early. We will help Mittens work out whether the coin that was used was fair, i.e. has an equal chance of showing heads or tails.\n",
    "\n",
    "### Exercise 3 part I\n",
    "\n",
    "Read the data in `experiement1.csv` into a `DataFrame`."
   ]
  },
  {
   "cell_type": "code",
   "execution_count": 7,
   "metadata": {},
   "outputs": [],
   "source": [
    "exp1 = pd.read_csv(\"experiment1.csv\")"
   ]
  },
  {
   "cell_type": "markdown",
   "metadata": {},
   "source": [
    "### Exercise 3 part II\n",
    "\n",
    "Compute the point estimate and CI using the function you wrote above. Write a sentence explaining whether you think the coin is a _fair_ coin."
   ]
  },
  {
   "cell_type": "code",
   "execution_count": 8,
   "metadata": {},
   "outputs": [
    {
     "name": "stdout",
     "output_type": "stream",
     "text": [
      "(0.5, (0.4538023569624789, 0.546197643037521))\n"
     ]
    }
   ],
   "source": [
    "head_counts = exp1.drop(columns=\"flip_number\").groupby(\"name\").sum()\n",
    "head_counts[\"name\"] = head_counts.index.copy()\n",
    "\n",
    "total_heads = int(head_counts[\"outcome\"].sum())\n",
    "num_people = int(head_counts[\"name\"].unique().size)\n",
    "num_flips = int(exp1[\"name\"].value_counts().unique())\n",
    "\n",
    "est_and_ci = wald_estimate_and_ci(num_success=total_heads, \n",
    "                                  num_trials=num_people * num_flips)\n",
    "\n",
    "print(est_and_ci)"
   ]
  },
  {
   "cell_type": "markdown",
   "metadata": {},
   "source": [
    "### Partial answer\n",
    "\n",
    "We estimate the probability of heads as 0.49 with a $95\\%$ CI of (0.45,0.54). We are not able to reject the null hypothesis that the coin is fair."
   ]
  },
  {
   "cell_type": "markdown",
   "metadata": {},
   "source": [
    "### Exercise 3 part III\n",
    "\n",
    "Generate a histogram of the number of heads from each student. As an extension, include the binomial distribution supported by your estimate that is most amenable to large value outcomes."
   ]
  },
  {
   "cell_type": "code",
   "execution_count": 9,
   "metadata": {},
   "outputs": [
    {
     "data": {
      "application/vnd.vegalite.v2+json": {
       "$schema": "https://vega.github.io/schema/vega-lite/v2.6.0.json",
       "config": {
        "view": {
         "height": 300,
         "width": 400
        }
       },
       "datasets": {
        "data-3e36b5971c6b02f0d186c5079c3e0618": [
         {
          "name": 0,
          "outcome": 9
         },
         {
          "name": 1,
          "outcome": 13
         },
         {
          "name": 2,
          "outcome": 17
         },
         {
          "name": 3,
          "outcome": 17
         },
         {
          "name": 4,
          "outcome": 14
         },
         {
          "name": 5,
          "outcome": 7
         },
         {
          "name": 6,
          "outcome": 13
         },
         {
          "name": 7,
          "outcome": 13
         },
         {
          "name": 8,
          "outcome": 12
         },
         {
          "name": 9,
          "outcome": 14
         },
         {
          "name": 10,
          "outcome": 10
         },
         {
          "name": 11,
          "outcome": 11
         },
         {
          "name": 12,
          "outcome": 12
         },
         {
          "name": 13,
          "outcome": 30
         },
         {
          "name": 14,
          "outcome": 30
         }
        ],
        "data-cfdea387a9d3fe79a5e21938a28ab58a": [
         {
          "prob": 1.1450546362065415e-09,
          "value": 0
         },
         {
          "prob": 4.032583718814352e-08,
          "value": 1
         },
         {
          "prob": 6.86415880832954e-07,
          "value": 2
         },
         {
          "prob": 7.520730520430741e-06,
          "value": 3
         },
         {
          "prob": 5.959361466732567e-05,
          "value": 4
         },
         {
          "prob": 0.0003637801521431553,
          "value": 5
         },
         {
          "prob": 0.0017793594398306492,
          "value": 6
         },
         {
          "prob": 0.007161645447268646,
          "value": 7
         },
         {
          "prob": 0.024170553384531716,
          "value": 8
         },
         {
          "prob": 0.06935897927735199,
          "value": 9
         },
         {
          "prob": 0.17098496195764634,
          "value": 10
         },
         {
          "prob": 0.3649481401467542,
          "value": 11
         },
         {
          "prob": 0.678327521359728,
          "value": 12
         },
         {
          "prob": 1.1025658039492623,
          "value": 13
         },
         {
          "prob": 1.571669888238224,
          "value": 14
         },
         {
          "prob": 1.9680040339678633,
          "value": 15
         },
         {
          "prob": 2.1658740047744147,
          "value": 16
         },
         {
          "prob": 2.093862848605462,
          "value": 17
         },
         {
          "prob": 1.7752315455567964,
          "value": 18
         },
         {
          "prob": 1.316189978856755,
          "value": 19
         },
         {
          "prob": 0.8498009211314287,
          "value": 20
         },
         {
          "prob": 0.47504399317905865,
          "value": 21
         },
         {
          "prob": 0.2281337753804567,
          "value": 22
         },
         {
          "prob": 0.09315103115723739,
          "value": 23
         },
         {
          "prob": 0.031894103059271685,
          "value": 24
         },
         {
          "prob": 0.008985816861916563,
          "value": 25
         },
         {
          "prob": 0.00202857069625205,
          "value": 26
         },
         {
          "prob": 0.00035279490369601377,
          "value": 27
         },
         {
          "prob": 4.437327204872156e-05,
          "value": 28
         },
         {
          "prob": 3.592438816538233e-06,
          "value": 29
         },
         {
          "prob": 1.4057369282106098e-07,
          "value": 30
         }
        ]
       },
       "layer": [
        {
         "data": {
          "name": "data-3e36b5971c6b02f0d186c5079c3e0618"
         },
         "encoding": {
          "x": {
           "bin": {
            "step": 1
           },
           "field": "outcome",
           "title": "Number of heads",
           "type": "quantitative"
          },
          "y": {
           "aggregate": "count",
           "title": "Number of occurences",
           "type": "quantitative"
          }
         },
         "mark": "bar"
        },
        {
         "data": {
          "name": "data-cfdea387a9d3fe79a5e21938a28ab58a"
         },
         "encoding": {
          "x": {
           "field": "value",
           "type": "quantitative"
          },
          "y": {
           "field": "prob",
           "type": "quantitative"
          }
         },
         "mark": {
          "color": "firebrick",
          "type": "line"
         }
        }
       ]
      },
      "image/png": "[encoded data removed]",
      "text/plain": [
       "<VegaLite 2 object>\n",
       "\n",
       "If you see this message, it means the renderer has not been properly enabled\n",
       "for the frontend that you are using. For more information, see\n",
       "https://altair-viz.github.io/user_guide/troubleshooting.html\n"
      ]
     },
     "execution_count": 9,
     "metadata": {},
     "output_type": "execute_result"
    }
   ],
   "source": [
    "fig_1_a = (alt\n",
    "           .Chart(head_counts)\n",
    "           .mark_bar()\n",
    "           .encode(alt.X(\"outcome:Q\",\n",
    "                         bin = alt.BinParams(step = 1),\n",
    "                         title = \"Number of heads\"),\n",
    "                   y = alt.Y(\"count()\",\n",
    "                            title = \"Number of occurences\")))\n",
    "\n",
    "k_vals = range(0,31)\n",
    "k_probs = [num_people * stats.binom.pmf(k = k, n = num_flips, p = 0.540) for k in k_vals]\n",
    "binom_dist_df = pd.DataFrame({\"value\": k_vals,\n",
    "                              \"prob\": k_probs})\n",
    "\n",
    "fig_1_b = (alt\n",
    "           .Chart(binom_dist_df)\n",
    "           .mark_line(color= \"firebrick\")\n",
    "           .encode(x = \"value\", \n",
    "                   y = \"prob\"))\n",
    "\n",
    "\n",
    "fig_1_a + fig_1_b"
   ]
  },
  {
   "cell_type": "markdown",
   "metadata": {},
   "source": [
    "### Exercise 4 part I\n",
    "\n",
    "It looks like there might be a couple of strange points in this dataset as Mittens suspected. Using the upper bound on $p$ calculate the probability of someone getting all heads. Write a couple of sentences explaining whether you think it is reasonable to remove those data points."
   ]
  },
  {
   "cell_type": "code",
   "execution_count": 10,
   "metadata": {},
   "outputs": [
    {
     "data": {
      "text/plain": [
       "9.371579521404065e-09"
      ]
     },
     "execution_count": 10,
     "metadata": {},
     "output_type": "execute_result"
    }
   ],
   "source": [
    "stats.binom.pmf(k = 30, n = 30, p = 0.54)"
   ]
  },
  {
   "cell_type": "markdown",
   "metadata": {},
   "source": [
    "### Exercise 4 part II\n",
    "\n",
    "Remove the outliers and repeat the process of plotting the data and estimating the parameters and CI. Once you have done this, plot the distribution of the estimated binomial distribution on top of the histogram. Write a couple of sentences explaining what you think about the coin now."
   ]
  },
  {
   "cell_type": "code",
   "execution_count": 11,
   "metadata": {},
   "outputs": [
    {
     "data": {
      "text/plain": [
       "(0.4153846153846154, (0.3664761437453554, 0.4642930870238754))"
      ]
     },
     "execution_count": 11,
     "metadata": {},
     "output_type": "execute_result"
    }
   ],
   "source": [
    "head_counts_clean = head_counts.loc[head_counts[\"outcome\"] < 30]\n",
    "\n",
    "total_heads_clean = int(head_counts_clean[\"outcome\"].sum())\n",
    "num_people_clean = int(head_counts_clean[\"name\"].unique().size)\n",
    "\n",
    "wald_estimate_and_ci(num_success=total_heads_clean, num_trials=num_people_clean * num_flips)"
   ]
  },
  {
   "cell_type": "code",
   "execution_count": 12,
   "metadata": {},
   "outputs": [
    {
     "data": {
      "application/vnd.vegalite.v2+json": {
       "$schema": "https://vega.github.io/schema/vega-lite/v2.6.0.json",
       "config": {
        "view": {
         "height": 300,
         "width": 400
        }
       },
       "datasets": {
        "data-651c4f148c5a2518b55f662c52a2ece8": [
         {
          "name": 0,
          "outcome": 9
         },
         {
          "name": 1,
          "outcome": 13
         },
         {
          "name": 2,
          "outcome": 17
         },
         {
          "name": 3,
          "outcome": 17
         },
         {
          "name": 4,
          "outcome": 14
         },
         {
          "name": 5,
          "outcome": 7
         },
         {
          "name": 6,
          "outcome": 13
         },
         {
          "name": 7,
          "outcome": 13
         },
         {
          "name": 8,
          "outcome": 12
         },
         {
          "name": 9,
          "outcome": 14
         },
         {
          "name": 10,
          "outcome": 10
         },
         {
          "name": 11,
          "outcome": 11
         },
         {
          "name": 12,
          "outcome": 12
         }
        ],
        "data-9fc575678913ae2cd8cec04951321779": [
         {
          "prob": 1.3446812053531815e-06,
          "value": 0
         },
         {
          "prob": 2.861757437033696e-05,
          "value": 1
         },
         {
          "prob": 0.0002943696645700855,
          "value": 2
         },
         {
          "prob": 0.0019490458702589434,
          "value": 3
         },
         {
          "prob": 0.00933293118643215,
          "value": 4
         },
         {
          "prob": 0.03442814615439438,
          "value": 5
         },
         {
          "prob": 0.10176410722274656,
          "value": 6
         },
         {
          "prob": 0.2475141655527599,
          "value": 7
         },
         {
          "prob": 0.5048125449147636,
          "value": 8
         },
         {
          "prob": 0.8753919344865728,
          "value": 9
         },
         {
          "prob": 1.3041095229146151,
          "value": 10
         },
         {
          "prob": 1.682068226913952,
          "value": 11
         },
         {
          "prob": 1.889331619546509,
          "value": 12
         },
         {
          "prob": 1.8557931884303078,
          "value": 13
         },
         {
          "prob": 1.5986106159188909,
          "value": 14
         },
         {
          "prob": 1.2096609105072862,
          "value": 15
         },
         {
          "prob": 0.804502047853403,
          "value": 16
         },
         {
          "prob": 0.47000069361772845,
          "value": 17
         },
         {
          "prob": 0.24080282450784724,
          "value": 18
         },
         {
          "prob": 0.10789006442186948,
          "value": 19
         },
         {
          "prob": 0.0420955678705843,
          "value": 20
         },
         {
          "prob": 0.014220318002680022,
          "value": 21
         },
         {
          "prob": 0.004126875504274278,
          "value": 22
         },
         {
          "prob": 0.0010183000129461565,
          "value": 23
         },
         {
          "prob": 0.0002106952662114393,
          "value": 24
         },
         {
          "prob": 3.587221968317836e-05,
          "value": 25
         },
         {
          "prob": 4.893810377553899e-06,
          "value": 26
         },
         {
          "prob": 5.143225847888285e-07,
          "value": 27
         },
         {
          "prob": 3.909228437497448e-08,
          "value": 28
         },
         {
          "prob": 1.912560921381039e-09,
          "value": 29
         },
         {
          "prob": 4.522579956542049e-11,
          "value": 30
         }
        ]
       },
       "layer": [
        {
         "data": {
          "name": "data-651c4f148c5a2518b55f662c52a2ece8"
         },
         "encoding": {
          "x": {
           "bin": {
            "step": 1
           },
           "field": "outcome",
           "title": "Number of heads",
           "type": "quantitative"
          },
          "y": {
           "aggregate": "count",
           "title": "Number of occurences",
           "type": "quantitative"
          }
         },
         "mark": "bar"
        },
        {
         "data": {
          "name": "data-9fc575678913ae2cd8cec04951321779"
         },
         "encoding": {
          "x": {
           "field": "value",
           "type": "quantitative"
          },
          "y": {
           "field": "prob",
           "type": "quantitative"
          }
         },
         "mark": {
          "color": "firebrick",
          "type": "line"
         }
        }
       ]
      },
      "image/png": "[encoded data removed]",
      "text/plain": [
       "<VegaLite 2 object>\n",
       "\n",
       "If you see this message, it means the renderer has not been properly enabled\n",
       "for the frontend that you are using. For more information, see\n",
       "https://altair-viz.github.io/user_guide/troubleshooting.html\n"
      ]
     },
     "execution_count": 12,
     "metadata": {},
     "output_type": "execute_result"
    }
   ],
   "source": [
    "k_vals = range(0,31)\n",
    "k_probs = [num_people_clean * stats.binom.pmf(k = k, n = num_flips, p = 0.415) for k in k_vals]\n",
    "binom_dist_df = pd.DataFrame({\"value\": k_vals,\n",
    "                              \"prob\": k_probs})\n",
    "\n",
    "fig_2_a = (alt\n",
    "           .Chart(head_counts_clean)\n",
    "           .mark_bar()\n",
    "           .encode(alt.X(\"outcome:Q\",\n",
    "                         bin = alt.BinParams(step = 1),\n",
    "                         title = \"Number of heads\"),\n",
    "                   y = alt.Y(\"count()\",\n",
    "                            title = \"Number of occurences\")))\n",
    "\n",
    "fig_2_b = (alt\n",
    "           .Chart(binom_dist_df)\n",
    "           .mark_line(color= \"firebrick\")\n",
    "           .encode(x = \"value\", y = \"prob\"))\n",
    "\n",
    "fig_2_a + fig_2_b"
   ]
  },
  {
   "cell_type": "markdown",
   "metadata": {},
   "source": [
    "## Experimental results: flipping coins in parallel\n",
    "\n",
    "After the success of his first experiment, Mittens was lauded as a statistical wizard. The royal mint has become interested and is providing additional funds to obtain an additional 49 coins and repeat the experiment to gather more data about the fascinating topic of coin bias. Now he gives each of 50 students a coin each and asks them to flip the coin 30 times and record the results. We will help Mittens work out whether the coins are fair.\n",
    "\n",
    "### Excercise 5 part I\n",
    "\n",
    "Do we need to change anything about how we analyse this data? If so, why, if not, why not? **Hint:** there are good arguments that can be given for each answer. Once you have answered one way, try to answer the other way. "
   ]
  },
  {
   "cell_type": "markdown",
   "metadata": {},
   "source": [
    "### Partial answer\n",
    "\n",
    "If you assume the coins have the same probability of heads it is fine. If you assume that the coins vary then you would need to adjust the model."
   ]
  },
  {
   "cell_type": "markdown",
   "metadata": {},
   "source": [
    "### Exercise 5 part II\n",
    "\n",
    "Using the data in `experiment2.csv` explore the data set using the methodology devised above and write a couple of sentences to explain what you found."
   ]
  },
  {
   "cell_type": "code",
   "execution_count": 13,
   "metadata": {},
   "outputs": [
    {
     "name": "stdout",
     "output_type": "stream",
     "text": [
      "(0.4013333333333333, (0.37652739859779666, 0.42613926806887))\n"
     ]
    }
   ],
   "source": [
    "exp2 = pd.read_csv(\"experiment2.csv\")\n",
    "\n",
    "head_counts = exp2.drop(columns=\"flip_number\").groupby(\"name\").sum()\n",
    "head_counts[\"name\"] = head_counts.index.copy()\n",
    "\n",
    "total_heads = int(head_counts[\"outcome\"].sum())\n",
    "num_people = int(head_counts[\"name\"].unique().size)\n",
    "num_flips = int(exp2[\"name\"].value_counts().unique())\n",
    "\n",
    "wald_estimate = wald_estimate_and_ci(num_success=total_heads, \n",
    "                                     num_trials=num_people * num_flips)\n",
    "\n",
    "print(wald_estimate)"
   ]
  },
  {
   "cell_type": "markdown",
   "metadata": {},
   "source": [
    "### Exercise 5 part III\n",
    "\n",
    "Visualise the number of heads each student got and compare the variance in this to what is predicted by theory. Revise your answer to part I of this exercise."
   ]
  },
  {
   "cell_type": "code",
   "execution_count": 14,
   "metadata": {},
   "outputs": [
    {
     "name": "stdout",
     "output_type": "stream",
     "text": [
      "18.69224489795919 7.2079466666666665\n"
     ]
    },
    {
     "data": {
      "application/vnd.vegalite.v2+json": {
       "$schema": "https://vega.github.io/schema/vega-lite/v2.6.0.json",
       "config": {
        "view": {
         "height": 300,
         "width": 400
        }
       },
       "data": {
        "name": "data-6848c08f6b43d814c683ff191c0a1025"
       },
       "datasets": {
        "data-6848c08f6b43d814c683ff191c0a1025": [
         {
          "name": 0,
          "outcome": 7
         },
         {
          "name": 1,
          "outcome": 7
         },
         {
          "name": 2,
          "outcome": 4
         },
         {
          "name": 3,
          "outcome": 7
         },
         {
          "name": 4,
          "outcome": 4
         },
         {
          "name": 5,
          "outcome": 4
         },
         {
          "name": 6,
          "outcome": 10
         },
         {
          "name": 7,
          "outcome": 7
         },
         {
          "name": 8,
          "outcome": 11
         },
         {
          "name": 9,
          "outcome": 3
         },
         {
          "name": 10,
          "outcome": 12
         },
         {
          "name": 11,
          "outcome": 10
         },
         {
          "name": 12,
          "outcome": 12
         },
         {
          "name": 13,
          "outcome": 12
         },
         {
          "name": 14,
          "outcome": 9
         },
         {
          "name": 15,
          "outcome": 14
         },
         {
          "name": 16,
          "outcome": 9
         },
         {
          "name": 17,
          "outcome": 6
         },
         {
          "name": 18,
          "outcome": 9
         },
         {
          "name": 19,
          "outcome": 10
         },
         {
          "name": 20,
          "outcome": 13
         },
         {
          "name": 21,
          "outcome": 15
         },
         {
          "name": 22,
          "outcome": 10
         },
         {
          "name": 23,
          "outcome": 15
         },
         {
          "name": 24,
          "outcome": 12
         },
         {
          "name": 25,
          "outcome": 13
         },
         {
          "name": 26,
          "outcome": 15
         },
         {
          "name": 27,
          "outcome": 15
         },
         {
          "name": 28,
          "outcome": 8
         },
         {
          "name": 29,
          "outcome": 9
         },
         {
          "name": 30,
          "outcome": 13
         },
         {
          "name": 31,
          "outcome": 11
         },
         {
          "name": 32,
          "outcome": 13
         },
         {
          "name": 33,
          "outcome": 13
         },
         {
          "name": 34,
          "outcome": 19
         },
         {
          "name": 35,
          "outcome": 16
         },
         {
          "name": 36,
          "outcome": 20
         },
         {
          "name": 37,
          "outcome": 16
         },
         {
          "name": 38,
          "outcome": 17
         },
         {
          "name": 39,
          "outcome": 11
         },
         {
          "name": 40,
          "outcome": 17
         },
         {
          "name": 41,
          "outcome": 11
         },
         {
          "name": 42,
          "outcome": 16
         },
         {
          "name": 43,
          "outcome": 15
         },
         {
          "name": 44,
          "outcome": 15
         },
         {
          "name": 45,
          "outcome": 18
         },
         {
          "name": 46,
          "outcome": 15
         },
         {
          "name": 47,
          "outcome": 16
         },
         {
          "name": 48,
          "outcome": 18
         },
         {
          "name": 49,
          "outcome": 20
         }
        ]
       },
       "encoding": {
        "x": {
         "field": "name",
         "type": "quantitative"
        },
        "y": {
         "field": "outcome",
         "type": "quantitative"
        }
       },
       "mark": "point"
      },
      "image/png": "[encoded data removed]",
      "text/plain": [
       "<VegaLite 2 object>\n",
       "\n",
       "If you see this message, it means the renderer has not been properly enabled\n",
       "for the frontend that you are using. For more information, see\n",
       "https://altair-viz.github.io/user_guide/troubleshooting.html\n"
      ]
     },
     "execution_count": 14,
     "metadata": {},
     "output_type": "execute_result"
    }
   ],
   "source": [
    "emp_var = head_counts[\"outcome\"].var()\n",
    "thry_var = stats.binom.var(n = num_flips, p = wald_estimate[0])\n",
    "\n",
    "print(emp_var,thry_var)\n",
    "\n",
    "alt.Chart(head_counts).mark_point().encode(\n",
    "    x = \"name\",\n",
    "    y = \"outcome\"\n",
    ")"
   ]
  },
  {
   "cell_type": "markdown",
   "metadata": {},
   "source": [
    "### Partial answer\n",
    "\n",
    "- There appears to be systematic differences in the number of heads obtained.\n",
    "- The variance is too great.\n",
    "- It seems that we should not consider all the coins as identical.\n",
    "\n"
   ]
  },
  {
   "cell_type": "markdown",
   "metadata": {},
   "source": [
    "### Exercise 5 part IV (Extension)\n",
    "\n",
    "Consider how you might analyse this data. Over the following weeks you will learn a couple of approaches."
   ]
  },
  {
   "cell_type": "markdown",
   "metadata": {},
   "source": [
    "### Partial answer\n",
    "\n",
    "One could use a negative binomial distribution if one were interested in an empirical analysis or a hierarchical model if one were interested in a structural analysis."
   ]
  },
  {
   "cell_type": "markdown",
   "metadata": {},
   "source": [
    "## Epilogue\n",
    "\n",
    "Professor Mittens' work was published in a top tier journal and he was lauded as a statistical wizard. Rumour has it he will soon be elected to the British Acadmey."
   ]
  }
 ],
 "metadata": {
  "kernelspec": {
   "display_name": "Python 3",
   "language": "python",
   "name": "python3"
  },
  "language_info": {
   "codemirror_mode": {
    "name": "ipython",
    "version": 3
   },
   "file_extension": ".py",
   "mimetype": "text/x-python",
   "name": "python",
   "nbconvert_exporter": "python",
   "pygments_lexer": "ipython3",
   "version": "3.7.6"
  }
 },
 "nbformat": 4,
 "nbformat_minor": 4
}
